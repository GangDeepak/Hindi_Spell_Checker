{
 "cells": [
  {
   "cell_type": "code",
   "execution_count": 1,
   "id": "ced055f5",
   "metadata": {
    "_cell_guid": "b1076dfc-b9ad-4769-8c92-a6c4dae69d19",
    "_uuid": "8f2839f25d086af736a60e9eeb907d3b93b6e0e5",
    "execution": {
     "iopub.execute_input": "2024-11-20T22:58:24.012813Z",
     "iopub.status.busy": "2024-11-20T22:58:24.012513Z",
     "iopub.status.idle": "2024-11-20T22:58:24.741514Z",
     "shell.execute_reply": "2024-11-20T22:58:24.740600Z"
    },
    "papermill": {
     "duration": 0.744056,
     "end_time": "2024-11-20T22:58:24.743364",
     "exception": false,
     "start_time": "2024-11-20T22:58:23.999308",
     "status": "completed"
    },
    "tags": []
   },
   "outputs": [
    {
     "name": "stdout",
     "output_type": "stream",
     "text": [
      "/kaggle/input/hindi-sentence/data_sentence.csv\n"
     ]
    }
   ],
   "source": [
    "import numpy as np # linear algebra\n",
    "import pandas as pd # data processing, CSV file I/O (e.g. pd.read_csv)\n",
    "\n",
    "import os\n",
    "for dirname, _, filenames in os.walk('/kaggle/input'):\n",
    "    for filename in filenames:\n",
    "        print(os.path.join(dirname, filename))\n"
   ]
  },
  {
   "cell_type": "code",
   "execution_count": 2,
   "id": "229edb55",
   "metadata": {
    "execution": {
     "iopub.execute_input": "2024-11-20T22:58:24.764920Z",
     "iopub.status.busy": "2024-11-20T22:58:24.764420Z",
     "iopub.status.idle": "2024-11-20T22:58:30.652097Z",
     "shell.execute_reply": "2024-11-20T22:58:30.651410Z"
    },
    "papermill": {
     "duration": 5.900384,
     "end_time": "2024-11-20T22:58:30.654258",
     "exception": false,
     "start_time": "2024-11-20T22:58:24.753874",
     "status": "completed"
    },
    "tags": []
   },
   "outputs": [],
   "source": [
    "df = pd.read_csv(\"/kaggle/input/hindi-sentence/data_sentence.csv\")"
   ]
  },
  {
   "cell_type": "code",
   "execution_count": 3,
   "id": "b83893eb",
   "metadata": {
    "execution": {
     "iopub.execute_input": "2024-11-20T22:58:30.675495Z",
     "iopub.status.busy": "2024-11-20T22:58:30.675245Z",
     "iopub.status.idle": "2024-11-20T22:58:30.680957Z",
     "shell.execute_reply": "2024-11-20T22:58:30.680207Z"
    },
    "papermill": {
     "duration": 0.018105,
     "end_time": "2024-11-20T22:58:30.682716",
     "exception": false,
     "start_time": "2024-11-20T22:58:30.664611",
     "status": "completed"
    },
    "tags": []
   },
   "outputs": [
    {
     "data": {
      "text/plain": [
       "(379092, 2)"
      ]
     },
     "execution_count": 3,
     "metadata": {},
     "output_type": "execute_result"
    }
   ],
   "source": [
    "df.shape"
   ]
  },
  {
   "cell_type": "code",
   "execution_count": 4,
   "id": "930bc183",
   "metadata": {
    "execution": {
     "iopub.execute_input": "2024-11-20T22:58:30.703294Z",
     "iopub.status.busy": "2024-11-20T22:58:30.703047Z",
     "iopub.status.idle": "2024-11-20T22:58:30.727530Z",
     "shell.execute_reply": "2024-11-20T22:58:30.726873Z"
    },
    "papermill": {
     "duration": 0.036585,
     "end_time": "2024-11-20T22:58:30.729200",
     "exception": false,
     "start_time": "2024-11-20T22:58:30.692615",
     "status": "completed"
    },
    "tags": []
   },
   "outputs": [
    {
     "data": {
      "text/html": [
       "<div>\n",
       "<style scoped>\n",
       "    .dataframe tbody tr th:only-of-type {\n",
       "        vertical-align: middle;\n",
       "    }\n",
       "\n",
       "    .dataframe tbody tr th {\n",
       "        vertical-align: top;\n",
       "    }\n",
       "\n",
       "    .dataframe thead th {\n",
       "        text-align: right;\n",
       "    }\n",
       "</style>\n",
       "<table border=\"1\" class=\"dataframe\">\n",
       "  <thead>\n",
       "    <tr style=\"text-align: right;\">\n",
       "      <th></th>\n",
       "      <th>source</th>\n",
       "      <th>target</th>\n",
       "    </tr>\n",
       "  </thead>\n",
       "  <tbody>\n",
       "    <tr>\n",
       "      <th>71833</th>\n",
       "      <td>इनका निर्माण राख धूल व असंगठित् पदार्थों से हो...</td>\n",
       "      <td>इनका निर्माण राख धूल व असंगठित पदार्थों से होत...</td>\n",
       "    </tr>\n",
       "  </tbody>\n",
       "</table>\n",
       "</div>"
      ],
      "text/plain": [
       "                                                  source  \\\n",
       "71833  इनका निर्माण राख धूल व असंगठित् पदार्थों से हो...   \n",
       "\n",
       "                                                  target  \n",
       "71833  इनका निर्माण राख धूल व असंगठित पदार्थों से होत...  "
      ]
     },
     "execution_count": 4,
     "metadata": {},
     "output_type": "execute_result"
    }
   ],
   "source": [
    "df.sample()"
   ]
  },
  {
   "cell_type": "code",
   "execution_count": 5,
   "id": "f9ad2d6f",
   "metadata": {
    "execution": {
     "iopub.execute_input": "2024-11-20T22:58:30.750526Z",
     "iopub.status.busy": "2024-11-20T22:58:30.750078Z",
     "iopub.status.idle": "2024-11-20T22:58:30.857792Z",
     "shell.execute_reply": "2024-11-20T22:58:30.856972Z"
    },
    "papermill": {
     "duration": 0.120164,
     "end_time": "2024-11-20T22:58:30.859633",
     "exception": false,
     "start_time": "2024-11-20T22:58:30.739469",
     "status": "completed"
    },
    "tags": []
   },
   "outputs": [],
   "source": [
    "df = df.dropna()"
   ]
  },
  {
   "cell_type": "code",
   "execution_count": 6,
   "id": "01c0215a",
   "metadata": {
    "execution": {
     "iopub.execute_input": "2024-11-20T22:58:30.881933Z",
     "iopub.status.busy": "2024-11-20T22:58:30.881685Z",
     "iopub.status.idle": "2024-11-20T22:58:30.886754Z",
     "shell.execute_reply": "2024-11-20T22:58:30.885890Z"
    },
    "papermill": {
     "duration": 0.017801,
     "end_time": "2024-11-20T22:58:30.888422",
     "exception": false,
     "start_time": "2024-11-20T22:58:30.870621",
     "status": "completed"
    },
    "tags": []
   },
   "outputs": [
    {
     "data": {
      "text/plain": [
       "(379089, 2)"
      ]
     },
     "execution_count": 6,
     "metadata": {},
     "output_type": "execute_result"
    }
   ],
   "source": [
    "df.shape"
   ]
  },
  {
   "cell_type": "code",
   "execution_count": 7,
   "id": "929d6beb",
   "metadata": {
    "execution": {
     "iopub.execute_input": "2024-11-20T22:58:30.909723Z",
     "iopub.status.busy": "2024-11-20T22:58:30.909426Z",
     "iopub.status.idle": "2024-11-20T22:58:30.917134Z",
     "shell.execute_reply": "2024-11-20T22:58:30.916394Z"
    },
    "papermill": {
     "duration": 0.020279,
     "end_time": "2024-11-20T22:58:30.918789",
     "exception": false,
     "start_time": "2024-11-20T22:58:30.898510",
     "status": "completed"
    },
    "tags": []
   },
   "outputs": [
    {
     "data": {
      "text/html": [
       "<div>\n",
       "<style scoped>\n",
       "    .dataframe tbody tr th:only-of-type {\n",
       "        vertical-align: middle;\n",
       "    }\n",
       "\n",
       "    .dataframe tbody tr th {\n",
       "        vertical-align: top;\n",
       "    }\n",
       "\n",
       "    .dataframe thead th {\n",
       "        text-align: right;\n",
       "    }\n",
       "</style>\n",
       "<table border=\"1\" class=\"dataframe\">\n",
       "  <thead>\n",
       "    <tr style=\"text-align: right;\">\n",
       "      <th></th>\n",
       "      <th>source</th>\n",
       "      <th>target</th>\n",
       "    </tr>\n",
       "  </thead>\n",
       "  <tbody>\n",
       "    <tr>\n",
       "      <th>0</th>\n",
       "      <td>भूमंढलीय ऊस्मीकरण का अर्थ पृथ्वी की निकटस्थसतह...</td>\n",
       "      <td>भूमंडलीय ऊष्मीकरण का अर्थ पृथ्वी की निकटस्थसतह...</td>\n",
       "    </tr>\n",
       "    <tr>\n",
       "      <th>1</th>\n",
       "      <td>पृथ्वी की सतह के निकट विस्व की वायू के औसत् ता...</td>\n",
       "      <td>पृथ्वी की सतह के निकट विश्व की वायु के औसत ताप...</td>\n",
       "    </tr>\n",
       "    <tr>\n",
       "      <th>2</th>\n",
       "      <td>जलवायू परिवर्तन पर बैठे अंतरसरकार पैनल ने निस्...</td>\n",
       "      <td>जलवायु परिवर्तन पर बैठे अंतरसरकार पैनल ने निष्...</td>\n",
       "    </tr>\n",
       "    <tr>\n",
       "      <th>3</th>\n",
       "      <td>जैसा कि नाम से ही स्पस्ट है धरती के वातावरण के...</td>\n",
       "      <td>जैसा कि नाम से ही स्पष्ट है धरती के वातावरण के...</td>\n",
       "    </tr>\n",
       "    <tr>\n",
       "      <th>4</th>\n",
       "      <td>हमारी धरती सूरय की किरणों से उस्मा प्रराप्त् क...</td>\n",
       "      <td>हमारी धरती सूर्य की किरणों से उष्मा प्राप्त कर...</td>\n",
       "    </tr>\n",
       "  </tbody>\n",
       "</table>\n",
       "</div>"
      ],
      "text/plain": [
       "                                              source  \\\n",
       "0  भूमंढलीय ऊस्मीकरण का अर्थ पृथ्वी की निकटस्थसतह...   \n",
       "1  पृथ्वी की सतह के निकट विस्व की वायू के औसत् ता...   \n",
       "2  जलवायू परिवर्तन पर बैठे अंतरसरकार पैनल ने निस्...   \n",
       "3  जैसा कि नाम से ही स्पस्ट है धरती के वातावरण के...   \n",
       "4  हमारी धरती सूरय की किरणों से उस्मा प्रराप्त् क...   \n",
       "\n",
       "                                              target  \n",
       "0  भूमंडलीय ऊष्मीकरण का अर्थ पृथ्वी की निकटस्थसतह...  \n",
       "1  पृथ्वी की सतह के निकट विश्व की वायु के औसत ताप...  \n",
       "2  जलवायु परिवर्तन पर बैठे अंतरसरकार पैनल ने निष्...  \n",
       "3  जैसा कि नाम से ही स्पष्ट है धरती के वातावरण के...  \n",
       "4  हमारी धरती सूर्य की किरणों से उष्मा प्राप्त कर...  "
      ]
     },
     "execution_count": 7,
     "metadata": {},
     "output_type": "execute_result"
    }
   ],
   "source": [
    "df.head()"
   ]
  },
  {
   "cell_type": "code",
   "execution_count": 8,
   "id": "0417ba33",
   "metadata": {
    "execution": {
     "iopub.execute_input": "2024-11-20T22:58:30.940391Z",
     "iopub.status.busy": "2024-11-20T22:58:30.940158Z",
     "iopub.status.idle": "2024-11-20T22:58:31.522131Z",
     "shell.execute_reply": "2024-11-20T22:58:31.521417Z"
    },
    "papermill": {
     "duration": 0.594945,
     "end_time": "2024-11-20T22:58:31.524192",
     "exception": false,
     "start_time": "2024-11-20T22:58:30.929247",
     "status": "completed"
    },
    "tags": []
   },
   "outputs": [],
   "source": [
    "df['source_len'] = df['source'].apply(lambda x : len(x.split(\" \")))"
   ]
  },
  {
   "cell_type": "code",
   "execution_count": 9,
   "id": "09e82a2c",
   "metadata": {
    "execution": {
     "iopub.execute_input": "2024-11-20T22:58:31.546121Z",
     "iopub.status.busy": "2024-11-20T22:58:31.545877Z",
     "iopub.status.idle": "2024-11-20T22:58:31.556826Z",
     "shell.execute_reply": "2024-11-20T22:58:31.556261Z"
    },
    "papermill": {
     "duration": 0.023536,
     "end_time": "2024-11-20T22:58:31.558466",
     "exception": false,
     "start_time": "2024-11-20T22:58:31.534930",
     "status": "completed"
    },
    "tags": []
   },
   "outputs": [],
   "source": [
    "df = df[df['source_len'] <= 10]"
   ]
  },
  {
   "cell_type": "code",
   "execution_count": 10,
   "id": "e05178ef",
   "metadata": {
    "execution": {
     "iopub.execute_input": "2024-11-20T22:58:31.579617Z",
     "iopub.status.busy": "2024-11-20T22:58:31.579356Z",
     "iopub.status.idle": "2024-11-20T22:58:31.584297Z",
     "shell.execute_reply": "2024-11-20T22:58:31.583464Z"
    },
    "papermill": {
     "duration": 0.017208,
     "end_time": "2024-11-20T22:58:31.585901",
     "exception": false,
     "start_time": "2024-11-20T22:58:31.568693",
     "status": "completed"
    },
    "tags": []
   },
   "outputs": [
    {
     "data": {
      "text/plain": [
       "(71585, 3)"
      ]
     },
     "execution_count": 10,
     "metadata": {},
     "output_type": "execute_result"
    }
   ],
   "source": [
    "df.shape"
   ]
  },
  {
   "cell_type": "code",
   "execution_count": 11,
   "id": "415d610f",
   "metadata": {
    "execution": {
     "iopub.execute_input": "2024-11-20T22:58:31.607252Z",
     "iopub.status.busy": "2024-11-20T22:58:31.607005Z",
     "iopub.status.idle": "2024-11-20T22:58:31.614787Z",
     "shell.execute_reply": "2024-11-20T22:58:31.614008Z"
    },
    "papermill": {
     "duration": 0.020005,
     "end_time": "2024-11-20T22:58:31.616270",
     "exception": false,
     "start_time": "2024-11-20T22:58:31.596265",
     "status": "completed"
    },
    "tags": []
   },
   "outputs": [
    {
     "data": {
      "text/html": [
       "<div>\n",
       "<style scoped>\n",
       "    .dataframe tbody tr th:only-of-type {\n",
       "        vertical-align: middle;\n",
       "    }\n",
       "\n",
       "    .dataframe tbody tr th {\n",
       "        vertical-align: top;\n",
       "    }\n",
       "\n",
       "    .dataframe thead th {\n",
       "        text-align: right;\n",
       "    }\n",
       "</style>\n",
       "<table border=\"1\" class=\"dataframe\">\n",
       "  <thead>\n",
       "    <tr style=\"text-align: right;\">\n",
       "      <th></th>\n",
       "      <th>source</th>\n",
       "      <th>target</th>\n",
       "      <th>source_len</th>\n",
       "    </tr>\n",
       "  </thead>\n",
       "  <tbody>\n",
       "    <tr>\n",
       "      <th>4</th>\n",
       "      <td>हमारी धरती सूरय की किरणों से उस्मा प्रराप्त् क...</td>\n",
       "      <td>हमारी धरती सूर्य की किरणों से उष्मा प्राप्त कर...</td>\n",
       "      <td>10</td>\n",
       "    </tr>\n",
       "    <tr>\n",
       "      <th>22</th>\n",
       "      <td>बाध्यता का कोयी भी प्ररभाव तात्कालिक् नहीं है</td>\n",
       "      <td>बाध्यता का कोई भी प्रभाव तात्कालिक नहीं है</td>\n",
       "      <td>8</td>\n",
       "    </tr>\n",
       "    <tr>\n",
       "      <th>99</th>\n",
       "      <td>से निपटने के लिये अपने प्ररयास दूगने कर दे</td>\n",
       "      <td>से निपटने के लिए अपने प्रयास दुगने कर दे</td>\n",
       "      <td>9</td>\n",
       "    </tr>\n",
       "    <tr>\n",
       "      <th>104</th>\n",
       "      <td>में परिवर्तन सामिल है</td>\n",
       "      <td>में  परिवर्तन शामिल है</td>\n",
       "      <td>4</td>\n",
       "    </tr>\n",
       "    <tr>\n",
       "      <th>105</th>\n",
       "      <td>में परिवर्तन है</td>\n",
       "      <td>में  परिवर्तन है</td>\n",
       "      <td>3</td>\n",
       "    </tr>\n",
       "  </tbody>\n",
       "</table>\n",
       "</div>"
      ],
      "text/plain": [
       "                                                source  \\\n",
       "4    हमारी धरती सूरय की किरणों से उस्मा प्रराप्त् क...   \n",
       "22       बाध्यता का कोयी भी प्ररभाव तात्कालिक् नहीं है   \n",
       "99          से निपटने के लिये अपने प्ररयास दूगने कर दे   \n",
       "104                              में परिवर्तन सामिल है   \n",
       "105                                    में परिवर्तन है   \n",
       "\n",
       "                                                target  source_len  \n",
       "4    हमारी धरती सूर्य की किरणों से उष्मा प्राप्त कर...          10  \n",
       "22          बाध्यता का कोई भी प्रभाव तात्कालिक नहीं है           8  \n",
       "99            से निपटने के लिए अपने प्रयास दुगने कर दे           9  \n",
       "104                             में  परिवर्तन शामिल है           4  \n",
       "105                                   में  परिवर्तन है           3  "
      ]
     },
     "execution_count": 11,
     "metadata": {},
     "output_type": "execute_result"
    }
   ],
   "source": [
    "df.head()"
   ]
  },
  {
   "cell_type": "code",
   "execution_count": 12,
   "id": "9898bff2",
   "metadata": {
    "execution": {
     "iopub.execute_input": "2024-11-20T22:58:31.637860Z",
     "iopub.status.busy": "2024-11-20T22:58:31.637609Z",
     "iopub.status.idle": "2024-11-20T22:58:40.645289Z",
     "shell.execute_reply": "2024-11-20T22:58:40.644138Z"
    },
    "papermill": {
     "duration": 9.020325,
     "end_time": "2024-11-20T22:58:40.647042",
     "exception": false,
     "start_time": "2024-11-20T22:58:31.626717",
     "status": "completed"
    },
    "tags": []
   },
   "outputs": [
    {
     "name": "stdout",
     "output_type": "stream",
     "text": [
      "Requirement already satisfied: nltk in /opt/conda/lib/python3.10/site-packages (3.2.4)\r\n",
      "Requirement already satisfied: six in /opt/conda/lib/python3.10/site-packages (from nltk) (1.16.0)\r\n",
      "Note: you may need to restart the kernel to use updated packages.\n"
     ]
    }
   ],
   "source": [
    "pip install nltk"
   ]
  },
  {
   "cell_type": "code",
   "execution_count": 13,
   "id": "56a5028a",
   "metadata": {
    "execution": {
     "iopub.execute_input": "2024-11-20T22:58:40.670369Z",
     "iopub.status.busy": "2024-11-20T22:58:40.670042Z",
     "iopub.status.idle": "2024-11-20T22:58:53.808628Z",
     "shell.execute_reply": "2024-11-20T22:58:53.807683Z"
    },
    "papermill": {
     "duration": 13.152727,
     "end_time": "2024-11-20T22:58:53.810801",
     "exception": false,
     "start_time": "2024-11-20T22:58:40.658074",
     "status": "completed"
    },
    "tags": []
   },
   "outputs": [],
   "source": [
    "import nltk\n",
    "from nltk.tokenize import word_tokenize,sent_tokenize\n",
    "from nltk.corpus import indian\n",
    "from nltk.stem.porter import PorterStemmer\n",
    "import matplotlib.pyplot as plt\n",
    "from keras.models import Sequential,Model\n",
    "from keras.layers import Input,Embedding, LSTM, Dense\n",
    "from tensorflow.keras.preprocessing.text import Tokenizer\n",
    "from sklearn.model_selection import train_test_split\n",
    "from tensorflow.keras.preprocessing.sequence import pad_sequences\n",
    "import numpy as np\n",
    "import pandas as pd"
   ]
  },
  {
   "cell_type": "code",
   "execution_count": 14,
   "id": "ab80e40d",
   "metadata": {
    "execution": {
     "iopub.execute_input": "2024-11-20T22:58:53.833937Z",
     "iopub.status.busy": "2024-11-20T22:58:53.833400Z",
     "iopub.status.idle": "2024-11-20T22:59:05.058927Z",
     "shell.execute_reply": "2024-11-20T22:59:05.058208Z"
    },
    "papermill": {
     "duration": 11.239365,
     "end_time": "2024-11-20T22:59:05.061022",
     "exception": false,
     "start_time": "2024-11-20T22:58:53.821657",
     "status": "completed"
    },
    "tags": []
   },
   "outputs": [],
   "source": [
    "def do_tokenization(text):\n",
    "    token_words = word_tokenize(text)\n",
    "    return token_words\n",
    "\n",
    "df['source_token'] = df['source'].apply(do_tokenization)\n",
    "df['target_token'] = df['target'].apply(do_tokenization)"
   ]
  },
  {
   "cell_type": "code",
   "execution_count": 15,
   "id": "126432ee",
   "metadata": {
    "execution": {
     "iopub.execute_input": "2024-11-20T22:59:05.083905Z",
     "iopub.status.busy": "2024-11-20T22:59:05.083585Z",
     "iopub.status.idle": "2024-11-20T22:59:05.100282Z",
     "shell.execute_reply": "2024-11-20T22:59:05.099483Z"
    },
    "papermill": {
     "duration": 0.029785,
     "end_time": "2024-11-20T22:59:05.101877",
     "exception": false,
     "start_time": "2024-11-20T22:59:05.072092",
     "status": "completed"
    },
    "tags": []
   },
   "outputs": [
    {
     "data": {
      "text/html": [
       "<div>\n",
       "<style scoped>\n",
       "    .dataframe tbody tr th:only-of-type {\n",
       "        vertical-align: middle;\n",
       "    }\n",
       "\n",
       "    .dataframe tbody tr th {\n",
       "        vertical-align: top;\n",
       "    }\n",
       "\n",
       "    .dataframe thead th {\n",
       "        text-align: right;\n",
       "    }\n",
       "</style>\n",
       "<table border=\"1\" class=\"dataframe\">\n",
       "  <thead>\n",
       "    <tr style=\"text-align: right;\">\n",
       "      <th></th>\n",
       "      <th>source</th>\n",
       "      <th>target</th>\n",
       "      <th>source_len</th>\n",
       "      <th>source_token</th>\n",
       "      <th>target_token</th>\n",
       "    </tr>\n",
       "  </thead>\n",
       "  <tbody>\n",
       "    <tr>\n",
       "      <th>4</th>\n",
       "      <td>हमारी धरती सूरय की किरणों से उस्मा प्रराप्त् क...</td>\n",
       "      <td>हमारी धरती सूर्य की किरणों से उष्मा प्राप्त कर...</td>\n",
       "      <td>10</td>\n",
       "      <td>[हमारी, धरती, सूरय, की, किरणों, से, उस्मा, प्र...</td>\n",
       "      <td>[हमारी, धरती, सूर्य, की, किरणों, से, उष्मा, प्...</td>\n",
       "    </tr>\n",
       "    <tr>\n",
       "      <th>22</th>\n",
       "      <td>बाध्यता का कोयी भी प्ररभाव तात्कालिक् नहीं है</td>\n",
       "      <td>बाध्यता का कोई भी प्रभाव तात्कालिक नहीं है</td>\n",
       "      <td>8</td>\n",
       "      <td>[बाध्यता, का, कोयी, भी, प्ररभाव, तात्कालिक्, न...</td>\n",
       "      <td>[बाध्यता, का, कोई, भी, प्रभाव, तात्कालिक, नहीं...</td>\n",
       "    </tr>\n",
       "    <tr>\n",
       "      <th>99</th>\n",
       "      <td>से निपटने के लिये अपने प्ररयास दूगने कर दे</td>\n",
       "      <td>से निपटने के लिए अपने प्रयास दुगने कर दे</td>\n",
       "      <td>9</td>\n",
       "      <td>[से, निपटने, के, लिये, अपने, प्ररयास, दूगने, क...</td>\n",
       "      <td>[से, निपटने, के, लिए, अपने, प्रयास, दुगने, कर,...</td>\n",
       "    </tr>\n",
       "    <tr>\n",
       "      <th>104</th>\n",
       "      <td>में परिवर्तन सामिल है</td>\n",
       "      <td>में  परिवर्तन शामिल है</td>\n",
       "      <td>4</td>\n",
       "      <td>[में, परिवर्तन, सामिल, है]</td>\n",
       "      <td>[में, परिवर्तन, शामिल, है]</td>\n",
       "    </tr>\n",
       "    <tr>\n",
       "      <th>105</th>\n",
       "      <td>में परिवर्तन है</td>\n",
       "      <td>में  परिवर्तन है</td>\n",
       "      <td>3</td>\n",
       "      <td>[में, परिवर्तन, है]</td>\n",
       "      <td>[में, परिवर्तन, है]</td>\n",
       "    </tr>\n",
       "    <tr>\n",
       "      <th>...</th>\n",
       "      <td>...</td>\n",
       "      <td>...</td>\n",
       "      <td>...</td>\n",
       "      <td>...</td>\n",
       "      <td>...</td>\n",
       "    </tr>\n",
       "    <tr>\n",
       "      <th>379058</th>\n",
       "      <td>लेकिन कोयी भी एक् जवाब कभी संतोसजनक् नहीं हो सकता</td>\n",
       "      <td>लेकिन कोई भी एक जवाब कभी संतोषजनक नहीं हो सकता</td>\n",
       "      <td>10</td>\n",
       "      <td>[लेकिन, कोयी, भी, एक्, जवाब, कभी, संतोसजनक्, न...</td>\n",
       "      <td>[लेकिन, कोई, भी, एक, जवाब, कभी, संतोषजनक, नहीं...</td>\n",
       "    </tr>\n",
       "    <tr>\n",
       "      <th>379073</th>\n",
       "      <td>वे लोग नीदरलैंढ के ऐम्सटरढम पहूंचे</td>\n",
       "      <td>वे लोग नीदरलैंड के ऐम्सटर्डम पहुंचे</td>\n",
       "      <td>6</td>\n",
       "      <td>[वे, लोग, नीदरलैंढ, के, ऐम्सटरढम, पहूंचे]</td>\n",
       "      <td>[वे, लोग, नीदरलैंड, के, ऐम्सटर्डम, पहुंचे]</td>\n",
       "    </tr>\n",
       "    <tr>\n",
       "      <th>379084</th>\n",
       "      <td>यह ढायरी ऐन को उसके वें जन्मदिन पर मिली थी</td>\n",
       "      <td>यह डायरी ऐन को उसके वें जन्मदिन पर मिली थी</td>\n",
       "      <td>10</td>\n",
       "      <td>[यह, ढायरी, ऐन, को, उसके, वें, जन्मदिन, पर, मि...</td>\n",
       "      <td>[यह, डायरी, ऐन, को, उसके, वें, जन्मदिन, पर, मि...</td>\n",
       "    </tr>\n",
       "    <tr>\n",
       "      <th>379087</th>\n",
       "      <td>यह ढायरी कयी नाटकों और फिलमों की बूनियाद् बनी</td>\n",
       "      <td>यह डायरी कई नाटकों और फिल्मों की बुनियाद बनी</td>\n",
       "      <td>9</td>\n",
       "      <td>[यह, ढायरी, कयी, नाटकों, और, फिलमों, की, बूनिय...</td>\n",
       "      <td>[यह, डायरी, कई, नाटकों, और, फिल्मों, की, बुनिय...</td>\n",
       "    </tr>\n",
       "    <tr>\n",
       "      <th>379091</th>\n",
       "      <td>वह मध्य प्ररदेस से हैं</td>\n",
       "      <td>वह मध्य प्रदेश से हैं</td>\n",
       "      <td>5</td>\n",
       "      <td>[वह, मध्य, प्ररदेस, से, हैं]</td>\n",
       "      <td>[वह, मध्य, प्रदेश, से, हैं]</td>\n",
       "    </tr>\n",
       "  </tbody>\n",
       "</table>\n",
       "<p>71585 rows × 5 columns</p>\n",
       "</div>"
      ],
      "text/plain": [
       "                                                   source  \\\n",
       "4       हमारी धरती सूरय की किरणों से उस्मा प्रराप्त् क...   \n",
       "22          बाध्यता का कोयी भी प्ररभाव तात्कालिक् नहीं है   \n",
       "99             से निपटने के लिये अपने प्ररयास दूगने कर दे   \n",
       "104                                 में परिवर्तन सामिल है   \n",
       "105                                       में परिवर्तन है   \n",
       "...                                                   ...   \n",
       "379058  लेकिन कोयी भी एक् जवाब कभी संतोसजनक् नहीं हो सकता   \n",
       "379073                 वे लोग नीदरलैंढ के ऐम्सटरढम पहूंचे   \n",
       "379084         यह ढायरी ऐन को उसके वें जन्मदिन पर मिली थी   \n",
       "379087      यह ढायरी कयी नाटकों और फिलमों की बूनियाद् बनी   \n",
       "379091                             वह मध्य प्ररदेस से हैं   \n",
       "\n",
       "                                                   target  source_len  \\\n",
       "4       हमारी धरती सूर्य की किरणों से उष्मा प्राप्त कर...          10   \n",
       "22             बाध्यता का कोई भी प्रभाव तात्कालिक नहीं है           8   \n",
       "99               से निपटने के लिए अपने प्रयास दुगने कर दे           9   \n",
       "104                                में  परिवर्तन शामिल है           4   \n",
       "105                                      में  परिवर्तन है           3   \n",
       "...                                                   ...         ...   \n",
       "379058     लेकिन कोई भी एक जवाब कभी संतोषजनक नहीं हो सकता          10   \n",
       "379073                वे लोग नीदरलैंड के ऐम्सटर्डम पहुंचे           6   \n",
       "379084         यह डायरी ऐन को उसके वें जन्मदिन पर मिली थी          10   \n",
       "379087       यह डायरी कई नाटकों और फिल्मों की बुनियाद बनी           9   \n",
       "379091                              वह मध्य प्रदेश से हैं           5   \n",
       "\n",
       "                                             source_token  \\\n",
       "4       [हमारी, धरती, सूरय, की, किरणों, से, उस्मा, प्र...   \n",
       "22      [बाध्यता, का, कोयी, भी, प्ररभाव, तात्कालिक्, न...   \n",
       "99      [से, निपटने, के, लिये, अपने, प्ररयास, दूगने, क...   \n",
       "104                            [में, परिवर्तन, सामिल, है]   \n",
       "105                                   [में, परिवर्तन, है]   \n",
       "...                                                   ...   \n",
       "379058  [लेकिन, कोयी, भी, एक्, जवाब, कभी, संतोसजनक्, न...   \n",
       "379073          [वे, लोग, नीदरलैंढ, के, ऐम्सटरढम, पहूंचे]   \n",
       "379084  [यह, ढायरी, ऐन, को, उसके, वें, जन्मदिन, पर, मि...   \n",
       "379087  [यह, ढायरी, कयी, नाटकों, और, फिलमों, की, बूनिय...   \n",
       "379091                       [वह, मध्य, प्ररदेस, से, हैं]   \n",
       "\n",
       "                                             target_token  \n",
       "4       [हमारी, धरती, सूर्य, की, किरणों, से, उष्मा, प्...  \n",
       "22      [बाध्यता, का, कोई, भी, प्रभाव, तात्कालिक, नहीं...  \n",
       "99      [से, निपटने, के, लिए, अपने, प्रयास, दुगने, कर,...  \n",
       "104                            [में, परिवर्तन, शामिल, है]  \n",
       "105                                   [में, परिवर्तन, है]  \n",
       "...                                                   ...  \n",
       "379058  [लेकिन, कोई, भी, एक, जवाब, कभी, संतोषजनक, नहीं...  \n",
       "379073         [वे, लोग, नीदरलैंड, के, ऐम्सटर्डम, पहुंचे]  \n",
       "379084  [यह, डायरी, ऐन, को, उसके, वें, जन्मदिन, पर, मि...  \n",
       "379087  [यह, डायरी, कई, नाटकों, और, फिल्मों, की, बुनिय...  \n",
       "379091                        [वह, मध्य, प्रदेश, से, हैं]  \n",
       "\n",
       "[71585 rows x 5 columns]"
      ]
     },
     "execution_count": 15,
     "metadata": {},
     "output_type": "execute_result"
    }
   ],
   "source": [
    "df"
   ]
  },
  {
   "cell_type": "code",
   "execution_count": 16,
   "id": "2e3a4f5f",
   "metadata": {
    "execution": {
     "iopub.execute_input": "2024-11-20T22:59:05.125113Z",
     "iopub.status.busy": "2024-11-20T22:59:05.124840Z",
     "iopub.status.idle": "2024-11-20T22:59:19.224789Z",
     "shell.execute_reply": "2024-11-20T22:59:19.224030Z"
    },
    "papermill": {
     "duration": 14.1138,
     "end_time": "2024-11-20T22:59:19.226860",
     "exception": false,
     "start_time": "2024-11-20T22:59:05.113060",
     "status": "completed"
    },
    "tags": []
   },
   "outputs": [],
   "source": [
    "def do_stemming(token_words):\n",
    "    ps = PorterStemmer()\n",
    "    # Check if token_words is a string; if so, split into words\n",
    "    if isinstance(token_words, str):\n",
    "        words = token_words.split()\n",
    "    else:\n",
    "        words = token_words  # Already a list\n",
    "    return [ps.stem(word) for word in words]\n",
    "\n",
    "# Apply the stemming function\n",
    "df['source_token'] = df['source_token'].apply(do_stemming)\n",
    "df['target_token'] = df['target_token'].apply(do_stemming)"
   ]
  },
  {
   "cell_type": "code",
   "execution_count": 17,
   "id": "87f89631",
   "metadata": {
    "execution": {
     "iopub.execute_input": "2024-11-20T22:59:19.251371Z",
     "iopub.status.busy": "2024-11-20T22:59:19.251054Z",
     "iopub.status.idle": "2024-11-20T22:59:19.265993Z",
     "shell.execute_reply": "2024-11-20T22:59:19.265174Z"
    },
    "papermill": {
     "duration": 0.02893,
     "end_time": "2024-11-20T22:59:19.267745",
     "exception": false,
     "start_time": "2024-11-20T22:59:19.238815",
     "status": "completed"
    },
    "tags": []
   },
   "outputs": [
    {
     "data": {
      "text/html": [
       "<div>\n",
       "<style scoped>\n",
       "    .dataframe tbody tr th:only-of-type {\n",
       "        vertical-align: middle;\n",
       "    }\n",
       "\n",
       "    .dataframe tbody tr th {\n",
       "        vertical-align: top;\n",
       "    }\n",
       "\n",
       "    .dataframe thead th {\n",
       "        text-align: right;\n",
       "    }\n",
       "</style>\n",
       "<table border=\"1\" class=\"dataframe\">\n",
       "  <thead>\n",
       "    <tr style=\"text-align: right;\">\n",
       "      <th></th>\n",
       "      <th>source</th>\n",
       "      <th>target</th>\n",
       "      <th>source_len</th>\n",
       "      <th>source_token</th>\n",
       "      <th>target_token</th>\n",
       "    </tr>\n",
       "  </thead>\n",
       "  <tbody>\n",
       "    <tr>\n",
       "      <th>4</th>\n",
       "      <td>हमारी धरती सूरय की किरणों से उस्मा प्रराप्त् क...</td>\n",
       "      <td>हमारी धरती सूर्य की किरणों से उष्मा प्राप्त कर...</td>\n",
       "      <td>10</td>\n",
       "      <td>[हमारी, धरती, सूरय, की, किरणों, से, उस्मा, प्र...</td>\n",
       "      <td>[हमारी, धरती, सूर्य, की, किरणों, से, उष्मा, प्...</td>\n",
       "    </tr>\n",
       "    <tr>\n",
       "      <th>22</th>\n",
       "      <td>बाध्यता का कोयी भी प्ररभाव तात्कालिक् नहीं है</td>\n",
       "      <td>बाध्यता का कोई भी प्रभाव तात्कालिक नहीं है</td>\n",
       "      <td>8</td>\n",
       "      <td>[बाध्यता, का, कोयी, भी, प्ररभाव, तात्कालिक्, न...</td>\n",
       "      <td>[बाध्यता, का, कोई, भी, प्रभाव, तात्कालिक, नहीं...</td>\n",
       "    </tr>\n",
       "    <tr>\n",
       "      <th>99</th>\n",
       "      <td>से निपटने के लिये अपने प्ररयास दूगने कर दे</td>\n",
       "      <td>से निपटने के लिए अपने प्रयास दुगने कर दे</td>\n",
       "      <td>9</td>\n",
       "      <td>[से, निपटने, के, लिये, अपने, प्ररयास, दूगने, क...</td>\n",
       "      <td>[से, निपटने, के, लिए, अपने, प्रयास, दुगने, कर,...</td>\n",
       "    </tr>\n",
       "    <tr>\n",
       "      <th>104</th>\n",
       "      <td>में परिवर्तन सामिल है</td>\n",
       "      <td>में  परिवर्तन शामिल है</td>\n",
       "      <td>4</td>\n",
       "      <td>[में, परिवर्तन, सामिल, है]</td>\n",
       "      <td>[में, परिवर्तन, शामिल, है]</td>\n",
       "    </tr>\n",
       "    <tr>\n",
       "      <th>105</th>\n",
       "      <td>में परिवर्तन है</td>\n",
       "      <td>में  परिवर्तन है</td>\n",
       "      <td>3</td>\n",
       "      <td>[में, परिवर्तन, है]</td>\n",
       "      <td>[में, परिवर्तन, है]</td>\n",
       "    </tr>\n",
       "    <tr>\n",
       "      <th>...</th>\n",
       "      <td>...</td>\n",
       "      <td>...</td>\n",
       "      <td>...</td>\n",
       "      <td>...</td>\n",
       "      <td>...</td>\n",
       "    </tr>\n",
       "    <tr>\n",
       "      <th>379058</th>\n",
       "      <td>लेकिन कोयी भी एक् जवाब कभी संतोसजनक् नहीं हो सकता</td>\n",
       "      <td>लेकिन कोई भी एक जवाब कभी संतोषजनक नहीं हो सकता</td>\n",
       "      <td>10</td>\n",
       "      <td>[लेकिन, कोयी, भी, एक्, जवाब, कभी, संतोसजनक्, न...</td>\n",
       "      <td>[लेकिन, कोई, भी, एक, जवाब, कभी, संतोषजनक, नहीं...</td>\n",
       "    </tr>\n",
       "    <tr>\n",
       "      <th>379073</th>\n",
       "      <td>वे लोग नीदरलैंढ के ऐम्सटरढम पहूंचे</td>\n",
       "      <td>वे लोग नीदरलैंड के ऐम्सटर्डम पहुंचे</td>\n",
       "      <td>6</td>\n",
       "      <td>[वे, लोग, नीदरलैंढ, के, ऐम्सटरढम, पहूंचे]</td>\n",
       "      <td>[वे, लोग, नीदरलैंड, के, ऐम्सटर्डम, पहुंचे]</td>\n",
       "    </tr>\n",
       "    <tr>\n",
       "      <th>379084</th>\n",
       "      <td>यह ढायरी ऐन को उसके वें जन्मदिन पर मिली थी</td>\n",
       "      <td>यह डायरी ऐन को उसके वें जन्मदिन पर मिली थी</td>\n",
       "      <td>10</td>\n",
       "      <td>[यह, ढायरी, ऐन, को, उसके, वें, जन्मदिन, पर, मि...</td>\n",
       "      <td>[यह, डायरी, ऐन, को, उसके, वें, जन्मदिन, पर, मि...</td>\n",
       "    </tr>\n",
       "    <tr>\n",
       "      <th>379087</th>\n",
       "      <td>यह ढायरी कयी नाटकों और फिलमों की बूनियाद् बनी</td>\n",
       "      <td>यह डायरी कई नाटकों और फिल्मों की बुनियाद बनी</td>\n",
       "      <td>9</td>\n",
       "      <td>[यह, ढायरी, कयी, नाटकों, और, फिलमों, की, बूनिय...</td>\n",
       "      <td>[यह, डायरी, कई, नाटकों, और, फिल्मों, की, बुनिय...</td>\n",
       "    </tr>\n",
       "    <tr>\n",
       "      <th>379091</th>\n",
       "      <td>वह मध्य प्ररदेस से हैं</td>\n",
       "      <td>वह मध्य प्रदेश से हैं</td>\n",
       "      <td>5</td>\n",
       "      <td>[वह, मध्य, प्ररदेस, से, हैं]</td>\n",
       "      <td>[वह, मध्य, प्रदेश, से, हैं]</td>\n",
       "    </tr>\n",
       "  </tbody>\n",
       "</table>\n",
       "<p>71585 rows × 5 columns</p>\n",
       "</div>"
      ],
      "text/plain": [
       "                                                   source  \\\n",
       "4       हमारी धरती सूरय की किरणों से उस्मा प्रराप्त् क...   \n",
       "22          बाध्यता का कोयी भी प्ररभाव तात्कालिक् नहीं है   \n",
       "99             से निपटने के लिये अपने प्ररयास दूगने कर दे   \n",
       "104                                 में परिवर्तन सामिल है   \n",
       "105                                       में परिवर्तन है   \n",
       "...                                                   ...   \n",
       "379058  लेकिन कोयी भी एक् जवाब कभी संतोसजनक् नहीं हो सकता   \n",
       "379073                 वे लोग नीदरलैंढ के ऐम्सटरढम पहूंचे   \n",
       "379084         यह ढायरी ऐन को उसके वें जन्मदिन पर मिली थी   \n",
       "379087      यह ढायरी कयी नाटकों और फिलमों की बूनियाद् बनी   \n",
       "379091                             वह मध्य प्ररदेस से हैं   \n",
       "\n",
       "                                                   target  source_len  \\\n",
       "4       हमारी धरती सूर्य की किरणों से उष्मा प्राप्त कर...          10   \n",
       "22             बाध्यता का कोई भी प्रभाव तात्कालिक नहीं है           8   \n",
       "99               से निपटने के लिए अपने प्रयास दुगने कर दे           9   \n",
       "104                                में  परिवर्तन शामिल है           4   \n",
       "105                                      में  परिवर्तन है           3   \n",
       "...                                                   ...         ...   \n",
       "379058     लेकिन कोई भी एक जवाब कभी संतोषजनक नहीं हो सकता          10   \n",
       "379073                वे लोग नीदरलैंड के ऐम्सटर्डम पहुंचे           6   \n",
       "379084         यह डायरी ऐन को उसके वें जन्मदिन पर मिली थी          10   \n",
       "379087       यह डायरी कई नाटकों और फिल्मों की बुनियाद बनी           9   \n",
       "379091                              वह मध्य प्रदेश से हैं           5   \n",
       "\n",
       "                                             source_token  \\\n",
       "4       [हमारी, धरती, सूरय, की, किरणों, से, उस्मा, प्र...   \n",
       "22      [बाध्यता, का, कोयी, भी, प्ररभाव, तात्कालिक्, न...   \n",
       "99      [से, निपटने, के, लिये, अपने, प्ररयास, दूगने, क...   \n",
       "104                            [में, परिवर्तन, सामिल, है]   \n",
       "105                                   [में, परिवर्तन, है]   \n",
       "...                                                   ...   \n",
       "379058  [लेकिन, कोयी, भी, एक्, जवाब, कभी, संतोसजनक्, न...   \n",
       "379073          [वे, लोग, नीदरलैंढ, के, ऐम्सटरढम, पहूंचे]   \n",
       "379084  [यह, ढायरी, ऐन, को, उसके, वें, जन्मदिन, पर, मि...   \n",
       "379087  [यह, ढायरी, कयी, नाटकों, और, फिलमों, की, बूनिय...   \n",
       "379091                       [वह, मध्य, प्ररदेस, से, हैं]   \n",
       "\n",
       "                                             target_token  \n",
       "4       [हमारी, धरती, सूर्य, की, किरणों, से, उष्मा, प्...  \n",
       "22      [बाध्यता, का, कोई, भी, प्रभाव, तात्कालिक, नहीं...  \n",
       "99      [से, निपटने, के, लिए, अपने, प्रयास, दुगने, कर,...  \n",
       "104                            [में, परिवर्तन, शामिल, है]  \n",
       "105                                   [में, परिवर्तन, है]  \n",
       "...                                                   ...  \n",
       "379058  [लेकिन, कोई, भी, एक, जवाब, कभी, संतोषजनक, नहीं...  \n",
       "379073         [वे, लोग, नीदरलैंड, के, ऐम्सटर्डम, पहुंचे]  \n",
       "379084  [यह, डायरी, ऐन, को, उसके, वें, जन्मदिन, पर, मि...  \n",
       "379087  [यह, डायरी, कई, नाटकों, और, फिल्मों, की, बुनिय...  \n",
       "379091                        [वह, मध्य, प्रदेश, से, हैं]  \n",
       "\n",
       "[71585 rows x 5 columns]"
      ]
     },
     "execution_count": 17,
     "metadata": {},
     "output_type": "execute_result"
    }
   ],
   "source": [
    "df"
   ]
  },
  {
   "cell_type": "code",
   "execution_count": 18,
   "id": "439bf80e",
   "metadata": {
    "execution": {
     "iopub.execute_input": "2024-11-20T22:59:19.291464Z",
     "iopub.status.busy": "2024-11-20T22:59:19.291201Z",
     "iopub.status.idle": "2024-11-20T22:59:19.320294Z",
     "shell.execute_reply": "2024-11-20T22:59:19.319510Z"
    },
    "papermill": {
     "duration": 0.042597,
     "end_time": "2024-11-20T22:59:19.321760",
     "exception": false,
     "start_time": "2024-11-20T22:59:19.279163",
     "status": "completed"
    },
    "tags": []
   },
   "outputs": [
    {
     "name": "stdout",
     "output_type": "stream",
     "text": [
      "Maximum sequence length in combined dataset x:  10\n",
      "Maximum sequence length in combined dataset x:  10\n"
     ]
    }
   ],
   "source": [
    "def calculate_max_sequence_length(text):\n",
    "    # Concatenate x_train_seq and x_test_seq\n",
    "    combined_sequences = text\n",
    "    max_length_combined = max(len(sequence) for sequence in combined_sequences)\n",
    "\n",
    "    return max_length_combined\n",
    "\n",
    "max_length_combined_x = calculate_max_sequence_length(df['source_token'])\n",
    "print(\"Maximum sequence length in combined dataset x: \", max_length_combined_x)\n",
    "max_length_combined_y = calculate_max_sequence_length(df['target_token'])\n",
    "print(\"Maximum sequence length in combined dataset x: \", max_length_combined_y)"
   ]
  },
  {
   "cell_type": "code",
   "execution_count": 19,
   "id": "84fa55dd",
   "metadata": {
    "execution": {
     "iopub.execute_input": "2024-11-20T22:59:19.345025Z",
     "iopub.status.busy": "2024-11-20T22:59:19.344790Z",
     "iopub.status.idle": "2024-11-20T22:59:19.869155Z",
     "shell.execute_reply": "2024-11-20T22:59:19.868440Z"
    },
    "papermill": {
     "duration": 0.538282,
     "end_time": "2024-11-20T22:59:19.871241",
     "exception": false,
     "start_time": "2024-11-20T22:59:19.332959",
     "status": "completed"
    },
    "tags": []
   },
   "outputs": [],
   "source": [
    "tok = Tokenizer()\n",
    "tok.fit_on_texts(df['source_token'])"
   ]
  },
  {
   "cell_type": "code",
   "execution_count": 20,
   "id": "afef973e",
   "metadata": {
    "execution": {
     "iopub.execute_input": "2024-11-20T22:59:19.895723Z",
     "iopub.status.busy": "2024-11-20T22:59:19.895396Z",
     "iopub.status.idle": "2024-11-20T22:59:20.449673Z",
     "shell.execute_reply": "2024-11-20T22:59:20.448953Z"
    },
    "papermill": {
     "duration": 0.568955,
     "end_time": "2024-11-20T22:59:20.451764",
     "exception": false,
     "start_time": "2024-11-20T22:59:19.882809",
     "status": "completed"
    },
    "tags": []
   },
   "outputs": [],
   "source": [
    "tok_hindi = Tokenizer()\n",
    "tok_hindi.fit_on_texts(df['target_token'])"
   ]
  },
  {
   "cell_type": "code",
   "execution_count": 21,
   "id": "edb93524",
   "metadata": {
    "execution": {
     "iopub.execute_input": "2024-11-20T22:59:20.476091Z",
     "iopub.status.busy": "2024-11-20T22:59:20.475536Z",
     "iopub.status.idle": "2024-11-20T22:59:20.479849Z",
     "shell.execute_reply": "2024-11-20T22:59:20.478968Z"
    },
    "papermill": {
     "duration": 0.017968,
     "end_time": "2024-11-20T22:59:20.481490",
     "exception": false,
     "start_time": "2024-11-20T22:59:20.463522",
     "status": "completed"
    },
    "tags": []
   },
   "outputs": [],
   "source": [
    "# Add special tokens to the Hindi tokenizer\n",
    "tok_hindi.word_index['<start>'] = len(tok_hindi.word_index) + 1\n",
    "tok_hindi.word_index['<end>'] = len(tok_hindi.word_index) + 1"
   ]
  },
  {
   "cell_type": "code",
   "execution_count": 22,
   "id": "afe77efd",
   "metadata": {
    "execution": {
     "iopub.execute_input": "2024-11-20T22:59:20.504523Z",
     "iopub.status.busy": "2024-11-20T22:59:20.504282Z",
     "iopub.status.idle": "2024-11-20T22:59:20.509516Z",
     "shell.execute_reply": "2024-11-20T22:59:20.508725Z"
    },
    "papermill": {
     "duration": 0.018481,
     "end_time": "2024-11-20T22:59:20.511051",
     "exception": false,
     "start_time": "2024-11-20T22:59:20.492570",
     "status": "completed"
    },
    "tags": []
   },
   "outputs": [
    {
     "data": {
      "text/plain": [
       "(61525, 62386)"
      ]
     },
     "execution_count": 22,
     "metadata": {},
     "output_type": "execute_result"
    }
   ],
   "source": [
    "len(tok.word_index), len(tok_hindi.word_index)"
   ]
  },
  {
   "cell_type": "code",
   "execution_count": 23,
   "id": "3670552b",
   "metadata": {
    "execution": {
     "iopub.execute_input": "2024-11-20T22:59:20.534544Z",
     "iopub.status.busy": "2024-11-20T22:59:20.534077Z",
     "iopub.status.idle": "2024-11-20T22:59:20.604621Z",
     "shell.execute_reply": "2024-11-20T22:59:20.603889Z"
    },
    "papermill": {
     "duration": 0.084252,
     "end_time": "2024-11-20T22:59:20.606390",
     "exception": false,
     "start_time": "2024-11-20T22:59:20.522138",
     "status": "completed"
    },
    "tags": []
   },
   "outputs": [],
   "source": [
    "def add_special_tokens(sequences, start_token='<start>', end_token='<end>'):\n",
    "    sequences_with_special_tokens = []\n",
    "    for sequence in sequences:\n",
    "        sequence_with_special_tokens = [start_token] + sequence + [end_token]\n",
    "        sequences_with_special_tokens.append(sequence_with_special_tokens)\n",
    "    return sequences_with_special_tokens\n",
    "\n",
    "df['target_token'] = add_special_tokens(df['target_token'])"
   ]
  },
  {
   "cell_type": "code",
   "execution_count": 24,
   "id": "ac67bc2d",
   "metadata": {
    "execution": {
     "iopub.execute_input": "2024-11-20T22:59:20.630115Z",
     "iopub.status.busy": "2024-11-20T22:59:20.629861Z",
     "iopub.status.idle": "2024-11-20T22:59:20.645494Z",
     "shell.execute_reply": "2024-11-20T22:59:20.644721Z"
    },
    "papermill": {
     "duration": 0.029064,
     "end_time": "2024-11-20T22:59:20.646993",
     "exception": false,
     "start_time": "2024-11-20T22:59:20.617929",
     "status": "completed"
    },
    "tags": []
   },
   "outputs": [
    {
     "data": {
      "text/html": [
       "<div>\n",
       "<style scoped>\n",
       "    .dataframe tbody tr th:only-of-type {\n",
       "        vertical-align: middle;\n",
       "    }\n",
       "\n",
       "    .dataframe tbody tr th {\n",
       "        vertical-align: top;\n",
       "    }\n",
       "\n",
       "    .dataframe thead th {\n",
       "        text-align: right;\n",
       "    }\n",
       "</style>\n",
       "<table border=\"1\" class=\"dataframe\">\n",
       "  <thead>\n",
       "    <tr style=\"text-align: right;\">\n",
       "      <th></th>\n",
       "      <th>source</th>\n",
       "      <th>target</th>\n",
       "      <th>source_len</th>\n",
       "      <th>source_token</th>\n",
       "      <th>target_token</th>\n",
       "    </tr>\n",
       "  </thead>\n",
       "  <tbody>\n",
       "    <tr>\n",
       "      <th>4</th>\n",
       "      <td>हमारी धरती सूरय की किरणों से उस्मा प्रराप्त् क...</td>\n",
       "      <td>हमारी धरती सूर्य की किरणों से उष्मा प्राप्त कर...</td>\n",
       "      <td>10</td>\n",
       "      <td>[हमारी, धरती, सूरय, की, किरणों, से, उस्मा, प्र...</td>\n",
       "      <td>[&lt;start&gt;, हमारी, धरती, सूर्य, की, किरणों, से, ...</td>\n",
       "    </tr>\n",
       "    <tr>\n",
       "      <th>22</th>\n",
       "      <td>बाध्यता का कोयी भी प्ररभाव तात्कालिक् नहीं है</td>\n",
       "      <td>बाध्यता का कोई भी प्रभाव तात्कालिक नहीं है</td>\n",
       "      <td>8</td>\n",
       "      <td>[बाध्यता, का, कोयी, भी, प्ररभाव, तात्कालिक्, न...</td>\n",
       "      <td>[&lt;start&gt;, बाध्यता, का, कोई, भी, प्रभाव, तात्का...</td>\n",
       "    </tr>\n",
       "    <tr>\n",
       "      <th>99</th>\n",
       "      <td>से निपटने के लिये अपने प्ररयास दूगने कर दे</td>\n",
       "      <td>से निपटने के लिए अपने प्रयास दुगने कर दे</td>\n",
       "      <td>9</td>\n",
       "      <td>[से, निपटने, के, लिये, अपने, प्ररयास, दूगने, क...</td>\n",
       "      <td>[&lt;start&gt;, से, निपटने, के, लिए, अपने, प्रयास, द...</td>\n",
       "    </tr>\n",
       "    <tr>\n",
       "      <th>104</th>\n",
       "      <td>में परिवर्तन सामिल है</td>\n",
       "      <td>में  परिवर्तन शामिल है</td>\n",
       "      <td>4</td>\n",
       "      <td>[में, परिवर्तन, सामिल, है]</td>\n",
       "      <td>[&lt;start&gt;, में, परिवर्तन, शामिल, है, &lt;end&gt;]</td>\n",
       "    </tr>\n",
       "    <tr>\n",
       "      <th>105</th>\n",
       "      <td>में परिवर्तन है</td>\n",
       "      <td>में  परिवर्तन है</td>\n",
       "      <td>3</td>\n",
       "      <td>[में, परिवर्तन, है]</td>\n",
       "      <td>[&lt;start&gt;, में, परिवर्तन, है, &lt;end&gt;]</td>\n",
       "    </tr>\n",
       "    <tr>\n",
       "      <th>...</th>\n",
       "      <td>...</td>\n",
       "      <td>...</td>\n",
       "      <td>...</td>\n",
       "      <td>...</td>\n",
       "      <td>...</td>\n",
       "    </tr>\n",
       "    <tr>\n",
       "      <th>379058</th>\n",
       "      <td>लेकिन कोयी भी एक् जवाब कभी संतोसजनक् नहीं हो सकता</td>\n",
       "      <td>लेकिन कोई भी एक जवाब कभी संतोषजनक नहीं हो सकता</td>\n",
       "      <td>10</td>\n",
       "      <td>[लेकिन, कोयी, भी, एक्, जवाब, कभी, संतोसजनक्, न...</td>\n",
       "      <td>[&lt;start&gt;, लेकिन, कोई, भी, एक, जवाब, कभी, संतोष...</td>\n",
       "    </tr>\n",
       "    <tr>\n",
       "      <th>379073</th>\n",
       "      <td>वे लोग नीदरलैंढ के ऐम्सटरढम पहूंचे</td>\n",
       "      <td>वे लोग नीदरलैंड के ऐम्सटर्डम पहुंचे</td>\n",
       "      <td>6</td>\n",
       "      <td>[वे, लोग, नीदरलैंढ, के, ऐम्सटरढम, पहूंचे]</td>\n",
       "      <td>[&lt;start&gt;, वे, लोग, नीदरलैंड, के, ऐम्सटर्डम, पह...</td>\n",
       "    </tr>\n",
       "    <tr>\n",
       "      <th>379084</th>\n",
       "      <td>यह ढायरी ऐन को उसके वें जन्मदिन पर मिली थी</td>\n",
       "      <td>यह डायरी ऐन को उसके वें जन्मदिन पर मिली थी</td>\n",
       "      <td>10</td>\n",
       "      <td>[यह, ढायरी, ऐन, को, उसके, वें, जन्मदिन, पर, मि...</td>\n",
       "      <td>[&lt;start&gt;, यह, डायरी, ऐन, को, उसके, वें, जन्मदि...</td>\n",
       "    </tr>\n",
       "    <tr>\n",
       "      <th>379087</th>\n",
       "      <td>यह ढायरी कयी नाटकों और फिलमों की बूनियाद् बनी</td>\n",
       "      <td>यह डायरी कई नाटकों और फिल्मों की बुनियाद बनी</td>\n",
       "      <td>9</td>\n",
       "      <td>[यह, ढायरी, कयी, नाटकों, और, फिलमों, की, बूनिय...</td>\n",
       "      <td>[&lt;start&gt;, यह, डायरी, कई, नाटकों, और, फिल्मों, ...</td>\n",
       "    </tr>\n",
       "    <tr>\n",
       "      <th>379091</th>\n",
       "      <td>वह मध्य प्ररदेस से हैं</td>\n",
       "      <td>वह मध्य प्रदेश से हैं</td>\n",
       "      <td>5</td>\n",
       "      <td>[वह, मध्य, प्ररदेस, से, हैं]</td>\n",
       "      <td>[&lt;start&gt;, वह, मध्य, प्रदेश, से, हैं, &lt;end&gt;]</td>\n",
       "    </tr>\n",
       "  </tbody>\n",
       "</table>\n",
       "<p>71585 rows × 5 columns</p>\n",
       "</div>"
      ],
      "text/plain": [
       "                                                   source  \\\n",
       "4       हमारी धरती सूरय की किरणों से उस्मा प्रराप्त् क...   \n",
       "22          बाध्यता का कोयी भी प्ररभाव तात्कालिक् नहीं है   \n",
       "99             से निपटने के लिये अपने प्ररयास दूगने कर दे   \n",
       "104                                 में परिवर्तन सामिल है   \n",
       "105                                       में परिवर्तन है   \n",
       "...                                                   ...   \n",
       "379058  लेकिन कोयी भी एक् जवाब कभी संतोसजनक् नहीं हो सकता   \n",
       "379073                 वे लोग नीदरलैंढ के ऐम्सटरढम पहूंचे   \n",
       "379084         यह ढायरी ऐन को उसके वें जन्मदिन पर मिली थी   \n",
       "379087      यह ढायरी कयी नाटकों और फिलमों की बूनियाद् बनी   \n",
       "379091                             वह मध्य प्ररदेस से हैं   \n",
       "\n",
       "                                                   target  source_len  \\\n",
       "4       हमारी धरती सूर्य की किरणों से उष्मा प्राप्त कर...          10   \n",
       "22             बाध्यता का कोई भी प्रभाव तात्कालिक नहीं है           8   \n",
       "99               से निपटने के लिए अपने प्रयास दुगने कर दे           9   \n",
       "104                                में  परिवर्तन शामिल है           4   \n",
       "105                                      में  परिवर्तन है           3   \n",
       "...                                                   ...         ...   \n",
       "379058     लेकिन कोई भी एक जवाब कभी संतोषजनक नहीं हो सकता          10   \n",
       "379073                वे लोग नीदरलैंड के ऐम्सटर्डम पहुंचे           6   \n",
       "379084         यह डायरी ऐन को उसके वें जन्मदिन पर मिली थी          10   \n",
       "379087       यह डायरी कई नाटकों और फिल्मों की बुनियाद बनी           9   \n",
       "379091                              वह मध्य प्रदेश से हैं           5   \n",
       "\n",
       "                                             source_token  \\\n",
       "4       [हमारी, धरती, सूरय, की, किरणों, से, उस्मा, प्र...   \n",
       "22      [बाध्यता, का, कोयी, भी, प्ररभाव, तात्कालिक्, न...   \n",
       "99      [से, निपटने, के, लिये, अपने, प्ररयास, दूगने, क...   \n",
       "104                            [में, परिवर्तन, सामिल, है]   \n",
       "105                                   [में, परिवर्तन, है]   \n",
       "...                                                   ...   \n",
       "379058  [लेकिन, कोयी, भी, एक्, जवाब, कभी, संतोसजनक्, न...   \n",
       "379073          [वे, लोग, नीदरलैंढ, के, ऐम्सटरढम, पहूंचे]   \n",
       "379084  [यह, ढायरी, ऐन, को, उसके, वें, जन्मदिन, पर, मि...   \n",
       "379087  [यह, ढायरी, कयी, नाटकों, और, फिलमों, की, बूनिय...   \n",
       "379091                       [वह, मध्य, प्ररदेस, से, हैं]   \n",
       "\n",
       "                                             target_token  \n",
       "4       [<start>, हमारी, धरती, सूर्य, की, किरणों, से, ...  \n",
       "22      [<start>, बाध्यता, का, कोई, भी, प्रभाव, तात्का...  \n",
       "99      [<start>, से, निपटने, के, लिए, अपने, प्रयास, द...  \n",
       "104            [<start>, में, परिवर्तन, शामिल, है, <end>]  \n",
       "105                   [<start>, में, परिवर्तन, है, <end>]  \n",
       "...                                                   ...  \n",
       "379058  [<start>, लेकिन, कोई, भी, एक, जवाब, कभी, संतोष...  \n",
       "379073  [<start>, वे, लोग, नीदरलैंड, के, ऐम्सटर्डम, पह...  \n",
       "379084  [<start>, यह, डायरी, ऐन, को, उसके, वें, जन्मदि...  \n",
       "379087  [<start>, यह, डायरी, कई, नाटकों, और, फिल्मों, ...  \n",
       "379091        [<start>, वह, मध्य, प्रदेश, से, हैं, <end>]  \n",
       "\n",
       "[71585 rows x 5 columns]"
      ]
     },
     "execution_count": 24,
     "metadata": {},
     "output_type": "execute_result"
    }
   ],
   "source": [
    "df"
   ]
  },
  {
   "cell_type": "code",
   "execution_count": 25,
   "id": "f7c67727",
   "metadata": {
    "execution": {
     "iopub.execute_input": "2024-11-20T22:59:20.671116Z",
     "iopub.status.busy": "2024-11-20T22:59:20.670871Z",
     "iopub.status.idle": "2024-11-20T22:59:21.585091Z",
     "shell.execute_reply": "2024-11-20T22:59:21.584115Z"
    },
    "papermill": {
     "duration": 0.928185,
     "end_time": "2024-11-20T22:59:21.587074",
     "exception": false,
     "start_time": "2024-11-20T22:59:20.658889",
     "status": "completed"
    },
    "tags": []
   },
   "outputs": [],
   "source": [
    "#Now we are goining to convert text to sequences.......\n",
    "df['source_int_token'] = tok.texts_to_sequences(df['source_token'])\n",
    "df['target_int_token'] = tok_hindi.texts_to_sequences(df['target_token'])"
   ]
  },
  {
   "cell_type": "code",
   "execution_count": 26,
   "id": "0dc9c883",
   "metadata": {
    "execution": {
     "iopub.execute_input": "2024-11-20T22:59:21.612028Z",
     "iopub.status.busy": "2024-11-20T22:59:21.611398Z",
     "iopub.status.idle": "2024-11-20T22:59:21.631942Z",
     "shell.execute_reply": "2024-11-20T22:59:21.631025Z"
    },
    "papermill": {
     "duration": 0.034647,
     "end_time": "2024-11-20T22:59:21.633627",
     "exception": false,
     "start_time": "2024-11-20T22:59:21.598980",
     "status": "completed"
    },
    "tags": []
   },
   "outputs": [
    {
     "data": {
      "text/html": [
       "<div>\n",
       "<style scoped>\n",
       "    .dataframe tbody tr th:only-of-type {\n",
       "        vertical-align: middle;\n",
       "    }\n",
       "\n",
       "    .dataframe tbody tr th {\n",
       "        vertical-align: top;\n",
       "    }\n",
       "\n",
       "    .dataframe thead th {\n",
       "        text-align: right;\n",
       "    }\n",
       "</style>\n",
       "<table border=\"1\" class=\"dataframe\">\n",
       "  <thead>\n",
       "    <tr style=\"text-align: right;\">\n",
       "      <th></th>\n",
       "      <th>source</th>\n",
       "      <th>target</th>\n",
       "      <th>source_len</th>\n",
       "      <th>source_token</th>\n",
       "      <th>target_token</th>\n",
       "      <th>source_int_token</th>\n",
       "      <th>target_int_token</th>\n",
       "    </tr>\n",
       "  </thead>\n",
       "  <tbody>\n",
       "    <tr>\n",
       "      <th>4</th>\n",
       "      <td>हमारी धरती सूरय की किरणों से उस्मा प्रराप्त् क...</td>\n",
       "      <td>हमारी धरती सूर्य की किरणों से उष्मा प्राप्त कर...</td>\n",
       "      <td>10</td>\n",
       "      <td>[हमारी, धरती, सूरय, की, किरणों, से, उस्मा, प्र...</td>\n",
       "      <td>[&lt;start&gt;, हमारी, धरती, सूर्य, की, किरणों, से, ...</td>\n",
       "      <td>[1541, 1930, 414, 6, 8969, 8, 6603, 106, 205, 1]</td>\n",
       "      <td>[62385, 1529, 1934, 411, 6, 8988, 8, 6599, 107...</td>\n",
       "    </tr>\n",
       "    <tr>\n",
       "      <th>22</th>\n",
       "      <td>बाध्यता का कोयी भी प्ररभाव तात्कालिक् नहीं है</td>\n",
       "      <td>बाध्यता का कोई भी प्रभाव तात्कालिक नहीं है</td>\n",
       "      <td>8</td>\n",
       "      <td>[बाध्यता, का, कोयी, भी, प्ररभाव, तात्कालिक्, न...</td>\n",
       "      <td>[&lt;start&gt;, बाध्यता, का, कोई, भी, प्रभाव, तात्का...</td>\n",
       "      <td>[14415, 4, 122, 12, 287, 6604, 26, 1]</td>\n",
       "      <td>[62385, 14458, 4, 121, 12, 285, 6600, 26, 1, 6...</td>\n",
       "    </tr>\n",
       "    <tr>\n",
       "      <th>99</th>\n",
       "      <td>से निपटने के लिये अपने प्ररयास दूगने कर दे</td>\n",
       "      <td>से निपटने के लिए अपने प्रयास दुगने कर दे</td>\n",
       "      <td>9</td>\n",
       "      <td>[से, निपटने, के, लिये, अपने, प्ररयास, दूगने, क...</td>\n",
       "      <td>[&lt;start&gt;, से, निपटने, के, लिए, अपने, प्रयास, द...</td>\n",
       "      <td>[8, 14416, 3, 27, 100, 980, 22130, 60, 526]</td>\n",
       "      <td>[62385, 8, 14459, 3, 33, 102, 975, 22256, 61, ...</td>\n",
       "    </tr>\n",
       "    <tr>\n",
       "      <th>104</th>\n",
       "      <td>में परिवर्तन सामिल है</td>\n",
       "      <td>में  परिवर्तन शामिल है</td>\n",
       "      <td>4</td>\n",
       "      <td>[में, परिवर्तन, सामिल, है]</td>\n",
       "      <td>[&lt;start&gt;, में, परिवर्तन, शामिल, है, &lt;end&gt;]</td>\n",
       "      <td>[2, 615, 168, 1]</td>\n",
       "      <td>[62385, 2, 608, 165, 1, 62386]</td>\n",
       "    </tr>\n",
       "    <tr>\n",
       "      <th>105</th>\n",
       "      <td>में परिवर्तन है</td>\n",
       "      <td>में  परिवर्तन है</td>\n",
       "      <td>3</td>\n",
       "      <td>[में, परिवर्तन, है]</td>\n",
       "      <td>[&lt;start&gt;, में, परिवर्तन, है, &lt;end&gt;]</td>\n",
       "      <td>[2, 615, 1]</td>\n",
       "      <td>[62385, 2, 608, 1, 62386]</td>\n",
       "    </tr>\n",
       "    <tr>\n",
       "      <th>...</th>\n",
       "      <td>...</td>\n",
       "      <td>...</td>\n",
       "      <td>...</td>\n",
       "      <td>...</td>\n",
       "      <td>...</td>\n",
       "      <td>...</td>\n",
       "      <td>...</td>\n",
       "    </tr>\n",
       "    <tr>\n",
       "      <th>379058</th>\n",
       "      <td>लेकिन कोयी भी एक् जवाब कभी संतोसजनक् नहीं हो सकता</td>\n",
       "      <td>लेकिन कोई भी एक जवाब कभी संतोषजनक नहीं हो सकता</td>\n",
       "      <td>10</td>\n",
       "      <td>[लेकिन, कोयी, भी, एक्, जवाब, कभी, संतोसजनक्, न...</td>\n",
       "      <td>[&lt;start&gt;, लेकिन, कोई, भी, एक, जवाब, कभी, संतोष...</td>\n",
       "      <td>[200, 122, 12, 7, 3749, 379, 7220, 26, 29, 133]</td>\n",
       "      <td>[62385, 195, 121, 12, 7, 3753, 375, 7235, 26, ...</td>\n",
       "    </tr>\n",
       "    <tr>\n",
       "      <th>379073</th>\n",
       "      <td>वे लोग नीदरलैंढ के ऐम्सटरढम पहूंचे</td>\n",
       "      <td>वे लोग नीदरलैंड के ऐम्सटर्डम पहुंचे</td>\n",
       "      <td>6</td>\n",
       "      <td>[वे, लोग, नीदरलैंढ, के, ऐम्सटरढम, पहूंचे]</td>\n",
       "      <td>[&lt;start&gt;, वे, लोग, नीदरलैंड, के, ऐम्सटर्डम, पह...</td>\n",
       "      <td>[35, 125, 2960, 3, 61525, 2024]</td>\n",
       "      <td>[62385, 35, 124, 2956, 3, 62384, 2025, 62386]</td>\n",
       "    </tr>\n",
       "    <tr>\n",
       "      <th>379084</th>\n",
       "      <td>यह ढायरी ऐन को उसके वें जन्मदिन पर मिली थी</td>\n",
       "      <td>यह डायरी ऐन को उसके वें जन्मदिन पर मिली थी</td>\n",
       "      <td>10</td>\n",
       "      <td>[यह, ढायरी, ऐन, को, उसके, वें, जन्मदिन, पर, मि...</td>\n",
       "      <td>[&lt;start&gt;, यह, डायरी, ऐन, को, उसके, वें, जन्मदि...</td>\n",
       "      <td>[9, 6470, 9170, 10, 143, 791, 5135, 15, 391, 25]</td>\n",
       "      <td>[62385, 9, 6468, 9185, 10, 140, 784, 5127, 15,...</td>\n",
       "    </tr>\n",
       "    <tr>\n",
       "      <th>379087</th>\n",
       "      <td>यह ढायरी कयी नाटकों और फिलमों की बूनियाद् बनी</td>\n",
       "      <td>यह डायरी कई नाटकों और फिल्मों की बुनियाद बनी</td>\n",
       "      <td>9</td>\n",
       "      <td>[यह, ढायरी, कयी, नाटकों, और, फिलमों, की, बूनिय...</td>\n",
       "      <td>[&lt;start&gt;, यह, डायरी, कई, नाटकों, और, फिल्मों, ...</td>\n",
       "      <td>[9, 6470, 56, 2315, 11, 693, 6, 8623, 78]</td>\n",
       "      <td>[62385, 9, 6468, 57, 2318, 11, 683, 6, 8639, 8...</td>\n",
       "    </tr>\n",
       "    <tr>\n",
       "      <th>379091</th>\n",
       "      <td>वह मध्य प्ररदेस से हैं</td>\n",
       "      <td>वह मध्य प्रदेश से हैं</td>\n",
       "      <td>5</td>\n",
       "      <td>[वह, मध्य, प्ररदेस, से, हैं]</td>\n",
       "      <td>[&lt;start&gt;, वह, मध्य, प्रदेश, से, हैं, &lt;end&gt;]</td>\n",
       "      <td>[43, 214, 48, 8, 5]</td>\n",
       "      <td>[62385, 43, 212, 49, 8, 5, 62386]</td>\n",
       "    </tr>\n",
       "  </tbody>\n",
       "</table>\n",
       "<p>71585 rows × 7 columns</p>\n",
       "</div>"
      ],
      "text/plain": [
       "                                                   source  \\\n",
       "4       हमारी धरती सूरय की किरणों से उस्मा प्रराप्त् क...   \n",
       "22          बाध्यता का कोयी भी प्ररभाव तात्कालिक् नहीं है   \n",
       "99             से निपटने के लिये अपने प्ररयास दूगने कर दे   \n",
       "104                                 में परिवर्तन सामिल है   \n",
       "105                                       में परिवर्तन है   \n",
       "...                                                   ...   \n",
       "379058  लेकिन कोयी भी एक् जवाब कभी संतोसजनक् नहीं हो सकता   \n",
       "379073                 वे लोग नीदरलैंढ के ऐम्सटरढम पहूंचे   \n",
       "379084         यह ढायरी ऐन को उसके वें जन्मदिन पर मिली थी   \n",
       "379087      यह ढायरी कयी नाटकों और फिलमों की बूनियाद् बनी   \n",
       "379091                             वह मध्य प्ररदेस से हैं   \n",
       "\n",
       "                                                   target  source_len  \\\n",
       "4       हमारी धरती सूर्य की किरणों से उष्मा प्राप्त कर...          10   \n",
       "22             बाध्यता का कोई भी प्रभाव तात्कालिक नहीं है           8   \n",
       "99               से निपटने के लिए अपने प्रयास दुगने कर दे           9   \n",
       "104                                में  परिवर्तन शामिल है           4   \n",
       "105                                      में  परिवर्तन है           3   \n",
       "...                                                   ...         ...   \n",
       "379058     लेकिन कोई भी एक जवाब कभी संतोषजनक नहीं हो सकता          10   \n",
       "379073                वे लोग नीदरलैंड के ऐम्सटर्डम पहुंचे           6   \n",
       "379084         यह डायरी ऐन को उसके वें जन्मदिन पर मिली थी          10   \n",
       "379087       यह डायरी कई नाटकों और फिल्मों की बुनियाद बनी           9   \n",
       "379091                              वह मध्य प्रदेश से हैं           5   \n",
       "\n",
       "                                             source_token  \\\n",
       "4       [हमारी, धरती, सूरय, की, किरणों, से, उस्मा, प्र...   \n",
       "22      [बाध्यता, का, कोयी, भी, प्ररभाव, तात्कालिक्, न...   \n",
       "99      [से, निपटने, के, लिये, अपने, प्ररयास, दूगने, क...   \n",
       "104                            [में, परिवर्तन, सामिल, है]   \n",
       "105                                   [में, परिवर्तन, है]   \n",
       "...                                                   ...   \n",
       "379058  [लेकिन, कोयी, भी, एक्, जवाब, कभी, संतोसजनक्, न...   \n",
       "379073          [वे, लोग, नीदरलैंढ, के, ऐम्सटरढम, पहूंचे]   \n",
       "379084  [यह, ढायरी, ऐन, को, उसके, वें, जन्मदिन, पर, मि...   \n",
       "379087  [यह, ढायरी, कयी, नाटकों, और, फिलमों, की, बूनिय...   \n",
       "379091                       [वह, मध्य, प्ररदेस, से, हैं]   \n",
       "\n",
       "                                             target_token  \\\n",
       "4       [<start>, हमारी, धरती, सूर्य, की, किरणों, से, ...   \n",
       "22      [<start>, बाध्यता, का, कोई, भी, प्रभाव, तात्का...   \n",
       "99      [<start>, से, निपटने, के, लिए, अपने, प्रयास, द...   \n",
       "104            [<start>, में, परिवर्तन, शामिल, है, <end>]   \n",
       "105                   [<start>, में, परिवर्तन, है, <end>]   \n",
       "...                                                   ...   \n",
       "379058  [<start>, लेकिन, कोई, भी, एक, जवाब, कभी, संतोष...   \n",
       "379073  [<start>, वे, लोग, नीदरलैंड, के, ऐम्सटर्डम, पह...   \n",
       "379084  [<start>, यह, डायरी, ऐन, को, उसके, वें, जन्मदि...   \n",
       "379087  [<start>, यह, डायरी, कई, नाटकों, और, फिल्मों, ...   \n",
       "379091        [<start>, वह, मध्य, प्रदेश, से, हैं, <end>]   \n",
       "\n",
       "                                        source_int_token  \\\n",
       "4       [1541, 1930, 414, 6, 8969, 8, 6603, 106, 205, 1]   \n",
       "22                 [14415, 4, 122, 12, 287, 6604, 26, 1]   \n",
       "99           [8, 14416, 3, 27, 100, 980, 22130, 60, 526]   \n",
       "104                                     [2, 615, 168, 1]   \n",
       "105                                          [2, 615, 1]   \n",
       "...                                                  ...   \n",
       "379058   [200, 122, 12, 7, 3749, 379, 7220, 26, 29, 133]   \n",
       "379073                   [35, 125, 2960, 3, 61525, 2024]   \n",
       "379084  [9, 6470, 9170, 10, 143, 791, 5135, 15, 391, 25]   \n",
       "379087         [9, 6470, 56, 2315, 11, 693, 6, 8623, 78]   \n",
       "379091                               [43, 214, 48, 8, 5]   \n",
       "\n",
       "                                         target_int_token  \n",
       "4       [62385, 1529, 1934, 411, 6, 8988, 8, 6599, 107...  \n",
       "22      [62385, 14458, 4, 121, 12, 285, 6600, 26, 1, 6...  \n",
       "99      [62385, 8, 14459, 3, 33, 102, 975, 22256, 61, ...  \n",
       "104                        [62385, 2, 608, 165, 1, 62386]  \n",
       "105                             [62385, 2, 608, 1, 62386]  \n",
       "...                                                   ...  \n",
       "379058  [62385, 195, 121, 12, 7, 3753, 375, 7235, 26, ...  \n",
       "379073      [62385, 35, 124, 2956, 3, 62384, 2025, 62386]  \n",
       "379084  [62385, 9, 6468, 9185, 10, 140, 784, 5127, 15,...  \n",
       "379087  [62385, 9, 6468, 57, 2318, 11, 683, 6, 8639, 8...  \n",
       "379091                  [62385, 43, 212, 49, 8, 5, 62386]  \n",
       "\n",
       "[71585 rows x 7 columns]"
      ]
     },
     "execution_count": 26,
     "metadata": {},
     "output_type": "execute_result"
    }
   ],
   "source": [
    "df"
   ]
  },
  {
   "cell_type": "code",
   "execution_count": 27,
   "id": "8f6ce7c6",
   "metadata": {
    "execution": {
     "iopub.execute_input": "2024-11-20T22:59:21.659244Z",
     "iopub.status.busy": "2024-11-20T22:59:21.658714Z",
     "iopub.status.idle": "2024-11-20T22:59:21.686133Z",
     "shell.execute_reply": "2024-11-20T22:59:21.685235Z"
    },
    "papermill": {
     "duration": 0.041814,
     "end_time": "2024-11-20T22:59:21.687683",
     "exception": false,
     "start_time": "2024-11-20T22:59:21.645869",
     "status": "completed"
    },
    "tags": []
   },
   "outputs": [
    {
     "name": "stdout",
     "output_type": "stream",
     "text": [
      "Maximum sequence length in combined dataset x:  10\n",
      "Maximum sequence length in combined dataset x:  12\n"
     ]
    }
   ],
   "source": [
    "def calculate_max_sequence_length(text):\n",
    "    # Concatenate x_train_seq and x_test_seq\n",
    "    combined_sequences = text\n",
    "    max_length_combined = max(len(sequence) for sequence in combined_sequences)\n",
    "\n",
    "    return max_length_combined\n",
    "\n",
    "max_length_combined_x = calculate_max_sequence_length(df['source_int_token'])\n",
    "print(\"Maximum sequence length in combined dataset x: \", max_length_combined_x)\n",
    "max_length_combined_y = calculate_max_sequence_length(df['target_int_token'])\n",
    "print(\"Maximum sequence length in combined dataset x: \", max_length_combined_y)"
   ]
  },
  {
   "cell_type": "code",
   "execution_count": 28,
   "id": "d5f3bb96",
   "metadata": {
    "execution": {
     "iopub.execute_input": "2024-11-20T22:59:21.712957Z",
     "iopub.status.busy": "2024-11-20T22:59:21.712647Z",
     "iopub.status.idle": "2024-11-20T22:59:21.729121Z",
     "shell.execute_reply": "2024-11-20T22:59:21.728301Z"
    },
    "papermill": {
     "duration": 0.031045,
     "end_time": "2024-11-20T22:59:21.730812",
     "exception": false,
     "start_time": "2024-11-20T22:59:21.699767",
     "status": "completed"
    },
    "tags": []
   },
   "outputs": [
    {
     "data": {
      "text/html": [
       "<div>\n",
       "<style scoped>\n",
       "    .dataframe tbody tr th:only-of-type {\n",
       "        vertical-align: middle;\n",
       "    }\n",
       "\n",
       "    .dataframe tbody tr th {\n",
       "        vertical-align: top;\n",
       "    }\n",
       "\n",
       "    .dataframe thead th {\n",
       "        text-align: right;\n",
       "    }\n",
       "</style>\n",
       "<table border=\"1\" class=\"dataframe\">\n",
       "  <thead>\n",
       "    <tr style=\"text-align: right;\">\n",
       "      <th></th>\n",
       "      <th>source</th>\n",
       "      <th>target</th>\n",
       "      <th>source_len</th>\n",
       "      <th>source_token</th>\n",
       "      <th>target_token</th>\n",
       "      <th>source_int_token</th>\n",
       "      <th>target_int_token</th>\n",
       "    </tr>\n",
       "  </thead>\n",
       "  <tbody>\n",
       "    <tr>\n",
       "      <th>344153</th>\n",
       "      <td>इस घाटी में से भी ज्यादा मंदिरें स्थित् हैं</td>\n",
       "      <td>इस घाटी में से भी ज्यादा मंदिरें स्थित हैं</td>\n",
       "      <td>9</td>\n",
       "      <td>[इस, घाटी, में, से, भी, ज्यादा, मंदिरें, स्थित...</td>\n",
       "      <td>[&lt;start&gt;, इस, घाटी, में, से, भी, ज्यादा, मंदिर...</td>\n",
       "      <td>[14, 854, 2, 8, 12, 661, 18820, 17, 5]</td>\n",
       "      <td>[62385, 14, 843, 2, 8, 12, 653, 18919, 17, 5, ...</td>\n",
       "    </tr>\n",
       "    <tr>\n",
       "      <th>38076</th>\n",
       "      <td>यह नगर काठमाढों जिला मै अवस्थित् है</td>\n",
       "      <td>यह नगर काठमाडौं जिला मै अवस्थित है</td>\n",
       "      <td>7</td>\n",
       "      <td>[यह, नगर, काठमाढों, जिला, मै, अवस्थित्, है]</td>\n",
       "      <td>[&lt;start&gt;, यह, नगर, काठमाडौं, जिला, मै, अवस्थित...</td>\n",
       "      <td>[9, 121, 26630, 105, 3421, 1945, 1]</td>\n",
       "      <td>[62385, 9, 120, 26826, 106, 3423, 1895, 1, 62386]</td>\n",
       "    </tr>\n",
       "    <tr>\n",
       "      <th>279636</th>\n",
       "      <td>ओढेसी का विसय विस्तृत् है</td>\n",
       "      <td>ओडेसी का विषय विस्तृत है</td>\n",
       "      <td>5</td>\n",
       "      <td>[ओढेसी, का, विसय, विस्तृत्, है]</td>\n",
       "      <td>[&lt;start&gt;, ओडेसी, का, विषय, विस्तृत, है, &lt;end&gt;]</td>\n",
       "      <td>[5863, 4, 397, 672, 1]</td>\n",
       "      <td>[62385, 5853, 4, 395, 667, 1, 62386]</td>\n",
       "    </tr>\n",
       "    <tr>\n",
       "      <th>34181</th>\n",
       "      <td>तत्वमीमांसा पर इस स्कूल ने घातक् आक्रमण किया</td>\n",
       "      <td>तत्वमीमांसा पर इस स्कूल ने घातक आक्रमण किया</td>\n",
       "      <td>8</td>\n",
       "      <td>[तत्वमीमांसा, पर, इस, स्कूल, ने, घातक्, आक्रमण...</td>\n",
       "      <td>[&lt;start&gt;, तत्वमीमांसा, पर, इस, स्कूल, ने, घातक...</td>\n",
       "      <td>[8027, 15, 14, 486, 19, 4302, 802, 20]</td>\n",
       "      <td>[62385, 8053, 15, 14, 495, 19, 4300, 794, 20, ...</td>\n",
       "    </tr>\n",
       "    <tr>\n",
       "      <th>257535</th>\n",
       "      <td>मेरापूर संगम रोढ हमीरपूर कानपूर बाँदा रोढ फोन</td>\n",
       "      <td>मेरापुर संगम रोड हमीरपुर कानपुर बाँदा रोड फोन</td>\n",
       "      <td>8</td>\n",
       "      <td>[मेरापूर, संगम, रोढ, हमीरपूर, कानपूर, बाँदा, र...</td>\n",
       "      <td>[&lt;start&gt;, मेरापुर, संगम, रोड, हमीरपुर, कानपुर,...</td>\n",
       "      <td>[49292, 1596, 1295, 7325, 1721, 19432, 1295, 2...</td>\n",
       "      <td>[62385, 49943, 1585, 1283, 7337, 1762, 19536, ...</td>\n",
       "    </tr>\n",
       "  </tbody>\n",
       "</table>\n",
       "</div>"
      ],
      "text/plain": [
       "                                               source  \\\n",
       "344153    इस घाटी में से भी ज्यादा मंदिरें स्थित् हैं   \n",
       "38076             यह नगर काठमाढों जिला मै अवस्थित् है   \n",
       "279636                      ओढेसी का विसय विस्तृत् है   \n",
       "34181    तत्वमीमांसा पर इस स्कूल ने घातक् आक्रमण किया   \n",
       "257535  मेरापूर संगम रोढ हमीरपूर कानपूर बाँदा रोढ फोन   \n",
       "\n",
       "                                               target  source_len  \\\n",
       "344153     इस घाटी में से भी ज्यादा मंदिरें स्थित हैं           9   \n",
       "38076              यह नगर काठमाडौं जिला मै अवस्थित है           7   \n",
       "279636                       ओडेसी का विषय विस्तृत है           5   \n",
       "34181     तत्वमीमांसा पर इस स्कूल ने घातक आक्रमण किया           8   \n",
       "257535  मेरापुर संगम रोड हमीरपुर कानपुर बाँदा रोड फोन           8   \n",
       "\n",
       "                                             source_token  \\\n",
       "344153  [इस, घाटी, में, से, भी, ज्यादा, मंदिरें, स्थित...   \n",
       "38076         [यह, नगर, काठमाढों, जिला, मै, अवस्थित्, है]   \n",
       "279636                    [ओढेसी, का, विसय, विस्तृत्, है]   \n",
       "34181   [तत्वमीमांसा, पर, इस, स्कूल, ने, घातक्, आक्रमण...   \n",
       "257535  [मेरापूर, संगम, रोढ, हमीरपूर, कानपूर, बाँदा, र...   \n",
       "\n",
       "                                             target_token  \\\n",
       "344153  [<start>, इस, घाटी, में, से, भी, ज्यादा, मंदिर...   \n",
       "38076   [<start>, यह, नगर, काठमाडौं, जिला, मै, अवस्थित...   \n",
       "279636     [<start>, ओडेसी, का, विषय, विस्तृत, है, <end>]   \n",
       "34181   [<start>, तत्वमीमांसा, पर, इस, स्कूल, ने, घातक...   \n",
       "257535  [<start>, मेरापुर, संगम, रोड, हमीरपुर, कानपुर,...   \n",
       "\n",
       "                                         source_int_token  \\\n",
       "344153             [14, 854, 2, 8, 12, 661, 18820, 17, 5]   \n",
       "38076                 [9, 121, 26630, 105, 3421, 1945, 1]   \n",
       "279636                             [5863, 4, 397, 672, 1]   \n",
       "34181              [8027, 15, 14, 486, 19, 4302, 802, 20]   \n",
       "257535  [49292, 1596, 1295, 7325, 1721, 19432, 1295, 2...   \n",
       "\n",
       "                                         target_int_token  \n",
       "344153  [62385, 14, 843, 2, 8, 12, 653, 18919, 17, 5, ...  \n",
       "38076   [62385, 9, 120, 26826, 106, 3423, 1895, 1, 62386]  \n",
       "279636               [62385, 5853, 4, 395, 667, 1, 62386]  \n",
       "34181   [62385, 8053, 15, 14, 495, 19, 4300, 794, 20, ...  \n",
       "257535  [62385, 49943, 1585, 1283, 7337, 1762, 19536, ...  "
      ]
     },
     "execution_count": 28,
     "metadata": {},
     "output_type": "execute_result"
    }
   ],
   "source": [
    "df.sample(5)"
   ]
  },
  {
   "cell_type": "code",
   "execution_count": 29,
   "id": "dc529d85",
   "metadata": {
    "execution": {
     "iopub.execute_input": "2024-11-20T22:59:21.756696Z",
     "iopub.status.busy": "2024-11-20T22:59:21.756128Z",
     "iopub.status.idle": "2024-11-20T22:59:21.760273Z",
     "shell.execute_reply": "2024-11-20T22:59:21.759429Z"
    },
    "papermill": {
     "duration": 0.018839,
     "end_time": "2024-11-20T22:59:21.761836",
     "exception": false,
     "start_time": "2024-11-20T22:59:21.742997",
     "status": "completed"
    },
    "tags": []
   },
   "outputs": [],
   "source": [
    "X = df['source_int_token']\n",
    "y = df['target_int_token']"
   ]
  },
  {
   "cell_type": "code",
   "execution_count": 30,
   "id": "6a9b7f7c",
   "metadata": {
    "execution": {
     "iopub.execute_input": "2024-11-20T22:59:21.788828Z",
     "iopub.status.busy": "2024-11-20T22:59:21.788250Z",
     "iopub.status.idle": "2024-11-20T22:59:21.802454Z",
     "shell.execute_reply": "2024-11-20T22:59:21.801466Z"
    },
    "papermill": {
     "duration": 0.02997,
     "end_time": "2024-11-20T22:59:21.804507",
     "exception": false,
     "start_time": "2024-11-20T22:59:21.774537",
     "status": "completed"
    },
    "tags": []
   },
   "outputs": [],
   "source": [
    "x_train,x_test,y_train,y_test = train_test_split(X,y,test_size = 0.2, random_state = 42)"
   ]
  },
  {
   "cell_type": "code",
   "execution_count": 31,
   "id": "4a1be68b",
   "metadata": {
    "execution": {
     "iopub.execute_input": "2024-11-20T22:59:21.831748Z",
     "iopub.status.busy": "2024-11-20T22:59:21.831073Z",
     "iopub.status.idle": "2024-11-20T22:59:21.835516Z",
     "shell.execute_reply": "2024-11-20T22:59:21.834735Z"
    },
    "papermill": {
     "duration": 0.019845,
     "end_time": "2024-11-20T22:59:21.837332",
     "exception": false,
     "start_time": "2024-11-20T22:59:21.817487",
     "status": "completed"
    },
    "tags": []
   },
   "outputs": [
    {
     "name": "stdout",
     "output_type": "stream",
     "text": [
      "Training set shape:  (57268,) (57268,)\n",
      "Testing set shape:  (14317,) (14317,)\n"
     ]
    }
   ],
   "source": [
    "print(\"Training set shape: \",x_train.shape,y_train.shape)\n",
    "print(\"Testing set shape: \",x_test.shape,y_test.shape)"
   ]
  },
  {
   "cell_type": "code",
   "execution_count": 32,
   "id": "a149647b",
   "metadata": {
    "execution": {
     "iopub.execute_input": "2024-11-20T22:59:21.862309Z",
     "iopub.status.busy": "2024-11-20T22:59:21.862070Z",
     "iopub.status.idle": "2024-11-20T22:59:21.866342Z",
     "shell.execute_reply": "2024-11-20T22:59:21.865489Z"
    },
    "papermill": {
     "duration": 0.0184,
     "end_time": "2024-11-20T22:59:21.867788",
     "exception": false,
     "start_time": "2024-11-20T22:59:21.849388",
     "status": "completed"
    },
    "tags": []
   },
   "outputs": [
    {
     "name": "stdout",
     "output_type": "stream",
     "text": [
      "2893 2 246 621 424 251 124 3 1109 1 "
     ]
    }
   ],
   "source": [
    "for num in x_train.iloc[905]:\n",
    "    print(num, end=\" \")"
   ]
  },
  {
   "cell_type": "code",
   "execution_count": 33,
   "id": "79a38743",
   "metadata": {
    "execution": {
     "iopub.execute_input": "2024-11-20T22:59:21.893289Z",
     "iopub.status.busy": "2024-11-20T22:59:21.893040Z",
     "iopub.status.idle": "2024-11-20T22:59:21.897829Z",
     "shell.execute_reply": "2024-11-20T22:59:21.897006Z"
    },
    "papermill": {
     "duration": 0.019598,
     "end_time": "2024-11-20T22:59:21.899392",
     "exception": false,
     "start_time": "2024-11-20T22:59:21.879794",
     "status": "completed"
    },
    "tags": []
   },
   "outputs": [
    {
     "name": "stdout",
     "output_type": "stream",
     "text": [
      "मधू तूरंत् राजा के साथ प्यार में पढ़ जाती है "
     ]
    }
   ],
   "source": [
    "#Corresponding words .........\n",
    "for num in x_train.iloc[909]:\n",
    "    word = tok.index_word.get(num)\n",
    "    print(word,end = \" \")"
   ]
  },
  {
   "cell_type": "code",
   "execution_count": 34,
   "id": "c671d0a4",
   "metadata": {
    "execution": {
     "iopub.execute_input": "2024-11-20T22:59:21.924923Z",
     "iopub.status.busy": "2024-11-20T22:59:21.924708Z",
     "iopub.status.idle": "2024-11-20T22:59:21.929318Z",
     "shell.execute_reply": "2024-11-20T22:59:21.928406Z"
    },
    "papermill": {
     "duration": 0.018974,
     "end_time": "2024-11-20T22:59:21.930860",
     "exception": false,
     "start_time": "2024-11-20T22:59:21.911886",
     "status": "completed"
    },
    "tags": []
   },
   "outputs": [
    {
     "name": "stdout",
     "output_type": "stream",
     "text": [
      "None मधु तुरंत राजा के साथ प्यार में पड़ जाती है None "
     ]
    }
   ],
   "source": [
    "#Corresponding words .........\n",
    "for num in y_train.iloc[909]:\n",
    "    word = tok_hindi.index_word.get(num)\n",
    "    print(word,end = \" \")"
   ]
  },
  {
   "cell_type": "code",
   "execution_count": 35,
   "id": "0ce5df3c",
   "metadata": {
    "execution": {
     "iopub.execute_input": "2024-11-20T22:59:21.958913Z",
     "iopub.status.busy": "2024-11-20T22:59:21.958338Z",
     "iopub.status.idle": "2024-11-20T22:59:22.239519Z",
     "shell.execute_reply": "2024-11-20T22:59:22.238752Z"
    },
    "papermill": {
     "duration": 0.296361,
     "end_time": "2024-11-20T22:59:22.241501",
     "exception": false,
     "start_time": "2024-11-20T22:59:21.945140",
     "status": "completed"
    },
    "tags": []
   },
   "outputs": [],
   "source": [
    "x_train_main = pad_sequences(x_train, maxlen=max_length_combined_x, padding='post')\n",
    "y_train_main = pad_sequences(y_train, maxlen=max_length_combined_y, padding='post')"
   ]
  },
  {
   "cell_type": "code",
   "execution_count": 36,
   "id": "a71782cb",
   "metadata": {
    "execution": {
     "iopub.execute_input": "2024-11-20T22:59:22.268487Z",
     "iopub.status.busy": "2024-11-20T22:59:22.268186Z",
     "iopub.status.idle": "2024-11-20T22:59:22.343350Z",
     "shell.execute_reply": "2024-11-20T22:59:22.342682Z"
    },
    "papermill": {
     "duration": 0.090262,
     "end_time": "2024-11-20T22:59:22.345028",
     "exception": false,
     "start_time": "2024-11-20T22:59:22.254766",
     "status": "completed"
    },
    "tags": []
   },
   "outputs": [],
   "source": [
    "x_test_main = pad_sequences(x_test, maxlen=max_length_combined_x, padding='post')\n",
    "y_test_main = pad_sequences(y_test, maxlen=max_length_combined_y, padding='post')"
   ]
  },
  {
   "cell_type": "code",
   "execution_count": 37,
   "id": "bc411443",
   "metadata": {
    "execution": {
     "iopub.execute_input": "2024-11-20T22:59:22.371071Z",
     "iopub.status.busy": "2024-11-20T22:59:22.370813Z",
     "iopub.status.idle": "2024-11-20T22:59:22.375243Z",
     "shell.execute_reply": "2024-11-20T22:59:22.374561Z"
    },
    "papermill": {
     "duration": 0.019528,
     "end_time": "2024-11-20T22:59:22.377064",
     "exception": false,
     "start_time": "2024-11-20T22:59:22.357536",
     "status": "completed"
    },
    "tags": []
   },
   "outputs": [
    {
     "name": "stdout",
     "output_type": "stream",
     "text": [
      "shape of x_train_main is : (57268, 10)\n",
      "shape of y_train_main is : (57268, 12)\n",
      "shape of x_test_main is : (14317, 10)\n",
      "shape of y_test_main is : (14317, 12)\n"
     ]
    }
   ],
   "source": [
    "print(\"shape of x_train_main is :\",x_train_main.shape)\n",
    "print(\"shape of y_train_main is :\",y_train_main.shape)\n",
    "print(\"shape of x_test_main is :\",x_test_main.shape)\n",
    "print(\"shape of y_test_main is :\",y_test_main.shape)"
   ]
  },
  {
   "cell_type": "code",
   "execution_count": 38,
   "id": "5be20e5b",
   "metadata": {
    "execution": {
     "iopub.execute_input": "2024-11-20T22:59:22.402416Z",
     "iopub.status.busy": "2024-11-20T22:59:22.402146Z",
     "iopub.status.idle": "2024-11-20T22:59:22.408036Z",
     "shell.execute_reply": "2024-11-20T22:59:22.407234Z"
    },
    "papermill": {
     "duration": 0.020314,
     "end_time": "2024-11-20T22:59:22.409627",
     "exception": false,
     "start_time": "2024-11-20T22:59:22.389313",
     "status": "completed"
    },
    "tags": []
   },
   "outputs": [
    {
     "data": {
      "text/plain": [
       "array([[ 7553,  2702,  2933, ...,     0,     0,     0],\n",
       "       [   32,  2478,  1491, ...,   336,    13,     0],\n",
       "       [  109, 20613,  6723, ...,     0,     0,     0],\n",
       "       ...,\n",
       "       [  514,     3,  7182, ..., 14546,     5,     0],\n",
       "       [    6,    65,     3, ...,     0,     0,     0],\n",
       "       [ 1420,   969,  1258, ...,     0,     0,     0]], dtype=int32)"
      ]
     },
     "execution_count": 38,
     "metadata": {},
     "output_type": "execute_result"
    }
   ],
   "source": [
    "x_train_main"
   ]
  },
  {
   "cell_type": "code",
   "execution_count": 39,
   "id": "1830833f",
   "metadata": {
    "execution": {
     "iopub.execute_input": "2024-11-20T22:59:22.435135Z",
     "iopub.status.busy": "2024-11-20T22:59:22.434889Z",
     "iopub.status.idle": "2024-11-20T22:59:22.439899Z",
     "shell.execute_reply": "2024-11-20T22:59:22.439143Z"
    },
    "papermill": {
     "duration": 0.0195,
     "end_time": "2024-11-20T22:59:22.441476",
     "exception": false,
     "start_time": "2024-11-20T22:59:22.421976",
     "status": "completed"
    },
    "tags": []
   },
   "outputs": [
    {
     "data": {
      "text/plain": [
       "array([[62385, 28346, 28347, ...,    66,     1, 62386],\n",
       "       [62385, 53618,    47, ...,     7,     1, 62386],\n",
       "       [62385,   557,     2, ...,     0,     0,     0],\n",
       "       ...,\n",
       "       [62385,   250,    57, ...,     0,     0,     0],\n",
       "       [62385,    74,     3, ..., 62386,     0,     0],\n",
       "       [62385,   169,  1020, ...,    23, 62386,     0]], dtype=int32)"
      ]
     },
     "execution_count": 39,
     "metadata": {},
     "output_type": "execute_result"
    }
   ],
   "source": [
    "y_test_main"
   ]
  },
  {
   "cell_type": "code",
   "execution_count": 40,
   "id": "f26477d2",
   "metadata": {
    "execution": {
     "iopub.execute_input": "2024-11-20T22:59:22.467621Z",
     "iopub.status.busy": "2024-11-20T22:59:22.467337Z",
     "iopub.status.idle": "2024-11-20T22:59:22.478875Z",
     "shell.execute_reply": "2024-11-20T22:59:22.478211Z"
    },
    "papermill": {
     "duration": 0.026426,
     "end_time": "2024-11-20T22:59:22.480437",
     "exception": false,
     "start_time": "2024-11-20T22:59:22.454011",
     "status": "completed"
    },
    "tags": []
   },
   "outputs": [],
   "source": [
    "from tensorflow.keras.models import Model\n",
    "from tensorflow.keras.layers import Input, Embedding, LSTM, Dense, Dropout, Bidirectional, BatchNormalization\n",
    "from tensorflow.keras.regularizers import l2\n",
    "import tensorflow as tf\n",
    "\n",
    "def create_model(vocab_size_input, vocab_size_output, max_seq_length_input, max_seq_length_output, embedding_dim, hidden_units):\n",
    "    # Define encoder input layer\n",
    "    encoder_inputs = Input(shape=(max_seq_length_input,))\n",
    "    \n",
    "    # Define encoder embedding layer\n",
    "    encoder_embedding = Embedding(input_dim=vocab_size_input, output_dim=embedding_dim)(encoder_inputs)\n",
    "    \n",
    "    # Apply Batch Normalization to the embedding layer\n",
    "    encoder_embedding_bn = BatchNormalization()(encoder_embedding)\n",
    "    \n",
    "    # Define encoder LSTM layer (Bidirectional for more complex features)\n",
    "    encoder_lstm = Bidirectional(LSTM(hidden_units, return_state=True, kernel_regularizer=l2(0.01)))\n",
    "    encoder_outputs, forward_h, forward_c, backward_h, backward_c = encoder_lstm(encoder_embedding_bn)\n",
    "    \n",
    "    # Combine forward and backward states for the encoder\n",
    "    encoder_states = [forward_h, forward_c]\n",
    "    \n",
    "    # Define decoder input layer\n",
    "    decoder_inputs = Input(shape=(max_seq_length_output,))\n",
    "    \n",
    "    # Define decoder embedding layer\n",
    "    decoder_embedding = Embedding(input_dim=vocab_size_output, output_dim=embedding_dim)(decoder_inputs)\n",
    "    \n",
    "    # Apply Batch Normalization to the decoder embedding layer\n",
    "    decoder_embedding_bn = BatchNormalization()(decoder_embedding)\n",
    "    \n",
    "    # Define decoder LSTM layer with initial state set to encoder states\n",
    "    decoder_lstm = LSTM(hidden_units, return_sequences=True, return_state=True, dropout=0.2)\n",
    "    decoder_outputs, _, _ = decoder_lstm(decoder_embedding_bn, initial_state=encoder_states)\n",
    "    \n",
    "    # Apply Batch Normalization to decoder LSTM outputs\n",
    "    decoder_outputs_bn = BatchNormalization()(decoder_outputs)\n",
    "    \n",
    "    # Define decoder output layer\n",
    "    decoder_dense = Dense(vocab_size_output, activation='softmax')\n",
    "    decoder_outputs = decoder_dense(decoder_outputs_bn)\n",
    "    \n",
    "    # Define the model\n",
    "    model = Model([encoder_inputs, decoder_inputs], decoder_outputs)\n",
    "    \n",
    "    # Print model summary\n",
    "    print(model.summary())\n",
    "    \n",
    "    return model\n"
   ]
  },
  {
   "cell_type": "code",
   "execution_count": 41,
   "id": "e6914a5a",
   "metadata": {
    "execution": {
     "iopub.execute_input": "2024-11-20T22:59:22.507671Z",
     "iopub.status.busy": "2024-11-20T22:59:22.506884Z",
     "iopub.status.idle": "2024-11-20T22:59:22.511647Z",
     "shell.execute_reply": "2024-11-20T22:59:22.510822Z"
    },
    "papermill": {
     "duration": 0.019954,
     "end_time": "2024-11-20T22:59:22.513434",
     "exception": false,
     "start_time": "2024-11-20T22:59:22.493480",
     "status": "completed"
    },
    "tags": []
   },
   "outputs": [
    {
     "name": "stdout",
     "output_type": "stream",
     "text": [
      "Vocabulary size for source: 61526\n",
      "Vocabulary size for target: 62387\n"
     ]
    }
   ],
   "source": [
    "vocab_size_input = len(tok.word_index) + 1  # Add 1 for padding token\n",
    "#max_seq_length_input = max(len(str(sentence)) for sentence in data['English'])\n",
    "\n",
    "vocab_size_output = len(tok_hindi.word_index) + 1  # Add 1 for padding token\n",
    "#max_seq_length_output = max(len(str(sentence)) for sentence in data['Hindi'])\n",
    "\n",
    "print(\"Vocabulary size for source:\", vocab_size_input)\n",
    "# print(\"Maximum sequence length for surce:\", max_seq_length_input)\n",
    "print(\"Vocabulary size for target:\", vocab_size_output)\n",
    "# print(\"Maximum sequence length for target:\", max_seq_length_output)"
   ]
  },
  {
   "cell_type": "code",
   "execution_count": 42,
   "id": "1b677ad2",
   "metadata": {
    "execution": {
     "iopub.execute_input": "2024-11-20T22:59:22.539753Z",
     "iopub.status.busy": "2024-11-20T22:59:22.539475Z",
     "iopub.status.idle": "2024-11-20T22:59:22.567994Z",
     "shell.execute_reply": "2024-11-20T22:59:22.567089Z"
    },
    "papermill": {
     "duration": 0.043628,
     "end_time": "2024-11-20T22:59:22.569604",
     "exception": false,
     "start_time": "2024-11-20T22:59:22.525976",
     "status": "completed"
    },
    "tags": []
   },
   "outputs": [
    {
     "name": "stdout",
     "output_type": "stream",
     "text": [
      "Maximum sequence length in combined source dataset:  10\n",
      "Maximum sequence length in combined target dataset:  11\n"
     ]
    }
   ],
   "source": [
    "def calculate_max_sequence_length(text):\n",
    "    # Concatenate x_train_seq and x_test_seq\n",
    "    combined_sequences = text\n",
    "    max_length_combined = max(len(sequence) for sequence in combined_sequences)\n",
    "\n",
    "    return max_length_combined\n",
    "\n",
    "max_seq_length_input = calculate_max_sequence_length(df['source_int_token'])\n",
    "print(\"Maximum sequence length in combined source dataset: \", max_seq_length_input)\n",
    "max_seq_length_output = calculate_max_sequence_length(df['target_int_token']) - 1\n",
    "print(\"Maximum sequence length in combined target dataset: \", max_seq_length_output)"
   ]
  },
  {
   "cell_type": "code",
   "execution_count": 43,
   "id": "7cfe5ce9",
   "metadata": {
    "execution": {
     "iopub.execute_input": "2024-11-20T22:59:22.596933Z",
     "iopub.status.busy": "2024-11-20T22:59:22.596623Z",
     "iopub.status.idle": "2024-11-20T22:59:24.533953Z",
     "shell.execute_reply": "2024-11-20T22:59:24.533040Z"
    },
    "papermill": {
     "duration": 1.952627,
     "end_time": "2024-11-20T22:59:24.535531",
     "exception": false,
     "start_time": "2024-11-20T22:59:22.582904",
     "status": "completed"
    },
    "tags": []
   },
   "outputs": [
    {
     "data": {
      "text/html": [
       "<pre style=\"white-space:pre;overflow-x:auto;line-height:normal;font-family:Menlo,'DejaVu Sans Mono',consolas,'Courier New',monospace\"><span style=\"font-weight: bold\">Model: \"functional_1\"</span>\n",
       "</pre>\n"
      ],
      "text/plain": [
       "\u001b[1mModel: \"functional_1\"\u001b[0m\n"
      ]
     },
     "metadata": {},
     "output_type": "display_data"
    },
    {
     "data": {
      "text/html": [
       "<pre style=\"white-space:pre;overflow-x:auto;line-height:normal;font-family:Menlo,'DejaVu Sans Mono',consolas,'Courier New',monospace\">┏━━━━━━━━━━━━━━━━━━━━━┳━━━━━━━━━━━━━━━━━━━┳━━━━━━━━━━━━┳━━━━━━━━━━━━━━━━━━━┓\n",
       "┃<span style=\"font-weight: bold\"> Layer (type)        </span>┃<span style=\"font-weight: bold\"> Output Shape      </span>┃<span style=\"font-weight: bold\">    Param # </span>┃<span style=\"font-weight: bold\"> Connected to      </span>┃\n",
       "┡━━━━━━━━━━━━━━━━━━━━━╇━━━━━━━━━━━━━━━━━━━╇━━━━━━━━━━━━╇━━━━━━━━━━━━━━━━━━━┩\n",
       "│ input_layer         │ (<span style=\"color: #00d7ff; text-decoration-color: #00d7ff\">None</span>, <span style=\"color: #00af00; text-decoration-color: #00af00\">10</span>)        │          <span style=\"color: #00af00; text-decoration-color: #00af00\">0</span> │ -                 │\n",
       "│ (<span style=\"color: #0087ff; text-decoration-color: #0087ff\">InputLayer</span>)        │                   │            │                   │\n",
       "├─────────────────────┼───────────────────┼────────────┼───────────────────┤\n",
       "│ input_layer_1       │ (<span style=\"color: #00d7ff; text-decoration-color: #00d7ff\">None</span>, <span style=\"color: #00af00; text-decoration-color: #00af00\">11</span>)        │          <span style=\"color: #00af00; text-decoration-color: #00af00\">0</span> │ -                 │\n",
       "│ (<span style=\"color: #0087ff; text-decoration-color: #0087ff\">InputLayer</span>)        │                   │            │                   │\n",
       "├─────────────────────┼───────────────────┼────────────┼───────────────────┤\n",
       "│ embedding           │ (<span style=\"color: #00d7ff; text-decoration-color: #00d7ff\">None</span>, <span style=\"color: #00af00; text-decoration-color: #00af00\">10</span>, <span style=\"color: #00af00; text-decoration-color: #00af00\">300</span>)   │ <span style=\"color: #00af00; text-decoration-color: #00af00\">18,457,800</span> │ input_layer[<span style=\"color: #00af00; text-decoration-color: #00af00\">0</span>][<span style=\"color: #00af00; text-decoration-color: #00af00\">0</span>] │\n",
       "│ (<span style=\"color: #0087ff; text-decoration-color: #0087ff\">Embedding</span>)         │                   │            │                   │\n",
       "├─────────────────────┼───────────────────┼────────────┼───────────────────┤\n",
       "│ embedding_1         │ (<span style=\"color: #00d7ff; text-decoration-color: #00d7ff\">None</span>, <span style=\"color: #00af00; text-decoration-color: #00af00\">11</span>, <span style=\"color: #00af00; text-decoration-color: #00af00\">300</span>)   │ <span style=\"color: #00af00; text-decoration-color: #00af00\">18,716,100</span> │ input_layer_1[<span style=\"color: #00af00; text-decoration-color: #00af00\">0</span>]… │\n",
       "│ (<span style=\"color: #0087ff; text-decoration-color: #0087ff\">Embedding</span>)         │                   │            │                   │\n",
       "├─────────────────────┼───────────────────┼────────────┼───────────────────┤\n",
       "│ batch_normalization │ (<span style=\"color: #00d7ff; text-decoration-color: #00d7ff\">None</span>, <span style=\"color: #00af00; text-decoration-color: #00af00\">10</span>, <span style=\"color: #00af00; text-decoration-color: #00af00\">300</span>)   │      <span style=\"color: #00af00; text-decoration-color: #00af00\">1,200</span> │ embedding[<span style=\"color: #00af00; text-decoration-color: #00af00\">0</span>][<span style=\"color: #00af00; text-decoration-color: #00af00\">0</span>]   │\n",
       "│ (<span style=\"color: #0087ff; text-decoration-color: #0087ff\">BatchNormalizatio…</span> │                   │            │                   │\n",
       "├─────────────────────┼───────────────────┼────────────┼───────────────────┤\n",
       "│ batch_normalizatio… │ (<span style=\"color: #00d7ff; text-decoration-color: #00d7ff\">None</span>, <span style=\"color: #00af00; text-decoration-color: #00af00\">11</span>, <span style=\"color: #00af00; text-decoration-color: #00af00\">300</span>)   │      <span style=\"color: #00af00; text-decoration-color: #00af00\">1,200</span> │ embedding_1[<span style=\"color: #00af00; text-decoration-color: #00af00\">0</span>][<span style=\"color: #00af00; text-decoration-color: #00af00\">0</span>] │\n",
       "│ (<span style=\"color: #0087ff; text-decoration-color: #0087ff\">BatchNormalizatio…</span> │                   │            │                   │\n",
       "├─────────────────────┼───────────────────┼────────────┼───────────────────┤\n",
       "│ bidirectional       │ [(<span style=\"color: #00d7ff; text-decoration-color: #00d7ff\">None</span>, <span style=\"color: #00af00; text-decoration-color: #00af00\">1200</span>),    │  <span style=\"color: #00af00; text-decoration-color: #00af00\">4,324,800</span> │ batch_normalizat… │\n",
       "│ (<span style=\"color: #0087ff; text-decoration-color: #0087ff\">Bidirectional</span>)     │ (<span style=\"color: #00d7ff; text-decoration-color: #00d7ff\">None</span>, <span style=\"color: #00af00; text-decoration-color: #00af00\">600</span>),      │            │                   │\n",
       "│                     │ (<span style=\"color: #00d7ff; text-decoration-color: #00d7ff\">None</span>, <span style=\"color: #00af00; text-decoration-color: #00af00\">600</span>),      │            │                   │\n",
       "│                     │ (<span style=\"color: #00d7ff; text-decoration-color: #00d7ff\">None</span>, <span style=\"color: #00af00; text-decoration-color: #00af00\">600</span>),      │            │                   │\n",
       "│                     │ (<span style=\"color: #00d7ff; text-decoration-color: #00d7ff\">None</span>, <span style=\"color: #00af00; text-decoration-color: #00af00\">600</span>)]      │            │                   │\n",
       "├─────────────────────┼───────────────────┼────────────┼───────────────────┤\n",
       "│ lstm_1 (<span style=\"color: #0087ff; text-decoration-color: #0087ff\">LSTM</span>)       │ [(<span style=\"color: #00d7ff; text-decoration-color: #00d7ff\">None</span>, <span style=\"color: #00af00; text-decoration-color: #00af00\">11</span>, <span style=\"color: #00af00; text-decoration-color: #00af00\">600</span>), │  <span style=\"color: #00af00; text-decoration-color: #00af00\">2,162,400</span> │ batch_normalizat… │\n",
       "│                     │ (<span style=\"color: #00d7ff; text-decoration-color: #00d7ff\">None</span>, <span style=\"color: #00af00; text-decoration-color: #00af00\">600</span>),      │            │ bidirectional[<span style=\"color: #00af00; text-decoration-color: #00af00\">0</span>]… │\n",
       "│                     │ (<span style=\"color: #00d7ff; text-decoration-color: #00d7ff\">None</span>, <span style=\"color: #00af00; text-decoration-color: #00af00\">600</span>)]      │            │ bidirectional[<span style=\"color: #00af00; text-decoration-color: #00af00\">0</span>]… │\n",
       "├─────────────────────┼───────────────────┼────────────┼───────────────────┤\n",
       "│ batch_normalizatio… │ (<span style=\"color: #00d7ff; text-decoration-color: #00d7ff\">None</span>, <span style=\"color: #00af00; text-decoration-color: #00af00\">11</span>, <span style=\"color: #00af00; text-decoration-color: #00af00\">600</span>)   │      <span style=\"color: #00af00; text-decoration-color: #00af00\">2,400</span> │ lstm_1[<span style=\"color: #00af00; text-decoration-color: #00af00\">0</span>][<span style=\"color: #00af00; text-decoration-color: #00af00\">0</span>]      │\n",
       "│ (<span style=\"color: #0087ff; text-decoration-color: #0087ff\">BatchNormalizatio…</span> │                   │            │                   │\n",
       "├─────────────────────┼───────────────────┼────────────┼───────────────────┤\n",
       "│ dense (<span style=\"color: #0087ff; text-decoration-color: #0087ff\">Dense</span>)       │ (<span style=\"color: #00d7ff; text-decoration-color: #00d7ff\">None</span>, <span style=\"color: #00af00; text-decoration-color: #00af00\">11</span>, <span style=\"color: #00af00; text-decoration-color: #00af00\">62387</span>) │ <span style=\"color: #00af00; text-decoration-color: #00af00\">37,494,587</span> │ batch_normalizat… │\n",
       "└─────────────────────┴───────────────────┴────────────┴───────────────────┘\n",
       "</pre>\n"
      ],
      "text/plain": [
       "┏━━━━━━━━━━━━━━━━━━━━━┳━━━━━━━━━━━━━━━━━━━┳━━━━━━━━━━━━┳━━━━━━━━━━━━━━━━━━━┓\n",
       "┃\u001b[1m \u001b[0m\u001b[1mLayer (type)       \u001b[0m\u001b[1m \u001b[0m┃\u001b[1m \u001b[0m\u001b[1mOutput Shape     \u001b[0m\u001b[1m \u001b[0m┃\u001b[1m \u001b[0m\u001b[1m   Param #\u001b[0m\u001b[1m \u001b[0m┃\u001b[1m \u001b[0m\u001b[1mConnected to     \u001b[0m\u001b[1m \u001b[0m┃\n",
       "┡━━━━━━━━━━━━━━━━━━━━━╇━━━━━━━━━━━━━━━━━━━╇━━━━━━━━━━━━╇━━━━━━━━━━━━━━━━━━━┩\n",
       "│ input_layer         │ (\u001b[38;5;45mNone\u001b[0m, \u001b[38;5;34m10\u001b[0m)        │          \u001b[38;5;34m0\u001b[0m │ -                 │\n",
       "│ (\u001b[38;5;33mInputLayer\u001b[0m)        │                   │            │                   │\n",
       "├─────────────────────┼───────────────────┼────────────┼───────────────────┤\n",
       "│ input_layer_1       │ (\u001b[38;5;45mNone\u001b[0m, \u001b[38;5;34m11\u001b[0m)        │          \u001b[38;5;34m0\u001b[0m │ -                 │\n",
       "│ (\u001b[38;5;33mInputLayer\u001b[0m)        │                   │            │                   │\n",
       "├─────────────────────┼───────────────────┼────────────┼───────────────────┤\n",
       "│ embedding           │ (\u001b[38;5;45mNone\u001b[0m, \u001b[38;5;34m10\u001b[0m, \u001b[38;5;34m300\u001b[0m)   │ \u001b[38;5;34m18,457,800\u001b[0m │ input_layer[\u001b[38;5;34m0\u001b[0m][\u001b[38;5;34m0\u001b[0m] │\n",
       "│ (\u001b[38;5;33mEmbedding\u001b[0m)         │                   │            │                   │\n",
       "├─────────────────────┼───────────────────┼────────────┼───────────────────┤\n",
       "│ embedding_1         │ (\u001b[38;5;45mNone\u001b[0m, \u001b[38;5;34m11\u001b[0m, \u001b[38;5;34m300\u001b[0m)   │ \u001b[38;5;34m18,716,100\u001b[0m │ input_layer_1[\u001b[38;5;34m0\u001b[0m]… │\n",
       "│ (\u001b[38;5;33mEmbedding\u001b[0m)         │                   │            │                   │\n",
       "├─────────────────────┼───────────────────┼────────────┼───────────────────┤\n",
       "│ batch_normalization │ (\u001b[38;5;45mNone\u001b[0m, \u001b[38;5;34m10\u001b[0m, \u001b[38;5;34m300\u001b[0m)   │      \u001b[38;5;34m1,200\u001b[0m │ embedding[\u001b[38;5;34m0\u001b[0m][\u001b[38;5;34m0\u001b[0m]   │\n",
       "│ (\u001b[38;5;33mBatchNormalizatio…\u001b[0m │                   │            │                   │\n",
       "├─────────────────────┼───────────────────┼────────────┼───────────────────┤\n",
       "│ batch_normalizatio… │ (\u001b[38;5;45mNone\u001b[0m, \u001b[38;5;34m11\u001b[0m, \u001b[38;5;34m300\u001b[0m)   │      \u001b[38;5;34m1,200\u001b[0m │ embedding_1[\u001b[38;5;34m0\u001b[0m][\u001b[38;5;34m0\u001b[0m] │\n",
       "│ (\u001b[38;5;33mBatchNormalizatio…\u001b[0m │                   │            │                   │\n",
       "├─────────────────────┼───────────────────┼────────────┼───────────────────┤\n",
       "│ bidirectional       │ [(\u001b[38;5;45mNone\u001b[0m, \u001b[38;5;34m1200\u001b[0m),    │  \u001b[38;5;34m4,324,800\u001b[0m │ batch_normalizat… │\n",
       "│ (\u001b[38;5;33mBidirectional\u001b[0m)     │ (\u001b[38;5;45mNone\u001b[0m, \u001b[38;5;34m600\u001b[0m),      │            │                   │\n",
       "│                     │ (\u001b[38;5;45mNone\u001b[0m, \u001b[38;5;34m600\u001b[0m),      │            │                   │\n",
       "│                     │ (\u001b[38;5;45mNone\u001b[0m, \u001b[38;5;34m600\u001b[0m),      │            │                   │\n",
       "│                     │ (\u001b[38;5;45mNone\u001b[0m, \u001b[38;5;34m600\u001b[0m)]      │            │                   │\n",
       "├─────────────────────┼───────────────────┼────────────┼───────────────────┤\n",
       "│ lstm_1 (\u001b[38;5;33mLSTM\u001b[0m)       │ [(\u001b[38;5;45mNone\u001b[0m, \u001b[38;5;34m11\u001b[0m, \u001b[38;5;34m600\u001b[0m), │  \u001b[38;5;34m2,162,400\u001b[0m │ batch_normalizat… │\n",
       "│                     │ (\u001b[38;5;45mNone\u001b[0m, \u001b[38;5;34m600\u001b[0m),      │            │ bidirectional[\u001b[38;5;34m0\u001b[0m]… │\n",
       "│                     │ (\u001b[38;5;45mNone\u001b[0m, \u001b[38;5;34m600\u001b[0m)]      │            │ bidirectional[\u001b[38;5;34m0\u001b[0m]… │\n",
       "├─────────────────────┼───────────────────┼────────────┼───────────────────┤\n",
       "│ batch_normalizatio… │ (\u001b[38;5;45mNone\u001b[0m, \u001b[38;5;34m11\u001b[0m, \u001b[38;5;34m600\u001b[0m)   │      \u001b[38;5;34m2,400\u001b[0m │ lstm_1[\u001b[38;5;34m0\u001b[0m][\u001b[38;5;34m0\u001b[0m]      │\n",
       "│ (\u001b[38;5;33mBatchNormalizatio…\u001b[0m │                   │            │                   │\n",
       "├─────────────────────┼───────────────────┼────────────┼───────────────────┤\n",
       "│ dense (\u001b[38;5;33mDense\u001b[0m)       │ (\u001b[38;5;45mNone\u001b[0m, \u001b[38;5;34m11\u001b[0m, \u001b[38;5;34m62387\u001b[0m) │ \u001b[38;5;34m37,494,587\u001b[0m │ batch_normalizat… │\n",
       "└─────────────────────┴───────────────────┴────────────┴───────────────────┘\n"
      ]
     },
     "metadata": {},
     "output_type": "display_data"
    },
    {
     "data": {
      "text/html": [
       "<pre style=\"white-space:pre;overflow-x:auto;line-height:normal;font-family:Menlo,'DejaVu Sans Mono',consolas,'Courier New',monospace\"><span style=\"font-weight: bold\"> Total params: </span><span style=\"color: #00af00; text-decoration-color: #00af00\">81,160,487</span> (309.60 MB)\n",
       "</pre>\n"
      ],
      "text/plain": [
       "\u001b[1m Total params: \u001b[0m\u001b[38;5;34m81,160,487\u001b[0m (309.60 MB)\n"
      ]
     },
     "metadata": {},
     "output_type": "display_data"
    },
    {
     "data": {
      "text/html": [
       "<pre style=\"white-space:pre;overflow-x:auto;line-height:normal;font-family:Menlo,'DejaVu Sans Mono',consolas,'Courier New',monospace\"><span style=\"font-weight: bold\"> Trainable params: </span><span style=\"color: #00af00; text-decoration-color: #00af00\">81,158,087</span> (309.59 MB)\n",
       "</pre>\n"
      ],
      "text/plain": [
       "\u001b[1m Trainable params: \u001b[0m\u001b[38;5;34m81,158,087\u001b[0m (309.59 MB)\n"
      ]
     },
     "metadata": {},
     "output_type": "display_data"
    },
    {
     "data": {
      "text/html": [
       "<pre style=\"white-space:pre;overflow-x:auto;line-height:normal;font-family:Menlo,'DejaVu Sans Mono',consolas,'Courier New',monospace\"><span style=\"font-weight: bold\"> Non-trainable params: </span><span style=\"color: #00af00; text-decoration-color: #00af00\">2,400</span> (9.38 KB)\n",
       "</pre>\n"
      ],
      "text/plain": [
       "\u001b[1m Non-trainable params: \u001b[0m\u001b[38;5;34m2,400\u001b[0m (9.38 KB)\n"
      ]
     },
     "metadata": {},
     "output_type": "display_data"
    },
    {
     "name": "stdout",
     "output_type": "stream",
     "text": [
      "None\n"
     ]
    }
   ],
   "source": [
    "embedding_dim = 300  \n",
    "hidden_units = 600  \n",
    "batch_size = 16\n",
    "\n",
    "\n",
    "model = create_model(vocab_size_input, vocab_size_output, max_seq_length_input, max_seq_length_output, embedding_dim, hidden_units)\n",
    "from tensorflow.keras.optimizers import Adam\n",
    "optimizer = Adam(learning_rate=0.0001)  # Use a smaller learning rate\n",
    "model.compile(optimizer=optimizer, loss='sparse_categorical_crossentropy', metrics=['accuracy'])"
   ]
  },
  {
   "cell_type": "code",
   "execution_count": 44,
   "id": "ac1d855a",
   "metadata": {
    "execution": {
     "iopub.execute_input": "2024-11-20T22:59:24.564964Z",
     "iopub.status.busy": "2024-11-20T22:59:24.564375Z",
     "iopub.status.idle": "2024-11-21T00:30:26.405837Z",
     "shell.execute_reply": "2024-11-21T00:30:26.404883Z"
    },
    "papermill": {
     "duration": 5464.230882,
     "end_time": "2024-11-21T00:30:28.780312",
     "exception": false,
     "start_time": "2024-11-20T22:59:24.549430",
     "status": "completed"
    },
    "tags": []
   },
   "outputs": [
    {
     "name": "stdout",
     "output_type": "stream",
     "text": [
      "Epoch 1/20\n"
     ]
    },
    {
     "name": "stderr",
     "output_type": "stream",
     "text": [
      "/opt/conda/lib/python3.10/site-packages/keras/src/optimizers/base_optimizer.py:664: UserWarning: Gradients do not exist for variables ['recurrent_kernel', 'bias'] when minimizing the loss. If using `model.compile()`, did you forget to provide a `loss` argument?\n",
      "  warnings.warn(\n"
     ]
    },
    {
     "name": "stdout",
     "output_type": "stream",
     "text": [
      "\u001b[1m3580/3580\u001b[0m \u001b[32m━━━━━━━━━━━━━━━━━━━━\u001b[0m\u001b[37m\u001b[0m \u001b[1m427s\u001b[0m 117ms/step - accuracy: 0.3962 - loss: 7.2716 - val_accuracy: 0.5751 - val_loss: 3.6059\n",
      "Epoch 2/20\n",
      "\u001b[1m3580/3580\u001b[0m \u001b[32m━━━━━━━━━━━━━━━━━━━━\u001b[0m\u001b[37m\u001b[0m \u001b[1m421s\u001b[0m 118ms/step - accuracy: 0.6046 - loss: 3.1830 - val_accuracy: 0.6732 - val_loss: 2.8577\n",
      "Epoch 3/20\n",
      "\u001b[1m3580/3580\u001b[0m \u001b[32m━━━━━━━━━━━━━━━━━━━━\u001b[0m\u001b[37m\u001b[0m \u001b[1m421s\u001b[0m 117ms/step - accuracy: 0.7010 - loss: 2.1810 - val_accuracy: 0.7268 - val_loss: 2.4488\n",
      "Epoch 4/20\n",
      "\u001b[1m3580/3580\u001b[0m \u001b[32m━━━━━━━━━━━━━━━━━━━━\u001b[0m\u001b[37m\u001b[0m \u001b[1m419s\u001b[0m 117ms/step - accuracy: 0.7953 - loss: 1.3620 - val_accuracy: 0.7640 - val_loss: 2.2298\n",
      "Epoch 5/20\n",
      "\u001b[1m3580/3580\u001b[0m \u001b[32m━━━━━━━━━━━━━━━━━━━━\u001b[0m\u001b[37m\u001b[0m \u001b[1m420s\u001b[0m 117ms/step - accuracy: 0.9028 - loss: 0.6955 - val_accuracy: 0.7756 - val_loss: 2.1687\n",
      "Epoch 6/20\n",
      "\u001b[1m3580/3580\u001b[0m \u001b[32m━━━━━━━━━━━━━━━━━━━━\u001b[0m\u001b[37m\u001b[0m \u001b[1m421s\u001b[0m 118ms/step - accuracy: 0.9682 - loss: 0.2828 - val_accuracy: 0.7915 - val_loss: 2.1392\n",
      "Epoch 7/20\n",
      "\u001b[1m3580/3580\u001b[0m \u001b[32m━━━━━━━━━━━━━━━━━━━━\u001b[0m\u001b[37m\u001b[0m \u001b[1m421s\u001b[0m 118ms/step - accuracy: 0.9845 - loss: 0.1383 - val_accuracy: 0.7940 - val_loss: 2.1246\n",
      "Epoch 8/20\n",
      "\u001b[1m3580/3580\u001b[0m \u001b[32m━━━━━━━━━━━━━━━━━━━━\u001b[0m\u001b[37m\u001b[0m \u001b[1m418s\u001b[0m 117ms/step - accuracy: 0.9889 - loss: 0.0971 - val_accuracy: 0.7941 - val_loss: 2.1327\n",
      "Epoch 9/20\n",
      "\u001b[1m3580/3580\u001b[0m \u001b[32m━━━━━━━━━━━━━━━━━━━━\u001b[0m\u001b[37m\u001b[0m \u001b[1m421s\u001b[0m 118ms/step - accuracy: 0.9911 - loss: 0.0768 - val_accuracy: 0.7963 - val_loss: 2.1100\n",
      "Epoch 10/20\n",
      "\u001b[1m3580/3580\u001b[0m \u001b[32m━━━━━━━━━━━━━━━━━━━━\u001b[0m\u001b[37m\u001b[0m \u001b[1m421s\u001b[0m 118ms/step - accuracy: 0.9931 - loss: 0.0631 - val_accuracy: 0.7962 - val_loss: 2.0727\n",
      "Epoch 11/20\n",
      "\u001b[1m3580/3580\u001b[0m \u001b[32m━━━━━━━━━━━━━━━━━━━━\u001b[0m\u001b[37m\u001b[0m \u001b[1m417s\u001b[0m 117ms/step - accuracy: 0.9939 - loss: 0.0558 - val_accuracy: 0.7967 - val_loss: 2.0769\n",
      "Epoch 12/20\n",
      "\u001b[1m3580/3580\u001b[0m \u001b[32m━━━━━━━━━━━━━━━━━━━━\u001b[0m\u001b[37m\u001b[0m \u001b[1m417s\u001b[0m 117ms/step - accuracy: 0.9949 - loss: 0.0497 - val_accuracy: 0.7959 - val_loss: 2.1265\n",
      "Epoch 13/20\n",
      "\u001b[1m3580/3580\u001b[0m \u001b[32m━━━━━━━━━━━━━━━━━━━━\u001b[0m\u001b[37m\u001b[0m \u001b[1m417s\u001b[0m 116ms/step - accuracy: 0.9954 - loss: 0.0450 - val_accuracy: 0.7972 - val_loss: 2.0829\n"
     ]
    }
   ],
   "source": [
    "from keras.callbacks import EarlyStopping, ModelCheckpoint\n",
    "\n",
    "# Define callbacks\n",
    "callbacks = [\n",
    "    EarlyStopping(patience=3, monitor='val_loss'),  # Stop training if validation loss stops improving for 3 epochs\n",
    "    ModelCheckpoint(filepath='model_weights.weights.h5', save_best_only=True, save_weights_only=True, monitor='val_loss')  # Save the model with the best validation loss\n",
    "]\n",
    "\n",
    "# Fit the model with callbacks\n",
    "history = model.fit(x=[x_train_main, y_train_main[:, :-1]],  # Exclude last token from decoder input\n",
    "                    y=y_train_main[:, 1:],  # Exclude first token from decoder target\n",
    "                    batch_size=batch_size,\n",
    "                    epochs=20,\n",
    "                    validation_data=([x_test_main, y_test_main[:, :-1]], y_test_main[:, 1:]),\n",
    "                    callbacks=callbacks)"
   ]
  },
  {
   "cell_type": "code",
   "execution_count": 45,
   "id": "8efffe1e",
   "metadata": {
    "execution": {
     "iopub.execute_input": "2024-11-21T00:30:33.463089Z",
     "iopub.status.busy": "2024-11-21T00:30:33.462745Z",
     "iopub.status.idle": "2024-11-21T00:30:33.729069Z",
     "shell.execute_reply": "2024-11-21T00:30:33.728281Z"
    },
    "papermill": {
     "duration": 2.536243,
     "end_time": "2024-11-21T00:30:33.730800",
     "exception": false,
     "start_time": "2024-11-21T00:30:31.194557",
     "status": "completed"
    },
    "tags": []
   },
   "outputs": [
    {
     "data": {
      "image/png": "[encoded data removed]",
      "text/plain": [
       "<Figure size 640x480 with 1 Axes>"
      ]
     },
     "metadata": {},
     "output_type": "display_data"
    }
   ],
   "source": [
    "plt.plot(history.history['loss'])\n",
    "plt.plot(history.history['val_loss'])\n",
    "plt.title('Model loss')\n",
    "plt.ylabel('Loss')\n",
    "plt.xlabel('Epoch')\n",
    "plt.legend(['Train', 'Validation'], loc='upper left')\n",
    "plt.show()"
   ]
  },
  {
   "cell_type": "code",
   "execution_count": 46,
   "id": "1fff6f18",
   "metadata": {
    "execution": {
     "iopub.execute_input": "2024-11-21T00:30:38.364008Z",
     "iopub.status.busy": "2024-11-21T00:30:38.363303Z",
     "iopub.status.idle": "2024-11-21T00:30:38.599277Z",
     "shell.execute_reply": "2024-11-21T00:30:38.598498Z"
    },
    "papermill": {
     "duration": 2.514269,
     "end_time": "2024-11-21T00:30:38.601036",
     "exception": false,
     "start_time": "2024-11-21T00:30:36.086767",
     "status": "completed"
    },
    "tags": []
   },
   "outputs": [
    {
     "data": {
      "image/png": "[encoded data removed]",
      "text/plain": [
       "<Figure size 640x480 with 1 Axes>"
      ]
     },
     "metadata": {},
     "output_type": "display_data"
    }
   ],
   "source": [
    "plt.plot(history.history['accuracy'])\n",
    "plt.plot(history.history['val_accuracy'])\n",
    "plt.title('Model Accuracy')\n",
    "plt.ylabel('Accuracy')\n",
    "plt.xlabel('Epoch')\n",
    "plt.legend(['Train', 'Validation'], loc='upper left')\n",
    "plt.show()"
   ]
  },
  {
   "cell_type": "code",
   "execution_count": 47,
   "id": "c4d6d135",
   "metadata": {
    "execution": {
     "iopub.execute_input": "2024-11-21T00:30:43.224093Z",
     "iopub.status.busy": "2024-11-21T00:30:43.223745Z",
     "iopub.status.idle": "2024-11-21T00:30:45.180399Z",
     "shell.execute_reply": "2024-11-21T00:30:45.179453Z"
    },
    "papermill": {
     "duration": 4.216008,
     "end_time": "2024-11-21T00:30:45.182311",
     "exception": false,
     "start_time": "2024-11-21T00:30:40.966303",
     "status": "completed"
    },
    "tags": []
   },
   "outputs": [
    {
     "name": "stdout",
     "output_type": "stream",
     "text": [
      "Model weights saved successfully.\n"
     ]
    }
   ],
   "source": [
    "weights_file_path = '/kaggle/working/model_weights_main.weights.h5'\n",
    "\n",
    "model.save_weights(weights_file_path)\n",
    "\n",
    "print(\"Model weights saved successfully.\")"
   ]
  },
  {
   "cell_type": "code",
   "execution_count": 48,
   "id": "fb7d7a02",
   "metadata": {
    "execution": {
     "iopub.execute_input": "2024-11-21T00:30:49.849097Z",
     "iopub.status.busy": "2024-11-21T00:30:49.848759Z",
     "iopub.status.idle": "2024-11-21T00:30:51.082268Z",
     "shell.execute_reply": "2024-11-21T00:30:51.081525Z"
    },
    "papermill": {
     "duration": 3.588462,
     "end_time": "2024-11-21T00:30:51.084367",
     "exception": false,
     "start_time": "2024-11-21T00:30:47.495905",
     "status": "completed"
    },
    "tags": []
   },
   "outputs": [
    {
     "data": {
      "text/html": [
       "<pre style=\"white-space:pre;overflow-x:auto;line-height:normal;font-family:Menlo,'DejaVu Sans Mono',consolas,'Courier New',monospace\"><span style=\"font-weight: bold\">Model: \"functional_3\"</span>\n",
       "</pre>\n"
      ],
      "text/plain": [
       "\u001b[1mModel: \"functional_3\"\u001b[0m\n"
      ]
     },
     "metadata": {},
     "output_type": "display_data"
    },
    {
     "data": {
      "text/html": [
       "<pre style=\"white-space:pre;overflow-x:auto;line-height:normal;font-family:Menlo,'DejaVu Sans Mono',consolas,'Courier New',monospace\">┏━━━━━━━━━━━━━━━━━━━━━┳━━━━━━━━━━━━━━━━━━━┳━━━━━━━━━━━━┳━━━━━━━━━━━━━━━━━━━┓\n",
       "┃<span style=\"font-weight: bold\"> Layer (type)        </span>┃<span style=\"font-weight: bold\"> Output Shape      </span>┃<span style=\"font-weight: bold\">    Param # </span>┃<span style=\"font-weight: bold\"> Connected to      </span>┃\n",
       "┡━━━━━━━━━━━━━━━━━━━━━╇━━━━━━━━━━━━━━━━━━━╇━━━━━━━━━━━━╇━━━━━━━━━━━━━━━━━━━┩\n",
       "│ input_layer_2       │ (<span style=\"color: #00d7ff; text-decoration-color: #00d7ff\">None</span>, <span style=\"color: #00af00; text-decoration-color: #00af00\">10</span>)        │          <span style=\"color: #00af00; text-decoration-color: #00af00\">0</span> │ -                 │\n",
       "│ (<span style=\"color: #0087ff; text-decoration-color: #0087ff\">InputLayer</span>)        │                   │            │                   │\n",
       "├─────────────────────┼───────────────────┼────────────┼───────────────────┤\n",
       "│ input_layer_3       │ (<span style=\"color: #00d7ff; text-decoration-color: #00d7ff\">None</span>, <span style=\"color: #00af00; text-decoration-color: #00af00\">11</span>)        │          <span style=\"color: #00af00; text-decoration-color: #00af00\">0</span> │ -                 │\n",
       "│ (<span style=\"color: #0087ff; text-decoration-color: #0087ff\">InputLayer</span>)        │                   │            │                   │\n",
       "├─────────────────────┼───────────────────┼────────────┼───────────────────┤\n",
       "│ embedding_2         │ (<span style=\"color: #00d7ff; text-decoration-color: #00d7ff\">None</span>, <span style=\"color: #00af00; text-decoration-color: #00af00\">10</span>, <span style=\"color: #00af00; text-decoration-color: #00af00\">300</span>)   │ <span style=\"color: #00af00; text-decoration-color: #00af00\">18,457,800</span> │ input_layer_2[<span style=\"color: #00af00; text-decoration-color: #00af00\">0</span>]… │\n",
       "│ (<span style=\"color: #0087ff; text-decoration-color: #0087ff\">Embedding</span>)         │                   │            │                   │\n",
       "├─────────────────────┼───────────────────┼────────────┼───────────────────┤\n",
       "│ embedding_3         │ (<span style=\"color: #00d7ff; text-decoration-color: #00d7ff\">None</span>, <span style=\"color: #00af00; text-decoration-color: #00af00\">11</span>, <span style=\"color: #00af00; text-decoration-color: #00af00\">300</span>)   │ <span style=\"color: #00af00; text-decoration-color: #00af00\">18,716,100</span> │ input_layer_3[<span style=\"color: #00af00; text-decoration-color: #00af00\">0</span>]… │\n",
       "│ (<span style=\"color: #0087ff; text-decoration-color: #0087ff\">Embedding</span>)         │                   │            │                   │\n",
       "├─────────────────────┼───────────────────┼────────────┼───────────────────┤\n",
       "│ batch_normalizatio… │ (<span style=\"color: #00d7ff; text-decoration-color: #00d7ff\">None</span>, <span style=\"color: #00af00; text-decoration-color: #00af00\">10</span>, <span style=\"color: #00af00; text-decoration-color: #00af00\">300</span>)   │      <span style=\"color: #00af00; text-decoration-color: #00af00\">1,200</span> │ embedding_2[<span style=\"color: #00af00; text-decoration-color: #00af00\">0</span>][<span style=\"color: #00af00; text-decoration-color: #00af00\">0</span>] │\n",
       "│ (<span style=\"color: #0087ff; text-decoration-color: #0087ff\">BatchNormalizatio…</span> │                   │            │                   │\n",
       "├─────────────────────┼───────────────────┼────────────┼───────────────────┤\n",
       "│ batch_normalizatio… │ (<span style=\"color: #00d7ff; text-decoration-color: #00d7ff\">None</span>, <span style=\"color: #00af00; text-decoration-color: #00af00\">11</span>, <span style=\"color: #00af00; text-decoration-color: #00af00\">300</span>)   │      <span style=\"color: #00af00; text-decoration-color: #00af00\">1,200</span> │ embedding_3[<span style=\"color: #00af00; text-decoration-color: #00af00\">0</span>][<span style=\"color: #00af00; text-decoration-color: #00af00\">0</span>] │\n",
       "│ (<span style=\"color: #0087ff; text-decoration-color: #0087ff\">BatchNormalizatio…</span> │                   │            │                   │\n",
       "├─────────────────────┼───────────────────┼────────────┼───────────────────┤\n",
       "│ bidirectional_1     │ [(<span style=\"color: #00d7ff; text-decoration-color: #00d7ff\">None</span>, <span style=\"color: #00af00; text-decoration-color: #00af00\">1200</span>),    │  <span style=\"color: #00af00; text-decoration-color: #00af00\">4,324,800</span> │ batch_normalizat… │\n",
       "│ (<span style=\"color: #0087ff; text-decoration-color: #0087ff\">Bidirectional</span>)     │ (<span style=\"color: #00d7ff; text-decoration-color: #00d7ff\">None</span>, <span style=\"color: #00af00; text-decoration-color: #00af00\">600</span>),      │            │                   │\n",
       "│                     │ (<span style=\"color: #00d7ff; text-decoration-color: #00d7ff\">None</span>, <span style=\"color: #00af00; text-decoration-color: #00af00\">600</span>),      │            │                   │\n",
       "│                     │ (<span style=\"color: #00d7ff; text-decoration-color: #00d7ff\">None</span>, <span style=\"color: #00af00; text-decoration-color: #00af00\">600</span>),      │            │                   │\n",
       "│                     │ (<span style=\"color: #00d7ff; text-decoration-color: #00d7ff\">None</span>, <span style=\"color: #00af00; text-decoration-color: #00af00\">600</span>)]      │            │                   │\n",
       "├─────────────────────┼───────────────────┼────────────┼───────────────────┤\n",
       "│ lstm_3 (<span style=\"color: #0087ff; text-decoration-color: #0087ff\">LSTM</span>)       │ [(<span style=\"color: #00d7ff; text-decoration-color: #00d7ff\">None</span>, <span style=\"color: #00af00; text-decoration-color: #00af00\">11</span>, <span style=\"color: #00af00; text-decoration-color: #00af00\">600</span>), │  <span style=\"color: #00af00; text-decoration-color: #00af00\">2,162,400</span> │ batch_normalizat… │\n",
       "│                     │ (<span style=\"color: #00d7ff; text-decoration-color: #00d7ff\">None</span>, <span style=\"color: #00af00; text-decoration-color: #00af00\">600</span>),      │            │ bidirectional_1[<span style=\"color: #00af00; text-decoration-color: #00af00\">…</span> │\n",
       "│                     │ (<span style=\"color: #00d7ff; text-decoration-color: #00d7ff\">None</span>, <span style=\"color: #00af00; text-decoration-color: #00af00\">600</span>)]      │            │ bidirectional_1[<span style=\"color: #00af00; text-decoration-color: #00af00\">…</span> │\n",
       "├─────────────────────┼───────────────────┼────────────┼───────────────────┤\n",
       "│ batch_normalizatio… │ (<span style=\"color: #00d7ff; text-decoration-color: #00d7ff\">None</span>, <span style=\"color: #00af00; text-decoration-color: #00af00\">11</span>, <span style=\"color: #00af00; text-decoration-color: #00af00\">600</span>)   │      <span style=\"color: #00af00; text-decoration-color: #00af00\">2,400</span> │ lstm_3[<span style=\"color: #00af00; text-decoration-color: #00af00\">0</span>][<span style=\"color: #00af00; text-decoration-color: #00af00\">0</span>]      │\n",
       "│ (<span style=\"color: #0087ff; text-decoration-color: #0087ff\">BatchNormalizatio…</span> │                   │            │                   │\n",
       "├─────────────────────┼───────────────────┼────────────┼───────────────────┤\n",
       "│ dense_1 (<span style=\"color: #0087ff; text-decoration-color: #0087ff\">Dense</span>)     │ (<span style=\"color: #00d7ff; text-decoration-color: #00d7ff\">None</span>, <span style=\"color: #00af00; text-decoration-color: #00af00\">11</span>, <span style=\"color: #00af00; text-decoration-color: #00af00\">62387</span>) │ <span style=\"color: #00af00; text-decoration-color: #00af00\">37,494,587</span> │ batch_normalizat… │\n",
       "└─────────────────────┴───────────────────┴────────────┴───────────────────┘\n",
       "</pre>\n"
      ],
      "text/plain": [
       "┏━━━━━━━━━━━━━━━━━━━━━┳━━━━━━━━━━━━━━━━━━━┳━━━━━━━━━━━━┳━━━━━━━━━━━━━━━━━━━┓\n",
       "┃\u001b[1m \u001b[0m\u001b[1mLayer (type)       \u001b[0m\u001b[1m \u001b[0m┃\u001b[1m \u001b[0m\u001b[1mOutput Shape     \u001b[0m\u001b[1m \u001b[0m┃\u001b[1m \u001b[0m\u001b[1m   Param #\u001b[0m\u001b[1m \u001b[0m┃\u001b[1m \u001b[0m\u001b[1mConnected to     \u001b[0m\u001b[1m \u001b[0m┃\n",
       "┡━━━━━━━━━━━━━━━━━━━━━╇━━━━━━━━━━━━━━━━━━━╇━━━━━━━━━━━━╇━━━━━━━━━━━━━━━━━━━┩\n",
       "│ input_layer_2       │ (\u001b[38;5;45mNone\u001b[0m, \u001b[38;5;34m10\u001b[0m)        │          \u001b[38;5;34m0\u001b[0m │ -                 │\n",
       "│ (\u001b[38;5;33mInputLayer\u001b[0m)        │                   │            │                   │\n",
       "├─────────────────────┼───────────────────┼────────────┼───────────────────┤\n",
       "│ input_layer_3       │ (\u001b[38;5;45mNone\u001b[0m, \u001b[38;5;34m11\u001b[0m)        │          \u001b[38;5;34m0\u001b[0m │ -                 │\n",
       "│ (\u001b[38;5;33mInputLayer\u001b[0m)        │                   │            │                   │\n",
       "├─────────────────────┼───────────────────┼────────────┼───────────────────┤\n",
       "│ embedding_2         │ (\u001b[38;5;45mNone\u001b[0m, \u001b[38;5;34m10\u001b[0m, \u001b[38;5;34m300\u001b[0m)   │ \u001b[38;5;34m18,457,800\u001b[0m │ input_layer_2[\u001b[38;5;34m0\u001b[0m]… │\n",
       "│ (\u001b[38;5;33mEmbedding\u001b[0m)         │                   │            │                   │\n",
       "├─────────────────────┼───────────────────┼────────────┼───────────────────┤\n",
       "│ embedding_3         │ (\u001b[38;5;45mNone\u001b[0m, \u001b[38;5;34m11\u001b[0m, \u001b[38;5;34m300\u001b[0m)   │ \u001b[38;5;34m18,716,100\u001b[0m │ input_layer_3[\u001b[38;5;34m0\u001b[0m]… │\n",
       "│ (\u001b[38;5;33mEmbedding\u001b[0m)         │                   │            │                   │\n",
       "├─────────────────────┼───────────────────┼────────────┼───────────────────┤\n",
       "│ batch_normalizatio… │ (\u001b[38;5;45mNone\u001b[0m, \u001b[38;5;34m10\u001b[0m, \u001b[38;5;34m300\u001b[0m)   │      \u001b[38;5;34m1,200\u001b[0m │ embedding_2[\u001b[38;5;34m0\u001b[0m][\u001b[38;5;34m0\u001b[0m] │\n",
       "│ (\u001b[38;5;33mBatchNormalizatio…\u001b[0m │                   │            │                   │\n",
       "├─────────────────────┼───────────────────┼────────────┼───────────────────┤\n",
       "│ batch_normalizatio… │ (\u001b[38;5;45mNone\u001b[0m, \u001b[38;5;34m11\u001b[0m, \u001b[38;5;34m300\u001b[0m)   │      \u001b[38;5;34m1,200\u001b[0m │ embedding_3[\u001b[38;5;34m0\u001b[0m][\u001b[38;5;34m0\u001b[0m] │\n",
       "│ (\u001b[38;5;33mBatchNormalizatio…\u001b[0m │                   │            │                   │\n",
       "├─────────────────────┼───────────────────┼────────────┼───────────────────┤\n",
       "│ bidirectional_1     │ [(\u001b[38;5;45mNone\u001b[0m, \u001b[38;5;34m1200\u001b[0m),    │  \u001b[38;5;34m4,324,800\u001b[0m │ batch_normalizat… │\n",
       "│ (\u001b[38;5;33mBidirectional\u001b[0m)     │ (\u001b[38;5;45mNone\u001b[0m, \u001b[38;5;34m600\u001b[0m),      │            │                   │\n",
       "│                     │ (\u001b[38;5;45mNone\u001b[0m, \u001b[38;5;34m600\u001b[0m),      │            │                   │\n",
       "│                     │ (\u001b[38;5;45mNone\u001b[0m, \u001b[38;5;34m600\u001b[0m),      │            │                   │\n",
       "│                     │ (\u001b[38;5;45mNone\u001b[0m, \u001b[38;5;34m600\u001b[0m)]      │            │                   │\n",
       "├─────────────────────┼───────────────────┼────────────┼───────────────────┤\n",
       "│ lstm_3 (\u001b[38;5;33mLSTM\u001b[0m)       │ [(\u001b[38;5;45mNone\u001b[0m, \u001b[38;5;34m11\u001b[0m, \u001b[38;5;34m600\u001b[0m), │  \u001b[38;5;34m2,162,400\u001b[0m │ batch_normalizat… │\n",
       "│                     │ (\u001b[38;5;45mNone\u001b[0m, \u001b[38;5;34m600\u001b[0m),      │            │ bidirectional_1[\u001b[38;5;34m…\u001b[0m │\n",
       "│                     │ (\u001b[38;5;45mNone\u001b[0m, \u001b[38;5;34m600\u001b[0m)]      │            │ bidirectional_1[\u001b[38;5;34m…\u001b[0m │\n",
       "├─────────────────────┼───────────────────┼────────────┼───────────────────┤\n",
       "│ batch_normalizatio… │ (\u001b[38;5;45mNone\u001b[0m, \u001b[38;5;34m11\u001b[0m, \u001b[38;5;34m600\u001b[0m)   │      \u001b[38;5;34m2,400\u001b[0m │ lstm_3[\u001b[38;5;34m0\u001b[0m][\u001b[38;5;34m0\u001b[0m]      │\n",
       "│ (\u001b[38;5;33mBatchNormalizatio…\u001b[0m │                   │            │                   │\n",
       "├─────────────────────┼───────────────────┼────────────┼───────────────────┤\n",
       "│ dense_1 (\u001b[38;5;33mDense\u001b[0m)     │ (\u001b[38;5;45mNone\u001b[0m, \u001b[38;5;34m11\u001b[0m, \u001b[38;5;34m62387\u001b[0m) │ \u001b[38;5;34m37,494,587\u001b[0m │ batch_normalizat… │\n",
       "└─────────────────────┴───────────────────┴────────────┴───────────────────┘\n"
      ]
     },
     "metadata": {},
     "output_type": "display_data"
    },
    {
     "data": {
      "text/html": [
       "<pre style=\"white-space:pre;overflow-x:auto;line-height:normal;font-family:Menlo,'DejaVu Sans Mono',consolas,'Courier New',monospace\"><span style=\"font-weight: bold\"> Total params: </span><span style=\"color: #00af00; text-decoration-color: #00af00\">81,160,487</span> (309.60 MB)\n",
       "</pre>\n"
      ],
      "text/plain": [
       "\u001b[1m Total params: \u001b[0m\u001b[38;5;34m81,160,487\u001b[0m (309.60 MB)\n"
      ]
     },
     "metadata": {},
     "output_type": "display_data"
    },
    {
     "data": {
      "text/html": [
       "<pre style=\"white-space:pre;overflow-x:auto;line-height:normal;font-family:Menlo,'DejaVu Sans Mono',consolas,'Courier New',monospace\"><span style=\"font-weight: bold\"> Trainable params: </span><span style=\"color: #00af00; text-decoration-color: #00af00\">81,158,087</span> (309.59 MB)\n",
       "</pre>\n"
      ],
      "text/plain": [
       "\u001b[1m Trainable params: \u001b[0m\u001b[38;5;34m81,158,087\u001b[0m (309.59 MB)\n"
      ]
     },
     "metadata": {},
     "output_type": "display_data"
    },
    {
     "data": {
      "text/html": [
       "<pre style=\"white-space:pre;overflow-x:auto;line-height:normal;font-family:Menlo,'DejaVu Sans Mono',consolas,'Courier New',monospace\"><span style=\"font-weight: bold\"> Non-trainable params: </span><span style=\"color: #00af00; text-decoration-color: #00af00\">2,400</span> (9.38 KB)\n",
       "</pre>\n"
      ],
      "text/plain": [
       "\u001b[1m Non-trainable params: \u001b[0m\u001b[38;5;34m2,400\u001b[0m (9.38 KB)\n"
      ]
     },
     "metadata": {},
     "output_type": "display_data"
    },
    {
     "name": "stdout",
     "output_type": "stream",
     "text": [
      "None\n"
     ]
    }
   ],
   "source": [
    "model = create_model(vocab_size_input, vocab_size_output, max_seq_length_input, max_seq_length_output, embedding_dim, hidden_units)\n",
    "# Load the saved weights into the model\n",
    "model.load_weights('/kaggle/working/model_weights.weights.h5')"
   ]
  },
  {
   "cell_type": "code",
   "execution_count": 49,
   "id": "322afa7f",
   "metadata": {
    "execution": {
     "iopub.execute_input": "2024-11-21T00:30:55.734750Z",
     "iopub.status.busy": "2024-11-21T00:30:55.734351Z",
     "iopub.status.idle": "2024-11-21T00:30:55.739509Z",
     "shell.execute_reply": "2024-11-21T00:30:55.738526Z"
    },
    "papermill": {
     "duration": 2.41261,
     "end_time": "2024-11-21T00:30:55.741192",
     "exception": false,
     "start_time": "2024-11-21T00:30:53.328582",
     "status": "completed"
    },
    "tags": []
   },
   "outputs": [],
   "source": [
    "def decode_input(input_indices, tokenizer):\n",
    "    # Convert token indices to words using the tokenizer, handling out-of-vocabulary indices\n",
    "    words = [tokenizer.index_word.get(index, '<UNK>') for index in input_indices if index != 0]  # Exclude padding token\n",
    "    # Join the words into a single sentence\n",
    "    sentence = ' '.join(words)\n",
    "    return sentence"
   ]
  },
  {
   "cell_type": "code",
   "execution_count": 50,
   "id": "61948b9b",
   "metadata": {
    "execution": {
     "iopub.execute_input": "2024-11-21T00:31:00.500066Z",
     "iopub.status.busy": "2024-11-21T00:31:00.499711Z",
     "iopub.status.idle": "2024-11-21T00:31:00.504594Z",
     "shell.execute_reply": "2024-11-21T00:31:00.503742Z"
    },
    "papermill": {
     "duration": 2.446038,
     "end_time": "2024-11-21T00:31:00.506317",
     "exception": false,
     "start_time": "2024-11-21T00:30:58.060279",
     "status": "completed"
    },
    "tags": []
   },
   "outputs": [],
   "source": [
    "def decode_prediction(prediction, tokenizer):\n",
    "    # Get the index of the token with the highest probability for each time step\n",
    "    token_indices = np.argmax(prediction, axis=-1)\n",
    "    # Convert token indices to words using the tokenizer, handling out-of-vocabulary indices\n",
    "    words = [tokenizer.index_word.get(index, '<UNK>') for index in token_indices if index != 0]  # Exclude padding token\n",
    "    # Join the words into a single sentence\n",
    "    sentence = ' '.join(words)\n",
    "    return sentence"
   ]
  },
  {
   "cell_type": "code",
   "execution_count": 51,
   "id": "7dc3a013",
   "metadata": {
    "execution": {
     "iopub.execute_input": "2024-11-21T00:31:05.278804Z",
     "iopub.status.busy": "2024-11-21T00:31:05.278433Z",
     "iopub.status.idle": "2024-11-21T00:31:05.282816Z",
     "shell.execute_reply": "2024-11-21T00:31:05.282014Z"
    },
    "papermill": {
     "duration": 2.349472,
     "end_time": "2024-11-21T00:31:05.284395",
     "exception": false,
     "start_time": "2024-11-21T00:31:02.934923",
     "status": "completed"
    },
    "tags": []
   },
   "outputs": [],
   "source": [
    "def remove_unk(sentences):\n",
    "    return [sentence.replace('<UNK>', '').strip() for sentence in sentences]"
   ]
  },
  {
   "cell_type": "code",
   "execution_count": 52,
   "id": "6b386fcd",
   "metadata": {
    "execution": {
     "iopub.execute_input": "2024-11-21T00:31:09.913544Z",
     "iopub.status.busy": "2024-11-21T00:31:09.913163Z",
     "iopub.status.idle": "2024-11-21T00:31:13.808649Z",
     "shell.execute_reply": "2024-11-21T00:31:13.807720Z"
    },
    "papermill": {
     "duration": 6.200614,
     "end_time": "2024-11-21T00:31:13.810774",
     "exception": false,
     "start_time": "2024-11-21T00:31:07.610160",
     "status": "completed"
    },
    "tags": []
   },
   "outputs": [],
   "source": [
    "data = pd.read_csv(\"/kaggle/input/hindi-sentence/data_sentence.csv\")"
   ]
  },
  {
   "cell_type": "code",
   "execution_count": 53,
   "id": "7d7767c9",
   "metadata": {
    "execution": {
     "iopub.execute_input": "2024-11-21T00:31:18.473420Z",
     "iopub.status.busy": "2024-11-21T00:31:18.472309Z",
     "iopub.status.idle": "2024-11-21T00:31:18.582212Z",
     "shell.execute_reply": "2024-11-21T00:31:18.581542Z"
    },
    "papermill": {
     "duration": 2.456143,
     "end_time": "2024-11-21T00:31:18.583932",
     "exception": false,
     "start_time": "2024-11-21T00:31:16.127789",
     "status": "completed"
    },
    "tags": []
   },
   "outputs": [],
   "source": [
    "data = data.dropna()"
   ]
  },
  {
   "cell_type": "code",
   "execution_count": 54,
   "id": "4e9c1bd4",
   "metadata": {
    "execution": {
     "iopub.execute_input": "2024-11-21T00:31:23.221306Z",
     "iopub.status.busy": "2024-11-21T00:31:23.220963Z",
     "iopub.status.idle": "2024-11-21T00:31:23.867118Z",
     "shell.execute_reply": "2024-11-21T00:31:23.866157Z"
    },
    "papermill": {
     "duration": 2.991105,
     "end_time": "2024-11-21T00:31:23.869068",
     "exception": false,
     "start_time": "2024-11-21T00:31:20.877963",
     "status": "completed"
    },
    "tags": []
   },
   "outputs": [],
   "source": [
    "data['source_len'] = data['source'].apply(lambda x : len(x.split(\" \")))"
   ]
  },
  {
   "cell_type": "code",
   "execution_count": 55,
   "id": "d762141a",
   "metadata": {
    "execution": {
     "iopub.execute_input": "2024-11-21T00:31:28.448305Z",
     "iopub.status.busy": "2024-11-21T00:31:28.447956Z",
     "iopub.status.idle": "2024-11-21T00:31:28.512700Z",
     "shell.execute_reply": "2024-11-21T00:31:28.511877Z"
    },
    "papermill": {
     "duration": 2.400511,
     "end_time": "2024-11-21T00:31:28.514372",
     "exception": false,
     "start_time": "2024-11-21T00:31:26.113861",
     "status": "completed"
    },
    "tags": []
   },
   "outputs": [],
   "source": [
    "data = data[data['source_len'] < 5]"
   ]
  },
  {
   "cell_type": "code",
   "execution_count": 56,
   "id": "f08def0f",
   "metadata": {
    "execution": {
     "iopub.execute_input": "2024-11-21T00:31:33.239224Z",
     "iopub.status.busy": "2024-11-21T00:31:33.238417Z",
     "iopub.status.idle": "2024-11-21T00:31:33.243885Z",
     "shell.execute_reply": "2024-11-21T00:31:33.243096Z"
    },
    "papermill": {
     "duration": 2.395036,
     "end_time": "2024-11-21T00:31:33.245439",
     "exception": false,
     "start_time": "2024-11-21T00:31:30.850403",
     "status": "completed"
    },
    "tags": []
   },
   "outputs": [
    {
     "data": {
      "text/plain": [
       "(2733, 3)"
      ]
     },
     "execution_count": 56,
     "metadata": {},
     "output_type": "execute_result"
    }
   ],
   "source": [
    "data.shape"
   ]
  },
  {
   "cell_type": "code",
   "execution_count": 57,
   "id": "14fb690e",
   "metadata": {
    "execution": {
     "iopub.execute_input": "2024-11-21T00:31:37.827433Z",
     "iopub.status.busy": "2024-11-21T00:31:37.827119Z",
     "iopub.status.idle": "2024-11-21T00:31:37.836440Z",
     "shell.execute_reply": "2024-11-21T00:31:37.835691Z"
    },
    "papermill": {
     "duration": 2.318148,
     "end_time": "2024-11-21T00:31:37.838092",
     "exception": false,
     "start_time": "2024-11-21T00:31:35.519944",
     "status": "completed"
    },
    "tags": []
   },
   "outputs": [
    {
     "data": {
      "text/html": [
       "<div>\n",
       "<style scoped>\n",
       "    .dataframe tbody tr th:only-of-type {\n",
       "        vertical-align: middle;\n",
       "    }\n",
       "\n",
       "    .dataframe tbody tr th {\n",
       "        vertical-align: top;\n",
       "    }\n",
       "\n",
       "    .dataframe thead th {\n",
       "        text-align: right;\n",
       "    }\n",
       "</style>\n",
       "<table border=\"1\" class=\"dataframe\">\n",
       "  <thead>\n",
       "    <tr style=\"text-align: right;\">\n",
       "      <th></th>\n",
       "      <th>source</th>\n",
       "      <th>target</th>\n",
       "      <th>source_len</th>\n",
       "    </tr>\n",
       "  </thead>\n",
       "  <tbody>\n",
       "    <tr>\n",
       "      <th>104</th>\n",
       "      <td>में परिवर्तन सामिल है</td>\n",
       "      <td>में  परिवर्तन शामिल है</td>\n",
       "      <td>4</td>\n",
       "    </tr>\n",
       "    <tr>\n",
       "      <th>105</th>\n",
       "      <td>में परिवर्तन है</td>\n",
       "      <td>में  परिवर्तन है</td>\n",
       "      <td>3</td>\n",
       "    </tr>\n",
       "    <tr>\n",
       "      <th>223</th>\n",
       "      <td>ये दिलली से हैं</td>\n",
       "      <td>ये दिल्ली से हैं</td>\n",
       "      <td>4</td>\n",
       "    </tr>\n",
       "    <tr>\n",
       "      <th>283</th>\n",
       "      <td>सैदपूर दूर्गा मंदिर</td>\n",
       "      <td>सैदपुर दुर्गा मंदिर</td>\n",
       "      <td>3</td>\n",
       "    </tr>\n",
       "    <tr>\n",
       "      <th>313</th>\n",
       "      <td>इसकी जलधारण क्समता है</td>\n",
       "      <td>इसकी जलधारण क्षमता है</td>\n",
       "      <td>4</td>\n",
       "    </tr>\n",
       "    <tr>\n",
       "      <th>...</th>\n",
       "      <td>...</td>\n",
       "      <td>...</td>\n",
       "      <td>...</td>\n",
       "    </tr>\n",
       "    <tr>\n",
       "      <th>378559</th>\n",
       "      <td>पूरूस और महिलाएं है</td>\n",
       "      <td>पुरूष और महिलाएं है</td>\n",
       "      <td>4</td>\n",
       "    </tr>\n",
       "    <tr>\n",
       "      <th>378560</th>\n",
       "      <td>साक्सरता दर है</td>\n",
       "      <td>साक्षरता दर है</td>\n",
       "      <td>3</td>\n",
       "    </tr>\n",
       "    <tr>\n",
       "      <th>378600</th>\n",
       "      <td>साँचा</td>\n",
       "      <td>साँचा</td>\n",
       "      <td>1</td>\n",
       "    </tr>\n",
       "    <tr>\n",
       "      <th>378906</th>\n",
       "      <td>यही सर्वप्ररथम वेद् है</td>\n",
       "      <td>यही सर्वप्रथम वेद है</td>\n",
       "      <td>4</td>\n",
       "    </tr>\n",
       "    <tr>\n",
       "      <th>378928</th>\n",
       "      <td>अर्थात् गूणा यानि अक्सर</td>\n",
       "      <td>अर्थात गुणा यानि अक्षर</td>\n",
       "      <td>4</td>\n",
       "    </tr>\n",
       "  </tbody>\n",
       "</table>\n",
       "<p>2733 rows × 3 columns</p>\n",
       "</div>"
      ],
      "text/plain": [
       "                         source                  target  source_len\n",
       "104       में परिवर्तन सामिल है  में  परिवर्तन शामिल है           4\n",
       "105             में परिवर्तन है        में  परिवर्तन है           3\n",
       "223             ये दिलली से हैं        ये दिल्ली से हैं           4\n",
       "283         सैदपूर दूर्गा मंदिर     सैदपुर दुर्गा मंदिर           3\n",
       "313       इसकी जलधारण क्समता है   इसकी जलधारण क्षमता है           4\n",
       "...                         ...                     ...         ...\n",
       "378559      पूरूस और महिलाएं है     पुरूष और महिलाएं है           4\n",
       "378560           साक्सरता दर है          साक्षरता दर है           3\n",
       "378600                    साँचा                   साँचा           1\n",
       "378906   यही सर्वप्ररथम वेद् है    यही सर्वप्रथम वेद है           4\n",
       "378928  अर्थात् गूणा यानि अक्सर  अर्थात गुणा यानि अक्षर           4\n",
       "\n",
       "[2733 rows x 3 columns]"
      ]
     },
     "execution_count": 57,
     "metadata": {},
     "output_type": "execute_result"
    }
   ],
   "source": [
    "data"
   ]
  },
  {
   "cell_type": "code",
   "execution_count": 58,
   "id": "aa9dc0eb",
   "metadata": {
    "execution": {
     "iopub.execute_input": "2024-11-21T00:31:42.477510Z",
     "iopub.status.busy": "2024-11-21T00:31:42.477172Z",
     "iopub.status.idle": "2024-11-21T00:31:42.819227Z",
     "shell.execute_reply": "2024-11-21T00:31:42.818548Z"
    },
    "papermill": {
     "duration": 2.636105,
     "end_time": "2024-11-21T00:31:42.821171",
     "exception": false,
     "start_time": "2024-11-21T00:31:40.185066",
     "status": "completed"
    },
    "tags": []
   },
   "outputs": [],
   "source": [
    "data['source_token'] = data['source'].apply(do_tokenization)\n",
    "data['target_token'] = data['target'].apply(do_tokenization)"
   ]
  },
  {
   "cell_type": "code",
   "execution_count": 59,
   "id": "995cc5ad",
   "metadata": {
    "execution": {
     "iopub.execute_input": "2024-11-21T00:31:47.398132Z",
     "iopub.status.busy": "2024-11-21T00:31:47.397795Z",
     "iopub.status.idle": "2024-11-21T00:31:47.659187Z",
     "shell.execute_reply": "2024-11-21T00:31:47.658491Z"
    },
    "papermill": {
     "duration": 2.52278,
     "end_time": "2024-11-21T00:31:47.661039",
     "exception": false,
     "start_time": "2024-11-21T00:31:45.138259",
     "status": "completed"
    },
    "tags": []
   },
   "outputs": [],
   "source": [
    "data['source_token'] = data['source'].apply(do_stemming)\n",
    "data['target_token'] = data['target'].apply(do_stemming)"
   ]
  },
  {
   "cell_type": "code",
   "execution_count": 60,
   "id": "7e67f7d5",
   "metadata": {
    "execution": {
     "iopub.execute_input": "2024-11-21T00:31:52.322382Z",
     "iopub.status.busy": "2024-11-21T00:31:52.321781Z",
     "iopub.status.idle": "2024-11-21T00:31:52.328540Z",
     "shell.execute_reply": "2024-11-21T00:31:52.327684Z"
    },
    "papermill": {
     "duration": 2.320358,
     "end_time": "2024-11-21T00:31:52.330302",
     "exception": false,
     "start_time": "2024-11-21T00:31:50.009944",
     "status": "completed"
    },
    "tags": []
   },
   "outputs": [],
   "source": [
    "data['target_token'] = add_special_tokens(data['target_token'])"
   ]
  },
  {
   "cell_type": "code",
   "execution_count": 61,
   "id": "7e5830b5",
   "metadata": {
    "execution": {
     "iopub.execute_input": "2024-11-21T00:31:56.913624Z",
     "iopub.status.busy": "2024-11-21T00:31:56.913260Z",
     "iopub.status.idle": "2024-11-21T00:31:56.935616Z",
     "shell.execute_reply": "2024-11-21T00:31:56.934952Z"
    },
    "papermill": {
     "duration": 2.288805,
     "end_time": "2024-11-21T00:31:56.937178",
     "exception": false,
     "start_time": "2024-11-21T00:31:54.648373",
     "status": "completed"
    },
    "tags": []
   },
   "outputs": [],
   "source": [
    "data['source_int_token'] = tok.texts_to_sequences(data['source_token'])\n",
    "data['target_int_token'] = tok_hindi.texts_to_sequences(data['target_token'])"
   ]
  },
  {
   "cell_type": "code",
   "execution_count": 62,
   "id": "e4a52de7",
   "metadata": {
    "execution": {
     "iopub.execute_input": "2024-11-21T00:32:01.547463Z",
     "iopub.status.busy": "2024-11-21T00:32:01.547132Z",
     "iopub.status.idle": "2024-11-21T00:32:01.566458Z",
     "shell.execute_reply": "2024-11-21T00:32:01.565738Z"
    },
    "papermill": {
     "duration": 2.281167,
     "end_time": "2024-11-21T00:32:01.568158",
     "exception": false,
     "start_time": "2024-11-21T00:31:59.286991",
     "status": "completed"
    },
    "tags": []
   },
   "outputs": [
    {
     "data": {
      "text/html": [
       "<div>\n",
       "<style scoped>\n",
       "    .dataframe tbody tr th:only-of-type {\n",
       "        vertical-align: middle;\n",
       "    }\n",
       "\n",
       "    .dataframe tbody tr th {\n",
       "        vertical-align: top;\n",
       "    }\n",
       "\n",
       "    .dataframe thead th {\n",
       "        text-align: right;\n",
       "    }\n",
       "</style>\n",
       "<table border=\"1\" class=\"dataframe\">\n",
       "  <thead>\n",
       "    <tr style=\"text-align: right;\">\n",
       "      <th></th>\n",
       "      <th>source</th>\n",
       "      <th>target</th>\n",
       "      <th>source_len</th>\n",
       "      <th>source_token</th>\n",
       "      <th>target_token</th>\n",
       "      <th>source_int_token</th>\n",
       "      <th>target_int_token</th>\n",
       "    </tr>\n",
       "  </thead>\n",
       "  <tbody>\n",
       "    <tr>\n",
       "      <th>104</th>\n",
       "      <td>में परिवर्तन सामिल है</td>\n",
       "      <td>में  परिवर्तन शामिल है</td>\n",
       "      <td>4</td>\n",
       "      <td>[में, परिवर्तन, सामिल, है]</td>\n",
       "      <td>[&lt;start&gt;, में, परिवर्तन, शामिल, है, &lt;end&gt;]</td>\n",
       "      <td>[2, 615, 168, 1]</td>\n",
       "      <td>[62385, 2, 608, 165, 1, 62386]</td>\n",
       "    </tr>\n",
       "    <tr>\n",
       "      <th>105</th>\n",
       "      <td>में परिवर्तन है</td>\n",
       "      <td>में  परिवर्तन है</td>\n",
       "      <td>3</td>\n",
       "      <td>[में, परिवर्तन, है]</td>\n",
       "      <td>[&lt;start&gt;, में, परिवर्तन, है, &lt;end&gt;]</td>\n",
       "      <td>[2, 615, 1]</td>\n",
       "      <td>[62385, 2, 608, 1, 62386]</td>\n",
       "    </tr>\n",
       "    <tr>\n",
       "      <th>223</th>\n",
       "      <td>ये दिलली से हैं</td>\n",
       "      <td>ये दिल्ली से हैं</td>\n",
       "      <td>4</td>\n",
       "      <td>[ये, दिलली, से, हैं]</td>\n",
       "      <td>[&lt;start&gt;, ये, दिल्ली, से, हैं, &lt;end&gt;]</td>\n",
       "      <td>[37, 140, 8, 5]</td>\n",
       "      <td>[62385, 37, 137, 8, 5, 62386]</td>\n",
       "    </tr>\n",
       "    <tr>\n",
       "      <th>283</th>\n",
       "      <td>सैदपूर दूर्गा मंदिर</td>\n",
       "      <td>सैदपुर दुर्गा मंदिर</td>\n",
       "      <td>3</td>\n",
       "      <td>[सैदपूर, दूर्गा, मंदिर]</td>\n",
       "      <td>[&lt;start&gt;, सैदपुर, दुर्गा, मंदिर, &lt;end&gt;]</td>\n",
       "      <td>[7555, 2181, 73]</td>\n",
       "      <td>[62385, 7573, 2186, 74, 62386]</td>\n",
       "    </tr>\n",
       "    <tr>\n",
       "      <th>313</th>\n",
       "      <td>इसकी जलधारण क्समता है</td>\n",
       "      <td>इसकी जलधारण क्षमता है</td>\n",
       "      <td>4</td>\n",
       "      <td>[इसकी, जलधारण, क्समता, है]</td>\n",
       "      <td>[&lt;start&gt;, इसकी, जलधारण, क्षमता, है, &lt;end&gt;]</td>\n",
       "      <td>[61, 14427, 710, 1]</td>\n",
       "      <td>[62385, 62, 14469, 701, 1, 62386]</td>\n",
       "    </tr>\n",
       "    <tr>\n",
       "      <th>...</th>\n",
       "      <td>...</td>\n",
       "      <td>...</td>\n",
       "      <td>...</td>\n",
       "      <td>...</td>\n",
       "      <td>...</td>\n",
       "      <td>...</td>\n",
       "      <td>...</td>\n",
       "    </tr>\n",
       "    <tr>\n",
       "      <th>378559</th>\n",
       "      <td>पूरूस और महिलाएं है</td>\n",
       "      <td>पुरूष और महिलाएं है</td>\n",
       "      <td>4</td>\n",
       "      <td>[पूरूस, और, महिलाएं, है]</td>\n",
       "      <td>[&lt;start&gt;, पुरूष, और, महिलाएं, है, &lt;end&gt;]</td>\n",
       "      <td>[336, 11, 2280, 1]</td>\n",
       "      <td>[62385, 3439, 11, 2284, 1, 62386]</td>\n",
       "    </tr>\n",
       "    <tr>\n",
       "      <th>378560</th>\n",
       "      <td>साक्सरता दर है</td>\n",
       "      <td>साक्षरता दर है</td>\n",
       "      <td>3</td>\n",
       "      <td>[साक्सरता, दर, है]</td>\n",
       "      <td>[&lt;start&gt;, साक्षरता, दर, है, &lt;end&gt;]</td>\n",
       "      <td>[763, 499, 1]</td>\n",
       "      <td>[62385, 754, 498, 1, 62386]</td>\n",
       "    </tr>\n",
       "    <tr>\n",
       "      <th>378600</th>\n",
       "      <td>साँचा</td>\n",
       "      <td>साँचा</td>\n",
       "      <td>1</td>\n",
       "      <td>[साँचा]</td>\n",
       "      <td>[&lt;start&gt;, साँचा, &lt;end&gt;]</td>\n",
       "      <td>[1260]</td>\n",
       "      <td>[62385, 1249, 62386]</td>\n",
       "    </tr>\n",
       "    <tr>\n",
       "      <th>378906</th>\n",
       "      <td>यही सर्वप्ररथम वेद् है</td>\n",
       "      <td>यही सर्वप्रथम वेद है</td>\n",
       "      <td>4</td>\n",
       "      <td>[यही, सर्वप्ररथम, वेद्, है]</td>\n",
       "      <td>[&lt;start&gt;, यही, सर्वप्रथम, वेद, है, &lt;end&gt;]</td>\n",
       "      <td>[212, 855, 831, 1]</td>\n",
       "      <td>[62385, 209, 844, 816, 1, 62386]</td>\n",
       "    </tr>\n",
       "    <tr>\n",
       "      <th>378928</th>\n",
       "      <td>अर्थात् गूणा यानि अक्सर</td>\n",
       "      <td>अर्थात गुणा यानि अक्षर</td>\n",
       "      <td>4</td>\n",
       "      <td>[अर्थात्, गूणा, यानि, अक्सर]</td>\n",
       "      <td>[&lt;start&gt;, अर्थात, गुणा, यानि, अक्षर, &lt;end&gt;]</td>\n",
       "      <td>[643, 3688, 4197, 630]</td>\n",
       "      <td>[62385, 1062, 3690, 4201, 1463, 62386]</td>\n",
       "    </tr>\n",
       "  </tbody>\n",
       "</table>\n",
       "<p>2733 rows × 7 columns</p>\n",
       "</div>"
      ],
      "text/plain": [
       "                         source                  target  source_len  \\\n",
       "104       में परिवर्तन सामिल है  में  परिवर्तन शामिल है           4   \n",
       "105             में परिवर्तन है        में  परिवर्तन है           3   \n",
       "223             ये दिलली से हैं        ये दिल्ली से हैं           4   \n",
       "283         सैदपूर दूर्गा मंदिर     सैदपुर दुर्गा मंदिर           3   \n",
       "313       इसकी जलधारण क्समता है   इसकी जलधारण क्षमता है           4   \n",
       "...                         ...                     ...         ...   \n",
       "378559      पूरूस और महिलाएं है     पुरूष और महिलाएं है           4   \n",
       "378560           साक्सरता दर है          साक्षरता दर है           3   \n",
       "378600                    साँचा                   साँचा           1   \n",
       "378906   यही सर्वप्ररथम वेद् है    यही सर्वप्रथम वेद है           4   \n",
       "378928  अर्थात् गूणा यानि अक्सर  अर्थात गुणा यानि अक्षर           4   \n",
       "\n",
       "                        source_token  \\\n",
       "104       [में, परिवर्तन, सामिल, है]   \n",
       "105              [में, परिवर्तन, है]   \n",
       "223             [ये, दिलली, से, हैं]   \n",
       "283          [सैदपूर, दूर्गा, मंदिर]   \n",
       "313       [इसकी, जलधारण, क्समता, है]   \n",
       "...                              ...   \n",
       "378559      [पूरूस, और, महिलाएं, है]   \n",
       "378560            [साक्सरता, दर, है]   \n",
       "378600                       [साँचा]   \n",
       "378906   [यही, सर्वप्ररथम, वेद्, है]   \n",
       "378928  [अर्थात्, गूणा, यानि, अक्सर]   \n",
       "\n",
       "                                       target_token        source_int_token  \\\n",
       "104      [<start>, में, परिवर्तन, शामिल, है, <end>]        [2, 615, 168, 1]   \n",
       "105             [<start>, में, परिवर्तन, है, <end>]             [2, 615, 1]   \n",
       "223           [<start>, ये, दिल्ली, से, हैं, <end>]         [37, 140, 8, 5]   \n",
       "283         [<start>, सैदपुर, दुर्गा, मंदिर, <end>]        [7555, 2181, 73]   \n",
       "313      [<start>, इसकी, जलधारण, क्षमता, है, <end>]     [61, 14427, 710, 1]   \n",
       "...                                             ...                     ...   \n",
       "378559     [<start>, पुरूष, और, महिलाएं, है, <end>]      [336, 11, 2280, 1]   \n",
       "378560           [<start>, साक्षरता, दर, है, <end>]           [763, 499, 1]   \n",
       "378600                      [<start>, साँचा, <end>]                  [1260]   \n",
       "378906    [<start>, यही, सर्वप्रथम, वेद, है, <end>]      [212, 855, 831, 1]   \n",
       "378928  [<start>, अर्थात, गुणा, यानि, अक्षर, <end>]  [643, 3688, 4197, 630]   \n",
       "\n",
       "                              target_int_token  \n",
       "104             [62385, 2, 608, 165, 1, 62386]  \n",
       "105                  [62385, 2, 608, 1, 62386]  \n",
       "223              [62385, 37, 137, 8, 5, 62386]  \n",
       "283             [62385, 7573, 2186, 74, 62386]  \n",
       "313          [62385, 62, 14469, 701, 1, 62386]  \n",
       "...                                        ...  \n",
       "378559       [62385, 3439, 11, 2284, 1, 62386]  \n",
       "378560             [62385, 754, 498, 1, 62386]  \n",
       "378600                    [62385, 1249, 62386]  \n",
       "378906        [62385, 209, 844, 816, 1, 62386]  \n",
       "378928  [62385, 1062, 3690, 4201, 1463, 62386]  \n",
       "\n",
       "[2733 rows x 7 columns]"
      ]
     },
     "execution_count": 62,
     "metadata": {},
     "output_type": "execute_result"
    }
   ],
   "source": [
    "data"
   ]
  },
  {
   "cell_type": "code",
   "execution_count": 63,
   "id": "2611e660",
   "metadata": {
    "execution": {
     "iopub.execute_input": "2024-11-21T00:32:06.265342Z",
     "iopub.status.busy": "2024-11-21T00:32:06.265005Z",
     "iopub.status.idle": "2024-11-21T00:32:06.269161Z",
     "shell.execute_reply": "2024-11-21T00:32:06.268406Z"
    },
    "papermill": {
     "duration": 2.294303,
     "end_time": "2024-11-21T00:32:06.270726",
     "exception": false,
     "start_time": "2024-11-21T00:32:03.976423",
     "status": "completed"
    },
    "tags": []
   },
   "outputs": [],
   "source": [
    "org = data['source_int_token']\n",
    "pred = data['target_int_token']"
   ]
  },
  {
   "cell_type": "code",
   "execution_count": 64,
   "id": "0803b155",
   "metadata": {
    "execution": {
     "iopub.execute_input": "2024-11-21T00:32:10.957280Z",
     "iopub.status.busy": "2024-11-21T00:32:10.956944Z",
     "iopub.status.idle": "2024-11-21T00:32:10.976808Z",
     "shell.execute_reply": "2024-11-21T00:32:10.975921Z"
    },
    "papermill": {
     "duration": 2.391622,
     "end_time": "2024-11-21T00:32:10.978381",
     "exception": false,
     "start_time": "2024-11-21T00:32:08.586759",
     "status": "completed"
    },
    "tags": []
   },
   "outputs": [],
   "source": [
    "org_main = pad_sequences(org, maxlen=max_length_combined_x, padding='post')\n",
    "pred_main = pad_sequences(pred, maxlen=max_length_combined_y, padding='post')"
   ]
  },
  {
   "cell_type": "code",
   "execution_count": 65,
   "id": "b1d6e5b7",
   "metadata": {
    "execution": {
     "iopub.execute_input": "2024-11-21T00:32:15.575452Z",
     "iopub.status.busy": "2024-11-21T00:32:15.575144Z",
     "iopub.status.idle": "2024-11-21T00:32:34.303637Z",
     "shell.execute_reply": "2024-11-21T00:32:34.302560Z"
    },
    "papermill": {
     "duration": 20.989769,
     "end_time": "2024-11-21T00:32:34.305849",
     "exception": false,
     "start_time": "2024-11-21T00:32:13.316080",
     "status": "completed"
    },
    "tags": []
   },
   "outputs": [
    {
     "name": "stdout",
     "output_type": "stream",
     "text": [
      "\u001b[1m7/7\u001b[0m \u001b[32m━━━━━━━━━━━━━━━━━━━━\u001b[0m\u001b[37m\u001b[0m \u001b[1m1s\u001b[0m 75ms/step\n",
      "\u001b[1m7/7\u001b[0m \u001b[32m━━━━━━━━━━━━━━━━━━━━\u001b[0m\u001b[37m\u001b[0m \u001b[1m0s\u001b[0m 27ms/step\n",
      "\u001b[1m7/7\u001b[0m \u001b[32m━━━━━━━━━━━━━━━━━━━━\u001b[0m\u001b[37m\u001b[0m \u001b[1m0s\u001b[0m 27ms/step\n",
      "\u001b[1m7/7\u001b[0m \u001b[32m━━━━━━━━━━━━━━━━━━━━\u001b[0m\u001b[37m\u001b[0m \u001b[1m0s\u001b[0m 27ms/step\n",
      "\u001b[1m7/7\u001b[0m \u001b[32m━━━━━━━━━━━━━━━━━━━━\u001b[0m\u001b[37m\u001b[0m \u001b[1m0s\u001b[0m 26ms/step\n",
      "\u001b[1m7/7\u001b[0m \u001b[32m━━━━━━━━━━━━━━━━━━━━\u001b[0m\u001b[37m\u001b[0m \u001b[1m0s\u001b[0m 27ms/step\n",
      "\u001b[1m7/7\u001b[0m \u001b[32m━━━━━━━━━━━━━━━━━━━━\u001b[0m\u001b[37m\u001b[0m \u001b[1m0s\u001b[0m 27ms/step\n",
      "\u001b[1m7/7\u001b[0m \u001b[32m━━━━━━━━━━━━━━━━━━━━\u001b[0m\u001b[37m\u001b[0m \u001b[1m0s\u001b[0m 27ms/step\n",
      "\u001b[1m7/7\u001b[0m \u001b[32m━━━━━━━━━━━━━━━━━━━━\u001b[0m\u001b[37m\u001b[0m \u001b[1m0s\u001b[0m 27ms/step\n",
      "\u001b[1m7/7\u001b[0m \u001b[32m━━━━━━━━━━━━━━━━━━━━\u001b[0m\u001b[37m\u001b[0m \u001b[1m0s\u001b[0m 27ms/step\n",
      "\u001b[1m7/7\u001b[0m \u001b[32m━━━━━━━━━━━━━━━━━━━━\u001b[0m\u001b[37m\u001b[0m \u001b[1m0s\u001b[0m 27ms/step\n",
      "\u001b[1m7/7\u001b[0m \u001b[32m━━━━━━━━━━━━━━━━━━━━\u001b[0m\u001b[37m\u001b[0m \u001b[1m0s\u001b[0m 27ms/step\n",
      "\u001b[1m7/7\u001b[0m \u001b[32m━━━━━━━━━━━━━━━━━━━━\u001b[0m\u001b[37m\u001b[0m \u001b[1m0s\u001b[0m 26ms/step\n",
      "\u001b[1m5/5\u001b[0m \u001b[32m━━━━━━━━━━━━━━━━━━━━\u001b[0m\u001b[37m\u001b[0m \u001b[1m0s\u001b[0m 27ms/step\n"
     ]
    }
   ],
   "source": [
    "# Perform prediction for the first 200 rows one sample at a time\n",
    "batch_size = 200\n",
    "\n",
    "# Initialize a list to store predictions\n",
    "predictions = []\n",
    "\n",
    "# Process in batches\n",
    "for i in range(0, len(org_main), batch_size):\n",
    "    # Define the batch range\n",
    "    batch_x_test = org_main[i:i+batch_size]\n",
    "    batch_y_test = pred_main[i:i+batch_size, :-1]  # Exclude last token from pred_main\n",
    "    \n",
    "    # Get predictions for the batch\n",
    "    batch_predictions = model.predict([batch_x_test, batch_y_test])\n",
    "    \n",
    "    # Append batch predictions to the list\n",
    "    predictions.append(batch_predictions)\n",
    "\n",
    "# Concatenate all batch predictions into a single array\n",
    "predictions = np.concatenate(predictions, axis=0)\n",
    "\n",
    "# Optionally: If you need to process predictions further\n",
    "# For example, reshaping or applying post-processing"
   ]
  },
  {
   "cell_type": "code",
   "execution_count": 66,
   "id": "b939336b",
   "metadata": {
    "execution": {
     "iopub.execute_input": "2024-11-21T00:32:39.037302Z",
     "iopub.status.busy": "2024-11-21T00:32:39.036451Z",
     "iopub.status.idle": "2024-11-21T00:32:39.761218Z",
     "shell.execute_reply": "2024-11-21T00:32:39.760259Z"
    },
    "papermill": {
     "duration": 3.037196,
     "end_time": "2024-11-21T00:32:39.763259",
     "exception": false,
     "start_time": "2024-11-21T00:32:36.726063",
     "status": "completed"
    },
    "tags": []
   },
   "outputs": [],
   "source": [
    "def decode_prediction(prediction, tokenizer):\n",
    "    # Get the index of the token with the highest probability for each time step\n",
    "    token_indices = np.argmax(prediction, axis=-1)\n",
    "    # Convert token indices to words using the tokenizer, handling out-of-vocabulary indices\n",
    "    words = [tokenizer.index_word.get(index, '<UNK>') for index in token_indices if index != 0]  # Exclude padding token\n",
    "    # Join the words into a single sentence\n",
    "    sentence = ' '.join(words)\n",
    "    return sentence\n",
    "\n",
    "original = []  # List to store original sentences\n",
    "model_predictions = []  # Renamed from 'prediction' to avoid conflict\n",
    "\n",
    "# Decode each prediction and print the corresponding Hindi sentences\n",
    "for i, pred in enumerate(predictions):  # Renamed loop variable to 'pred'\n",
    "    decoded_pred_sentence = decode_prediction(pred, tok_hindi)\n",
    "    decoded_input_sentence = decode_input(org_main[i], tok)\n",
    "    original.append(decoded_input_sentence)\n",
    "    model_predictions.append(decoded_pred_sentence)"
   ]
  },
  {
   "cell_type": "code",
   "execution_count": 67,
   "id": "1c75d1b7",
   "metadata": {
    "execution": {
     "iopub.execute_input": "2024-11-21T00:32:44.438395Z",
     "iopub.status.busy": "2024-11-21T00:32:44.437780Z",
     "iopub.status.idle": "2024-11-21T00:32:44.443451Z",
     "shell.execute_reply": "2024-11-21T00:32:44.442758Z"
    },
    "papermill": {
     "duration": 2.353003,
     "end_time": "2024-11-21T00:32:44.445006",
     "exception": false,
     "start_time": "2024-11-21T00:32:42.092003",
     "status": "completed"
    },
    "tags": []
   },
   "outputs": [],
   "source": [
    "def remove_unk(sentences):\n",
    "    return [sentence.replace('<UNK>', '').strip() for sentence in sentences]\n",
    "prediction = remove_unk(model_predictions)"
   ]
  },
  {
   "cell_type": "code",
   "execution_count": 68,
   "id": "915c8e88",
   "metadata": {
    "execution": {
     "iopub.execute_input": "2024-11-21T00:32:49.143800Z",
     "iopub.status.busy": "2024-11-21T00:32:49.143093Z",
     "iopub.status.idle": "2024-11-21T00:32:49.151801Z",
     "shell.execute_reply": "2024-11-21T00:32:49.151000Z"
    },
    "papermill": {
     "duration": 2.322529,
     "end_time": "2024-11-21T00:32:49.153419",
     "exception": false,
     "start_time": "2024-11-21T00:32:46.830890",
     "status": "completed"
    },
    "tags": []
   },
   "outputs": [],
   "source": [
    "data_test = data[['source', 'target']]"
   ]
  },
  {
   "cell_type": "code",
   "execution_count": 69,
   "id": "ba6f700e",
   "metadata": {
    "execution": {
     "iopub.execute_input": "2024-11-21T00:32:53.764175Z",
     "iopub.status.busy": "2024-11-21T00:32:53.763380Z",
     "iopub.status.idle": "2024-11-21T00:32:53.768536Z",
     "shell.execute_reply": "2024-11-21T00:32:53.767734Z"
    },
    "papermill": {
     "duration": 2.278283,
     "end_time": "2024-11-21T00:32:53.770556",
     "exception": false,
     "start_time": "2024-11-21T00:32:51.492273",
     "status": "completed"
    },
    "tags": []
   },
   "outputs": [
    {
     "name": "stderr",
     "output_type": "stream",
     "text": [
      "/tmp/ipykernel_23/2992921657.py:1: SettingWithCopyWarning: \n",
      "A value is trying to be set on a copy of a slice from a DataFrame.\n",
      "Try using .loc[row_indexer,col_indexer] = value instead\n",
      "\n",
      "See the caveats in the documentation: https://pandas.pydata.org/pandas-docs/stable/user_guide/indexing.html#returning-a-view-versus-a-copy\n",
      "  data_test['predicted'] = prediction\n"
     ]
    }
   ],
   "source": [
    "data_test['predicted'] = prediction"
   ]
  },
  {
   "cell_type": "code",
   "execution_count": 70,
   "id": "d94df8ec",
   "metadata": {
    "execution": {
     "iopub.execute_input": "2024-11-21T00:32:58.400817Z",
     "iopub.status.busy": "2024-11-21T00:32:58.400077Z",
     "iopub.status.idle": "2024-11-21T00:32:58.407201Z",
     "shell.execute_reply": "2024-11-21T00:32:58.406347Z"
    },
    "papermill": {
     "duration": 2.279106,
     "end_time": "2024-11-21T00:32:58.408986",
     "exception": false,
     "start_time": "2024-11-21T00:32:56.129880",
     "status": "completed"
    },
    "tags": []
   },
   "outputs": [
    {
     "name": "stderr",
     "output_type": "stream",
     "text": [
      "/tmp/ipykernel_23/1379748154.py:1: SettingWithCopyWarning: \n",
      "A value is trying to be set on a copy of a slice from a DataFrame.\n",
      "Try using .loc[row_indexer,col_indexer] = value instead\n",
      "\n",
      "See the caveats in the documentation: https://pandas.pydata.org/pandas-docs/stable/user_guide/indexing.html#returning-a-view-versus-a-copy\n",
      "  data_test['exact_match'] = data_test['target'] == data_test['predicted']\n"
     ]
    }
   ],
   "source": [
    "data_test['exact_match'] = data_test['target'] == data_test['predicted']"
   ]
  },
  {
   "cell_type": "code",
   "execution_count": 71,
   "id": "f70984b4",
   "metadata": {
    "execution": {
     "iopub.execute_input": "2024-11-21T00:33:03.086456Z",
     "iopub.status.busy": "2024-11-21T00:33:03.086128Z",
     "iopub.status.idle": "2024-11-21T00:33:03.096529Z",
     "shell.execute_reply": "2024-11-21T00:33:03.095629Z"
    },
    "papermill": {
     "duration": 2.347718,
     "end_time": "2024-11-21T00:33:03.098151",
     "exception": false,
     "start_time": "2024-11-21T00:33:00.750433",
     "status": "completed"
    },
    "tags": []
   },
   "outputs": [
    {
     "data": {
      "text/html": [
       "<div>\n",
       "<style scoped>\n",
       "    .dataframe tbody tr th:only-of-type {\n",
       "        vertical-align: middle;\n",
       "    }\n",
       "\n",
       "    .dataframe tbody tr th {\n",
       "        vertical-align: top;\n",
       "    }\n",
       "\n",
       "    .dataframe thead th {\n",
       "        text-align: right;\n",
       "    }\n",
       "</style>\n",
       "<table border=\"1\" class=\"dataframe\">\n",
       "  <thead>\n",
       "    <tr style=\"text-align: right;\">\n",
       "      <th></th>\n",
       "      <th>source</th>\n",
       "      <th>target</th>\n",
       "      <th>predicted</th>\n",
       "      <th>exact_match</th>\n",
       "    </tr>\n",
       "  </thead>\n",
       "  <tbody>\n",
       "    <tr>\n",
       "      <th>104</th>\n",
       "      <td>में परिवर्तन सामिल है</td>\n",
       "      <td>में  परिवर्तन शामिल है</td>\n",
       "      <td>में परिवर्तन शामिल है</td>\n",
       "      <td>False</td>\n",
       "    </tr>\n",
       "    <tr>\n",
       "      <th>105</th>\n",
       "      <td>में परिवर्तन है</td>\n",
       "      <td>में  परिवर्तन है</td>\n",
       "      <td>में परिवर्तन है</td>\n",
       "      <td>False</td>\n",
       "    </tr>\n",
       "    <tr>\n",
       "      <th>223</th>\n",
       "      <td>ये दिलली से हैं</td>\n",
       "      <td>ये दिल्ली से हैं</td>\n",
       "      <td>ये दिल्ली से हैं</td>\n",
       "      <td>True</td>\n",
       "    </tr>\n",
       "    <tr>\n",
       "      <th>283</th>\n",
       "      <td>सैदपूर दूर्गा मंदिर</td>\n",
       "      <td>सैदपुर दुर्गा मंदिर</td>\n",
       "      <td>सैदपुर दुर्गा मंदिर</td>\n",
       "      <td>True</td>\n",
       "    </tr>\n",
       "    <tr>\n",
       "      <th>313</th>\n",
       "      <td>इसकी जलधारण क्समता है</td>\n",
       "      <td>इसकी जलधारण क्षमता है</td>\n",
       "      <td>इसकी क्षमता क्षमता है</td>\n",
       "      <td>False</td>\n",
       "    </tr>\n",
       "  </tbody>\n",
       "</table>\n",
       "</div>"
      ],
      "text/plain": [
       "                    source                  target              predicted  \\\n",
       "104  में परिवर्तन सामिल है  में  परिवर्तन शामिल है  में परिवर्तन शामिल है   \n",
       "105        में परिवर्तन है        में  परिवर्तन है        में परिवर्तन है   \n",
       "223        ये दिलली से हैं        ये दिल्ली से हैं       ये दिल्ली से हैं   \n",
       "283    सैदपूर दूर्गा मंदिर     सैदपुर दुर्गा मंदिर    सैदपुर दुर्गा मंदिर   \n",
       "313  इसकी जलधारण क्समता है   इसकी जलधारण क्षमता है  इसकी क्षमता क्षमता है   \n",
       "\n",
       "     exact_match  \n",
       "104        False  \n",
       "105        False  \n",
       "223         True  \n",
       "283         True  \n",
       "313        False  "
      ]
     },
     "execution_count": 71,
     "metadata": {},
     "output_type": "execute_result"
    }
   ],
   "source": [
    "data_test.head()"
   ]
  },
  {
   "cell_type": "code",
   "execution_count": 72,
   "id": "fac66f16",
   "metadata": {
    "execution": {
     "iopub.execute_input": "2024-11-21T00:33:07.790393Z",
     "iopub.status.busy": "2024-11-21T00:33:07.790050Z",
     "iopub.status.idle": "2024-11-21T00:33:07.795196Z",
     "shell.execute_reply": "2024-11-21T00:33:07.794368Z"
    },
    "papermill": {
     "duration": 2.364375,
     "end_time": "2024-11-21T00:33:07.797231",
     "exception": false,
     "start_time": "2024-11-21T00:33:05.432856",
     "status": "completed"
    },
    "tags": []
   },
   "outputs": [
    {
     "name": "stdout",
     "output_type": "stream",
     "text": [
      "Accuracy: 81.67%\n"
     ]
    }
   ],
   "source": [
    "# Assuming `data` is your DataFrame\n",
    "accuracy = data_test['exact_match'].mean()  # This will give the percentage of True values in the 'exact_match' column\n",
    "print(f\"Accuracy: {accuracy * 100:.2f}%\")"
   ]
  }
 ],
 "metadata": {
  "kaggle": {
   "accelerator": "gpu",
   "dataSources": [
    {
     "datasetId": 6088676,
     "sourceId": 9909589,
     "sourceType": "datasetVersion"
    }
   ],
   "dockerImageVersionId": 30788,
   "isGpuEnabled": true,
   "isInternetEnabled": true,
   "language": "python",
   "sourceType": "notebook"
  },
  "kernelspec": {
   "display_name": "Python 3",
   "language": "python",
   "name": "python3"
  },
  "language_info": {
   "codemirror_mode": {
    "name": "ipython",
    "version": 3
   },
   "file_extension": ".py",
   "mimetype": "text/x-python",
   "name": "python",
   "nbconvert_exporter": "python",
   "pygments_lexer": "ipython3",
   "version": "3.10.14"
  },
  "papermill": {
   "default_parameters": {},
   "duration": 5692.324606,
   "end_time": "2024-11-21T00:33:13.871570",
   "environment_variables": {},
   "exception": null,
   "input_path": "__notebook__.ipynb",
   "output_path": "__notebook__.ipynb",
   "parameters": {},
   "start_time": "2024-11-20T22:58:21.546964",
   "version": "2.6.0"
  }
 },
 "nbformat": 4,
 "nbformat_minor": 5
}
